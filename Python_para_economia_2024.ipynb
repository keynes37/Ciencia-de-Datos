{
  "nbformat": 4,
  "nbformat_minor": 5,
  "metadata": {
    "kernelspec": {
      "display_name": "Python 3",
      "language": "python",
      "name": "python3"
    },
    "language_info": {
      "codemirror_mode": {
        "name": "ipython",
        "version": 3
      },
      "file_extension": ".py",
      "mimetype": "text/x-python",
      "name": "python",
      "nbconvert_exporter": "python",
      "pygments_lexer": "ipython3",
      "version": "3.8.8"
    },
    "colab": {
      "provenance": [],
      "include_colab_link": true
    }
  },
  "cells": [
    {
      "cell_type": "markdown",
      "metadata": {
        "id": "view-in-github",
        "colab_type": "text"
      },
      "source": [
        "<a href=\"https://colab.research.google.com/github/keynes37/Ciencia-de-datos/blob/main/Python_para_economia_2024.ipynb\" target=\"_parent\"><img src=\"https://colab.research.google.com/assets/colab-badge.svg\" alt=\"Open In Colab\"/></a>"
      ]
    },
    {
      "cell_type": "markdown",
      "metadata": {
        "id": "f03f8c4a"
      },
      "source": [
        "# Curso Introductorio Python (Data Science)"
      ],
      "id": "f03f8c4a"
    },
    {
      "cell_type": "markdown",
      "metadata": {
        "id": "e4070a7d"
      },
      "source": [
        "## Departamento de Economía\n",
        "## Universidad del Norte\n",
        "### Verano Uninorte: Econ Class 2024\n",
        "\n",
        "#### Carlos Andrés Yanes Guerra\n",
        "Este es un modulo a nivel introductorio del departamento de Economía en Python para el desarrollo de algunas aplicaciones en la parte de simulación de modelos"
      ],
      "id": "e4070a7d"
    },
    {
      "cell_type": "markdown",
      "metadata": {
        "id": "d76a15e6"
      },
      "source": [
        "Python es un **lenguaje** de programación de fácil aplicación, puede encontrarlo en su [webside](https://www.python.org). Sirve para programar o escribir código tal como lo hacen programas como [Java](https://www.java.com/es/), [C++](https://es.wikipedia.org/wiki/C%2B%2B), entre otros.\n",
        "\n",
        "Un poco de su historia y su creador lo podemos encontrar acá:"
      ],
      "id": "d76a15e6"
    },
    {
      "cell_type": "code",
      "metadata": {
        "scrolled": true,
        "id": "d30bb321",
        "outputId": "927b0151-6936-4389-e30d-a6d7a450fc01",
        "colab": {
          "base_uri": "https://localhost:8080/",
          "height": 321
        }
      },
      "source": [
        "from IPython.display import YouTubeVideo\n",
        "\n",
        "YouTubeVideo('J0Aq44Pze-w', width=800, height=300)"
      ],
      "id": "d30bb321",
      "execution_count": null,
      "outputs": [
        {
          "output_type": "execute_result",
          "data": {
            "text/plain": [
              "<IPython.lib.display.YouTubeVideo at 0x7a29e5aab2e0>"
            ],
            "text/html": [
              "\n",
              "        <iframe\n",
              "            width=\"800\"\n",
              "            height=\"300\"\n",
              "            src=\"https://www.youtube.com/embed/J0Aq44Pze-w\"\n",
              "            frameborder=\"0\"\n",
              "            allowfullscreen\n",
              "            \n",
              "        ></iframe>\n",
              "        "
            ],
            "image/jpeg": "[encoded data removed]"
          },
          "metadata": {},
          "execution_count": 2
        }
      ]
    },
    {
      "cell_type": "markdown",
      "metadata": {
        "id": "c0713be6"
      },
      "source": [
        "## Preambulo"
      ],
      "id": "c0713be6"
    },
    {
      "cell_type": "markdown",
      "metadata": {
        "id": "b56131a4"
      },
      "source": [
        "Para esta ocasión trabajamos con la interfaz de **Jupyter Notebook** que podrá encontrar en google Colab.\n",
        "\n",
        "![](images/Jupyter.gif)"
      ],
      "id": "b56131a4"
    },
    {
      "cell_type": "markdown",
      "metadata": {
        "id": "1593a50d"
      },
      "source": [
        "Dentro de los cuales en esta parte si usted no es **programador(a)** surge entonces especializarse en un par de `paquetes` o `libraries` que son para el uso precindible de los economistas en el mundo de **Python** y del **Análisis de Datos**, estos son:\n",
        "\n",
        "\n",
        "<img src='https://drive.google.com/uc?export=view&id=1SU_J6lr7X30pnmbk5nQmF18i9SRpzVww'>\n",
        "\n",
        "\n",
        "\n",
        "\n",
        "\n"
      ],
      "id": "1593a50d"
    },
    {
      "cell_type": "markdown",
      "metadata": {
        "id": "bbfb0024"
      },
      "source": [
        "El IDE **Jupyter** se abrirá en el explorador de internet que usted tenga por default en su PC llamese _Chrome, Edge, Opera, Mozilla_. Lo bueno de **Jupyter** es que automaticamente produce documentos *Markdown* y la interfaz con los `chunks` se vuelve mucho mejor. Empecemos entonces a mirar lo consecuente a análisis de datos y la implementacion en este IDE."
      ],
      "id": "bbfb0024"
    },
    {
      "cell_type": "markdown",
      "metadata": {
        "id": "046e2d93"
      },
      "source": [
        "## Ciencia de datos"
      ],
      "id": "046e2d93"
    },
    {
      "cell_type": "markdown",
      "metadata": {
        "id": "1a2d3c9b"
      },
      "source": [
        "La ciencia de datos involucra tres areas considerables que son:\n",
        "    \n",
        "<img src='https://drive.google.com/uc?export=view&id=1ag46maxxp7rDOuTW-oU9HQd16rd485os'>\n"
      ],
      "id": "1a2d3c9b"
    },
    {
      "cell_type": "markdown",
      "metadata": {
        "id": "db5f5aef"
      },
      "source": [
        "Paquetes como **pandas** pueden encontrar su documentación en el siguiente [enlace](https://pandas.pydata.org), donde tendrá ejemplos y una forma de _manual_ para entender mejor como funciona. Adicionalmente esta [Numpy](https://numpy.org) que tambien tiene una ligera similitud con **Pandas** para trabajar los datos y aplicar o hacer operaciones. Para la parte gráfica se encuentran los `paquetes` de [Seaborn](https://seaborn.pydata.org) y [Matplotlib](https://matplotlib.org) respectivamente. Su uso, dependerá de lo que requiere el cientifico y/o el cliente.\n",
        "\n"
      ],
      "id": "db5f5aef"
    },
    {
      "cell_type": "markdown",
      "metadata": {
        "id": "79d12c0f"
      },
      "source": [
        "## Python como calculadora"
      ],
      "id": "79d12c0f"
    },
    {
      "cell_type": "markdown",
      "metadata": {
        "id": "ec21230a"
      },
      "source": [
        "En un principio, sin importar `paquetes` el lenguaje de _programación_ de **Python** funciona de manera similar si tuviera una calculadora a la mano.\n",
        "\n",
        "~~~python\n",
        "# Aritmética\n",
        "250000+ 512000\n",
        "# Multiplicación\n",
        "330*52\n",
        "# División\n",
        "450/30\n",
        "# Potencia\n",
        "2**3\n",
        "~~~\n",
        "\n",
        "Los resultados se les mostrará en la linea siguiende precedidos de un `Out [ ]` y un número. Es la forma en como el _programa_ organiza las salidas o hace seguimiento de lo que usted estima o hace."
      ],
      "id": "ec21230a"
    },
    {
      "cell_type": "markdown",
      "metadata": {
        "id": "4ee2ee40"
      },
      "source": [
        "#### Ejecución de lo anterior"
      ],
      "id": "4ee2ee40"
    },
    {
      "cell_type": "code",
      "metadata": {
        "id": "c7802154",
        "outputId": "c99b50ac-4219-4ec4-9088-a288ff7dc4a6",
        "colab": {
          "base_uri": "https://localhost:8080/"
        }
      },
      "source": [
        "# Aritmética y otros ejercicios\n",
        "250000+ 512000"
      ],
      "id": "c7802154",
      "execution_count": 2,
      "outputs": [
        {
          "output_type": "execute_result",
          "data": {
            "text/plain": [
              "762000"
            ]
          },
          "metadata": {},
          "execution_count": 2
        }
      ]
    },
    {
      "cell_type": "code",
      "metadata": {
        "id": "89b845d6",
        "outputId": "6c6a8c2e-4ce0-4bd1-c18d-2f1321f503b7",
        "colab": {
          "base_uri": "https://localhost:8080/"
        }
      },
      "source": [
        "# Multiplicación\n",
        "330*52"
      ],
      "id": "89b845d6",
      "execution_count": 3,
      "outputs": [
        {
          "output_type": "execute_result",
          "data": {
            "text/plain": [
              "17160"
            ]
          },
          "metadata": {},
          "execution_count": 3
        }
      ]
    },
    {
      "cell_type": "code",
      "metadata": {
        "scrolled": true,
        "id": "d9ba8358",
        "outputId": "054cc744-c196-4751-aa2d-f51ad03d4fb2",
        "colab": {
          "base_uri": "https://localhost:8080/"
        }
      },
      "source": [
        "# División\n",
        "450/30"
      ],
      "id": "d9ba8358",
      "execution_count": 4,
      "outputs": [
        {
          "output_type": "execute_result",
          "data": {
            "text/plain": [
              "15.0"
            ]
          },
          "metadata": {},
          "execution_count": 4
        }
      ]
    },
    {
      "cell_type": "code",
      "metadata": {
        "id": "df9b2274",
        "outputId": "a1d5bba4-df28-46dc-d2a2-7f79004f4061",
        "colab": {
          "base_uri": "https://localhost:8080/"
        }
      },
      "source": [
        "# Potencia\n",
        "2**3"
      ],
      "id": "df9b2274",
      "execution_count": 5,
      "outputs": [
        {
          "output_type": "execute_result",
          "data": {
            "text/plain": [
              "8"
            ]
          },
          "metadata": {},
          "execution_count": 5
        }
      ]
    },
    {
      "cell_type": "markdown",
      "metadata": {
        "id": "1a62f341"
      },
      "source": [
        "#### Nota 1\n",
        "**Python** Puede correr lo anterior en una sola celda, solo que solo le mostrará el último resultado. _P.e_:"
      ],
      "id": "1a62f341"
    },
    {
      "cell_type": "code",
      "metadata": {
        "scrolled": true,
        "id": "56e409ac",
        "outputId": "8740366f-5214-4c09-e901-bf260d967699",
        "colab": {
          "base_uri": "https://localhost:8080/"
        }
      },
      "source": [
        "# Aritmética\n",
        "250000+ 512000\n",
        "# Multiplicación\n",
        "330*52\n",
        "# División\n",
        "450/30"
      ],
      "id": "56e409ac",
      "execution_count": 6,
      "outputs": [
        {
          "output_type": "execute_result",
          "data": {
            "text/plain": [
              "15.0"
            ]
          },
          "metadata": {},
          "execution_count": 6
        }
      ]
    },
    {
      "cell_type": "markdown",
      "metadata": {
        "id": "e48c80c3"
      },
      "source": [
        "_Para tener los distintos resultados de cada una de las operaciones se recomienda la opción de_ `print` y haber asignado a una letra (cualquiera) el resultado de operación"
      ],
      "id": "e48c80c3"
    },
    {
      "cell_type": "code",
      "metadata": {
        "scrolled": true,
        "id": "5e771b06",
        "outputId": "f08ff2ea-deef-411f-b748-49f7d4e74160",
        "colab": {
          "base_uri": "https://localhost:8080/"
        }
      },
      "source": [
        "# Aritmética\n",
        "a=250000+ 512000\n",
        "print(a)\n",
        "# Multiplicación\n",
        "b=330*52\n",
        "print(b)\n",
        "# División\n",
        "c= 450/30\n",
        "print(c)"
      ],
      "id": "5e771b06",
      "execution_count": 7,
      "outputs": [
        {
          "output_type": "stream",
          "name": "stdout",
          "text": [
            "762000\n",
            "17160\n",
            "15.0\n"
          ]
        }
      ]
    },
    {
      "cell_type": "markdown",
      "metadata": {
        "id": "0eb69613"
      },
      "source": [
        "El comando `print` es bastante conocido en estos ambitos, tiene distintos usos, a continuación un par de ejemplos de el:"
      ],
      "id": "0eb69613"
    },
    {
      "cell_type": "markdown",
      "metadata": {
        "id": "662b6f18"
      },
      "source": [
        "##### Ejemplo 1"
      ],
      "id": "662b6f18"
    },
    {
      "cell_type": "code",
      "metadata": {
        "id": "d5b00290",
        "outputId": "973517e8-74c1-481d-c308-2c1b78daa61e",
        "colab": {
          "base_uri": "https://localhost:8080/"
        }
      },
      "source": [
        "print('Living Uninorte en Verano')"
      ],
      "id": "d5b00290",
      "execution_count": 8,
      "outputs": [
        {
          "output_type": "stream",
          "name": "stdout",
          "text": [
            "Living Uninorte en Verano\n"
          ]
        }
      ]
    },
    {
      "cell_type": "markdown",
      "metadata": {
        "id": "029de550"
      },
      "source": [
        "##### Ejemplo 2"
      ],
      "id": "029de550"
    },
    {
      "cell_type": "markdown",
      "metadata": {
        "id": "6460bc89"
      },
      "source": [
        "sea $x_i \\; donde\\; i \\in{1,2,3,\\dots,n}$"
      ],
      "id": "6460bc89"
    },
    {
      "cell_type": "code",
      "metadata": {
        "scrolled": true,
        "id": "07e40c69",
        "outputId": "f0ce17bc-baee-4e6f-b98b-81bb42b3ebf3",
        "colab": {
          "base_uri": "https://localhost:8080/"
        }
      },
      "source": [
        "for i in range(10):\n",
        "    print('Se acerca la hora de la verdad')"
      ],
      "id": "07e40c69",
      "execution_count": 9,
      "outputs": [
        {
          "output_type": "stream",
          "name": "stdout",
          "text": [
            "Se acerca la hora de la verdad\n",
            "Se acerca la hora de la verdad\n",
            "Se acerca la hora de la verdad\n",
            "Se acerca la hora de la verdad\n",
            "Se acerca la hora de la verdad\n",
            "Se acerca la hora de la verdad\n",
            "Se acerca la hora de la verdad\n",
            "Se acerca la hora de la verdad\n",
            "Se acerca la hora de la verdad\n",
            "Se acerca la hora de la verdad\n"
          ]
        }
      ]
    },
    {
      "cell_type": "markdown",
      "metadata": {
        "id": "db65e867"
      },
      "source": [
        "Si observa lo anterior, el programa ejecuto una especie de \"plana\" **automaticamente**, eso fue posible por los elementos que hacen parte de un _loop_ (secuencia de repetición en programación). Este tipo de elementos permiten simplificar ampliamente las opciones del codigo en linea. La opción de `for` le esta diciendo que para un grupo de elementos compuestos y que van de $i={1,2,3,\\dots,n}$, en este caso vamos a establecer a $n$ siendo el tamaño de la muestra (n) en estadística como $10$ (son las observaciones de nuestra muestra).\n",
        "\n",
        "Ahora haga lo mismo las veces que se les indica. La opción de `range` es el límite final de $i$."
      ],
      "id": "db65e867"
    },
    {
      "cell_type": "markdown",
      "metadata": {
        "id": "0074eada"
      },
      "source": [
        "Hay utilidades en **Python** que van en la construcción de solicitudes de autorellenado, _p.e_: haremos uso de `input` y del programa _datetime_ que le permitirá ver el día en el que nació de acuerdo a una información que recibe el algoritmo"
      ],
      "id": "0074eada"
    },
    {
      "cell_type": "code",
      "source": [
        "from datetime import datetime\n",
        "# Diccionario\n",
        "dias_semana = {\n",
        "    \"Monday\": \"lunes\",\n",
        "    \"Tuesday\": \"martes\",\n",
        "    \"Wednesday\": \"miércoles\",\n",
        "    \"Thursday\": \"jueves\",\n",
        "    \"Friday\": \"viernes\",\n",
        "    \"Saturday\": \"sábado\",\n",
        "    \"Sunday\": \"domingo\"\n",
        "}\n",
        "\n",
        "respuesta = input(\"Tu fecha de cumpleaños (DD-MM-YYYY): \")\n",
        "birthday = datetime.strptime(respuesta, \"%d-%m-%Y\")\n",
        "dia_semana_ingles = birthday.strftime(\"%A\")\n",
        "# Una Traduccion\n",
        "dia_semana_espanol = dias_semana[dia_semana_ingles]\n",
        "# Resultado\n",
        "print(\"El día de tu nacimiento fue un \" + dia_semana_espanol + \"!\")\n"
      ],
      "metadata": {
        "colab": {
          "base_uri": "https://localhost:8080/"
        },
        "id": "yw5vOFRg1yB5",
        "outputId": "06de48ba-7a37-43d7-fe29-e7e399b4b9e4"
      },
      "id": "yw5vOFRg1yB5",
      "execution_count": 13,
      "outputs": [
        {
          "output_type": "stream",
          "name": "stdout",
          "text": [
            "Tu fecha de cumpleaños (DD-MM-YYYY): 17-09-2003\n",
            "El día de tu nacimiento fue un miércoles!\n"
          ]
        }
      ]
    },
    {
      "cell_type": "markdown",
      "metadata": {
        "id": "b08a5e0f"
      },
      "source": [
        "#### Texto y vectores"
      ],
      "id": "b08a5e0f"
    },
    {
      "cell_type": "markdown",
      "metadata": {
        "id": "1247286a"
      },
      "source": [
        "Al igual que muchos programas, **Python** hace uso de vectores y/o matrices, en esta parte haremos un pequeño con un vector _númerico_ y uno de _texto_"
      ],
      "id": "1247286a"
    },
    {
      "cell_type": "markdown",
      "metadata": {
        "id": "d1d6e019"
      },
      "source": [
        "##### Ejemplo 3 (númerico)"
      ],
      "id": "d1d6e019"
    },
    {
      "cell_type": "code",
      "metadata": {
        "id": "b3428cc8"
      },
      "source": [
        "# Definimos un vector x\n",
        "x=[1,2,3,4,5,6,7]"
      ],
      "id": "b3428cc8",
      "execution_count": 14,
      "outputs": []
    },
    {
      "cell_type": "markdown",
      "metadata": {
        "id": "5a37da52"
      },
      "source": [
        "Podemos entonces utilizar algunas opciones de **python** como `type, len, append, extend` entre otros."
      ],
      "id": "5a37da52"
    },
    {
      "cell_type": "code",
      "metadata": {
        "id": "3d09bdc8",
        "outputId": "9a46566a-ecfd-438f-9c80-c3c10cc58099",
        "colab": {
          "base_uri": "https://localhost:8080/"
        }
      },
      "source": [
        "type(x)"
      ],
      "id": "3d09bdc8",
      "execution_count": 15,
      "outputs": [
        {
          "output_type": "execute_result",
          "data": {
            "text/plain": [
              "list"
            ]
          },
          "metadata": {},
          "execution_count": 15
        }
      ]
    },
    {
      "cell_type": "code",
      "metadata": {
        "id": "092fa726",
        "outputId": "91658371-af8b-4a65-c0ea-fa2c4ce29067",
        "colab": {
          "base_uri": "https://localhost:8080/"
        }
      },
      "source": [
        "len(x)"
      ],
      "id": "092fa726",
      "execution_count": 16,
      "outputs": [
        {
          "output_type": "execute_result",
          "data": {
            "text/plain": [
              "7"
            ]
          },
          "metadata": {},
          "execution_count": 16
        }
      ]
    },
    {
      "cell_type": "code",
      "metadata": {
        "id": "93868f25",
        "outputId": "94071672-1cdf-4f9a-e7bb-1e5d22609f1a",
        "colab": {
          "base_uri": "https://localhost:8080/"
        }
      },
      "source": [
        "x.append(8)\n",
        "x"
      ],
      "id": "93868f25",
      "execution_count": 17,
      "outputs": [
        {
          "output_type": "execute_result",
          "data": {
            "text/plain": [
              "[1, 2, 3, 4, 5, 6, 7, 8]"
            ]
          },
          "metadata": {},
          "execution_count": 17
        }
      ]
    },
    {
      "cell_type": "code",
      "metadata": {
        "scrolled": true,
        "id": "8c89696e",
        "outputId": "2fe382c5-3b72-4789-c08c-8d884724fbd4",
        "colab": {
          "base_uri": "https://localhost:8080/"
        }
      },
      "source": [
        "x.extend([9,10,11,12,13])\n",
        "x"
      ],
      "id": "8c89696e",
      "execution_count": 18,
      "outputs": [
        {
          "output_type": "execute_result",
          "data": {
            "text/plain": [
              "[1, 2, 3, 4, 5, 6, 7, 8, 9, 10, 11, 12, 13]"
            ]
          },
          "metadata": {},
          "execution_count": 18
        }
      ]
    },
    {
      "cell_type": "markdown",
      "metadata": {
        "id": "7607f383"
      },
      "source": [
        "#### Nota 2\n",
        "**Python** algunas opciones y comandos funcionan con `( )` otras con `.` y cuando se trata de varios elementos corresponde usar `([])`. _Es cuestión de costumbre para eso_"
      ],
      "id": "7607f383"
    },
    {
      "cell_type": "markdown",
      "metadata": {
        "id": "d24526c9"
      },
      "source": [
        "Podemos calcular la raíz cuadrada de cada elemento de la siguiente forma:"
      ],
      "id": "d24526c9"
    },
    {
      "cell_type": "code",
      "metadata": {
        "scrolled": true,
        "id": "60323607",
        "outputId": "894d0d02-61f7-4b0c-d375-cbfee74f56ea",
        "colab": {
          "base_uri": "https://localhost:8080/"
        }
      },
      "source": [
        "# Raíz cudrada en un vector\n",
        "import math\n",
        "x_raiz = []\n",
        "for i in x:\n",
        "    x_raiz.append(math.sqrt(i))\n",
        "print(x_raiz)"
      ],
      "id": "60323607",
      "execution_count": 19,
      "outputs": [
        {
          "output_type": "stream",
          "name": "stdout",
          "text": [
            "[1.0, 1.4142135623730951, 1.7320508075688772, 2.0, 2.23606797749979, 2.449489742783178, 2.6457513110645907, 2.8284271247461903, 3.0, 3.1622776601683795, 3.3166247903554, 3.4641016151377544, 3.605551275463989]\n"
          ]
        }
      ]
    },
    {
      "cell_type": "markdown",
      "metadata": {
        "id": "c41aacaa"
      },
      "source": [
        "##### Ejemplo 4 (Texto)"
      ],
      "id": "c41aacaa"
    },
    {
      "cell_type": "markdown",
      "metadata": {
        "id": "d256939c"
      },
      "source": [
        "En esta parte usaremos texto en **Python**. El programa podrá detectar siempre y cuando lo marque entre comillas `(\" \")`, miremos a continuación:"
      ],
      "id": "d256939c"
    },
    {
      "cell_type": "code",
      "metadata": {
        "id": "dd918ed5"
      },
      "source": [
        "texto='la vida es mas que todo esto'"
      ],
      "id": "dd918ed5",
      "execution_count": 20,
      "outputs": []
    },
    {
      "cell_type": "code",
      "metadata": {
        "scrolled": true,
        "id": "08f2c8a3",
        "outputId": "5ebc4bf8-cca2-4391-a338-bc3e423771db",
        "colab": {
          "base_uri": "https://localhost:8080/",
          "height": 35
        }
      },
      "source": [
        "texto[8]"
      ],
      "id": "08f2c8a3",
      "execution_count": 22,
      "outputs": [
        {
          "output_type": "execute_result",
          "data": {
            "text/plain": [
              "'e'"
            ],
            "application/vnd.google.colaboratory.intrinsic+json": {
              "type": "string"
            }
          },
          "metadata": {},
          "execution_count": 22
        }
      ]
    },
    {
      "cell_type": "markdown",
      "metadata": {
        "id": "98dd9822"
      },
      "source": [
        "_Observe que no tiene en cuenta los espacios, para el programa `[4]` es el valor de \"i\"._"
      ],
      "id": "98dd9822"
    },
    {
      "cell_type": "code",
      "metadata": {
        "id": "b7f05cc5",
        "outputId": "3d635fad-a8a0-40b6-d652-ba73d96cf47a",
        "colab": {
          "base_uri": "https://localhost:8080/"
        }
      },
      "source": [
        "animales =['Perro', 'Gato', 'Pajaro']\n",
        "plural= [animal + 's' for animal in animales]\n",
        "plural"
      ],
      "id": "b7f05cc5",
      "execution_count": 23,
      "outputs": [
        {
          "output_type": "execute_result",
          "data": {
            "text/plain": [
              "['Perros', 'Gatos', 'Pajaros']"
            ]
          },
          "metadata": {},
          "execution_count": 23
        }
      ]
    },
    {
      "cell_type": "code",
      "metadata": {
        "id": "cb63e883",
        "outputId": "1447e576-cece-4e87-b1c3-91f411199e76",
        "colab": {
          "base_uri": "https://localhost:8080/"
        }
      },
      "source": [
        "n=12\n",
        "print(\"El numero de años que llevo en la U dictando Econometría es de\",n)"
      ],
      "id": "cb63e883",
      "execution_count": 24,
      "outputs": [
        {
          "output_type": "stream",
          "name": "stdout",
          "text": [
            "El numero de años que llevo en la U dictando Econometría es de 12\n"
          ]
        }
      ]
    },
    {
      "cell_type": "markdown",
      "metadata": {
        "id": "162408e7"
      },
      "source": [
        "### Ecuaciones y algebra"
      ],
      "id": "162408e7"
    },
    {
      "cell_type": "markdown",
      "metadata": {
        "id": "3b100629"
      },
      "source": [
        "El programa **Python** tambien permite hacer despejes o hallar valores de incognitas que tengamos, para eso lo bueno es importar el paquete de `Symbol`."
      ],
      "id": "3b100629"
    },
    {
      "cell_type": "markdown",
      "metadata": {
        "id": "d56052d4"
      },
      "source": [
        "Recuerda que muchas veces en matemáticas le solicitaban calcular: $(x+y)^2$"
      ],
      "id": "d56052d4"
    },
    {
      "cell_type": "code",
      "metadata": {
        "scrolled": true,
        "id": "c702eae7",
        "outputId": "262ef3d8-5cbd-4f53-bb3b-9eec726211bc",
        "colab": {
          "base_uri": "https://localhost:8080/",
          "height": 39
        }
      },
      "source": [
        "from sympy import Symbol\n",
        "x,y= Symbol('x'), Symbol('y')\n",
        "expression=(x-y)**2\n",
        "expression.expand()"
      ],
      "id": "c702eae7",
      "execution_count": 25,
      "outputs": [
        {
          "output_type": "execute_result",
          "data": {
            "text/plain": [
              "x**2 - 2*x*y + y**2"
            ],
            "text/latex": "$\\displaystyle x^{2} - 2 x y + y^{2}$"
          },
          "metadata": {},
          "execution_count": 25
        }
      ]
    },
    {
      "cell_type": "markdown",
      "metadata": {
        "id": "3a6b2488"
      },
      "source": [
        "En cuestión de despeje debe usar `solve`, suponga como en Microeconomía le piden que halle el **precio de equilibrio** de una función de demanda y oferta que son las siguientes:\n",
        "$$Q_d=30-2p \\quad Q_s=20+p$$"
      ],
      "id": "3a6b2488"
    },
    {
      "cell_type": "code",
      "metadata": {
        "scrolled": false,
        "id": "cfbfb247",
        "outputId": "4c062c56-9a0e-4633-fcd2-692a6d086ef1",
        "colab": {
          "base_uri": "https://localhost:8080/"
        }
      },
      "source": [
        "from sympy import solve\n",
        "p=Symbol('p')\n",
        "precio=solve(30-2*p-20-p)\n",
        "print(\"El precio de equilibrio de este mercado es\", precio)"
      ],
      "id": "cfbfb247",
      "execution_count": 28,
      "outputs": [
        {
          "output_type": "stream",
          "name": "stdout",
          "text": [
            "El precio de equilibrio de este mercado es [10/3]\n"
          ]
        }
      ]
    },
    {
      "cell_type": "code",
      "metadata": {
        "id": "0be3dddd",
        "outputId": "fcaa0eac-da6e-40ef-9443-55e937f4fbdb",
        "colab": {
          "base_uri": "https://localhost:8080/"
        }
      },
      "source": [
        "10/3"
      ],
      "id": "0be3dddd",
      "execution_count": 29,
      "outputs": [
        {
          "output_type": "execute_result",
          "data": {
            "text/plain": [
              "3.3333333333333335"
            ]
          },
          "metadata": {},
          "execution_count": 29
        }
      ]
    },
    {
      "cell_type": "markdown",
      "source": [
        "Si quiero que el resultado sea personalizado y quede redondeado a dos cifras puedo hacer lo siguiente:"
      ],
      "metadata": {
        "id": "IWESBrwWxnim"
      },
      "id": "IWESBrwWxnim"
    },
    {
      "cell_type": "code",
      "source": [
        "# Para redondear\n",
        "precio = round(10/3, 2)  # Redondear a 2 decimales\n",
        "mensaje = f\"Este es el precio del mercado: ${precio}\"\n",
        "print(mensaje)\n"
      ],
      "metadata": {
        "colab": {
          "base_uri": "https://localhost:8080/"
        },
        "id": "0XdTVcXdxyvr",
        "outputId": "00ce2c22-18fa-43f9-f2aa-a639412200be"
      },
      "id": "0XdTVcXdxyvr",
      "execution_count": 30,
      "outputs": [
        {
          "output_type": "stream",
          "name": "stdout",
          "text": [
            "Este es el precio del mercado: $3.33\n"
          ]
        }
      ]
    },
    {
      "cell_type": "markdown",
      "metadata": {
        "id": "740e861a"
      },
      "source": [
        "Recuerda tambien que alguna vez le insistieron demasiado en la formula:\n",
        "$$\\frac{-b \\pm \\sqrt{b^2+4(a)(c)}}{2a}$$\n",
        "Pues acá lo puede hacer, si le pidieran $5x^2+7x+2$"
      ],
      "id": "740e861a"
    },
    {
      "cell_type": "code",
      "metadata": {
        "id": "1d4ac409",
        "outputId": "98ff5b36-aa8d-4eef-8f41-1bcc6b37d368",
        "colab": {
          "base_uri": "https://localhost:8080/"
        }
      },
      "source": [
        "solve(5*x**2+7*x+2)"
      ],
      "id": "1d4ac409",
      "execution_count": 31,
      "outputs": [
        {
          "output_type": "execute_result",
          "data": {
            "text/plain": [
              "[-1, -2/5]"
            ]
          },
          "metadata": {},
          "execution_count": 31
        }
      ]
    },
    {
      "cell_type": "markdown",
      "source": [
        "Las raices del polinomio anterior fueron o son $(-1)\\; y \\; (-2/5)$"
      ],
      "metadata": {
        "id": "7kfHrhRMyRqX"
      },
      "id": "7kfHrhRMyRqX"
    },
    {
      "cell_type": "markdown",
      "metadata": {
        "id": "3993d604"
      },
      "source": [
        "### Practica 1 (El profesor podrá solicitar que lo muestre en pantalla)\n",
        "\n",
        "En un _notebook nuevo_ responda lo siguiente:\n",
        "\n",
        "1. Resuelva los siguientes cálculos\n",
        "    a). $2145 + 4250 + 6215$\n",
        "    b). $43^{11}$\n",
        "    c). $456/15$\n",
        "2. En una celda única genere los datos con la versión `print`\n",
        "3. Genere un `loop` de `print` con un texto cualquira cuando $n=15$\n",
        "4. Construya un vector con los elementos de 10 al 35, _puede hacerlo de forma manual o usar la opción_ `list(range(inicio, fin))`\n",
        "5. Calcule la raíz cuadrada en un vector nuevo del anterior vector."
      ],
      "id": "3993d604"
    },
    {
      "cell_type": "markdown",
      "metadata": {
        "id": "70ac82a4"
      },
      "source": [
        "\n",
        "\n",
        "\n",
        "## Mi primer código en Python"
      ],
      "id": "70ac82a4"
    },
    {
      "cell_type": "markdown",
      "metadata": {
        "id": "f2d48997"
      },
      "source": [
        "Como ocurrió en el último ejemplo, **Python** operacionaliza a partir de códigos u ordenes  "
      ],
      "id": "f2d48997"
    },
    {
      "cell_type": "markdown",
      "metadata": {
        "id": "4ba3020b"
      },
      "source": [
        "<img src='https://drive.google.com/uc?export=view&id=14NlWcMC7uefXnbpfVTO9HJpu2s3s97nO'>"
      ],
      "id": "4ba3020b"
    },
    {
      "cell_type": "markdown",
      "metadata": {
        "id": "4ee3d94f"
      },
      "source": [
        "Aplicaremos nuestra primera función a la suma de dos valores cualquiera dentro de una expresión"
      ],
      "id": "4ee3d94f"
    },
    {
      "cell_type": "code",
      "metadata": {
        "id": "aec57a29"
      },
      "source": [
        "def sumita(x,y):\n",
        "    \"Va la suma\"\n",
        "    resultado=x+y\n",
        "    return resultado"
      ],
      "id": "aec57a29",
      "execution_count": 32,
      "outputs": []
    },
    {
      "cell_type": "code",
      "metadata": {
        "id": "e1aa18f8"
      },
      "source": [
        "def multiplicacion_de_valores(x,y,r):\n",
        "    \"Algo que me acabo de inventar\"\n",
        "    resultado= x*y*r\n",
        "    return resultado"
      ],
      "id": "e1aa18f8",
      "execution_count": 33,
      "outputs": []
    },
    {
      "cell_type": "code",
      "metadata": {
        "scrolled": true,
        "id": "31e38a0c",
        "outputId": "81096e55-0ca5-4828-875e-bad2021b4842",
        "colab": {
          "base_uri": "https://localhost:8080/"
        }
      },
      "source": [
        "multiplicacion_de_valores(2,7,3)"
      ],
      "id": "31e38a0c",
      "execution_count": 34,
      "outputs": [
        {
          "output_type": "execute_result",
          "data": {
            "text/plain": [
              "42"
            ]
          },
          "metadata": {},
          "execution_count": 34
        }
      ]
    },
    {
      "cell_type": "markdown",
      "metadata": {
        "id": "15704ca7"
      },
      "source": [
        "Recuerda que en matemáticas _Financieras_ le piden a uno siempre calcular tasas de interés capitalizables a cierto periodo de tiempo. En esta parte miraremos pasar una tasa de interés nominal anual a una efectiva anual.\n",
        "\n",
        "La formula es **Tasa Efectiva**= $(1+\\frac{T.P}{periodo})^{periodo} - 1$"
      ],
      "id": "15704ca7"
    },
    {
      "cell_type": "code",
      "metadata": {
        "id": "40c51956"
      },
      "source": [
        "def tasa_efectiva(te,periodo):\n",
        "    resultado=(1+te/periodo)**periodo -1\n",
        "    return resultado"
      ],
      "id": "40c51956",
      "execution_count": 35,
      "outputs": []
    },
    {
      "cell_type": "code",
      "metadata": {
        "id": "bd49d491",
        "outputId": "9b89a2dd-764c-4f3f-d938-ec7cc85c0cc6",
        "colab": {
          "base_uri": "https://localhost:8080/"
        }
      },
      "source": [
        "tasa_efectiva(0.22,12)"
      ],
      "id": "bd49d491",
      "execution_count": 36,
      "outputs": [
        {
          "output_type": "execute_result",
          "data": {
            "text/plain": [
              "0.24359657794448242"
            ]
          },
          "metadata": {},
          "execution_count": 36
        }
      ]
    },
    {
      "cell_type": "markdown",
      "metadata": {
        "id": "435fe784"
      },
      "source": [
        "De igual forma puede implementar formulas sencillas sin usar el mecanismo de funciones. Mire bien la parte para el calculo del **retorno** de una acción:\n",
        "$$\n",
        "Retorno = \\frac{Cierre_t}{Cierre_{t-1}} - 1\n",
        "$$"
      ],
      "id": "435fe784"
    },
    {
      "cell_type": "code",
      "metadata": {
        "id": "16781012",
        "outputId": "25d49ea9-7fee-4f73-df97-dc1cf339972a",
        "colab": {
          "base_uri": "https://localhost:8080/"
        }
      },
      "source": [
        "cierre_2_noviembre = 66.750\n",
        "cierre_3_noviembre = 61.968\n",
        "retorno_3_noviembre = (cierre_3_noviembre / cierre_2_noviembre) - 1\n",
        "print(retorno_3_noviembre)"
      ],
      "id": "16781012",
      "execution_count": null,
      "outputs": [
        {
          "output_type": "stream",
          "name": "stdout",
          "text": [
            "-0.07164044943820225\n"
          ]
        }
      ]
    },
    {
      "cell_type": "markdown",
      "metadata": {
        "id": "7fca8d02"
      },
      "source": [
        "#### Otro ejemplo:\n",
        "\n",
        "Asuma que le preguntan lo siguiente ahora:\n",
        "**Pregunta**: Una pelota es lanzada desde una altura de 100 metros y rebota hasta la mitad de su altura original cada vez que golpea el suelo; ¿cuántos metros pasa cuando golpea el suelo por décima vez (10)? ¿Qué altura toma ese décimo rebote?"
      ],
      "id": "7fca8d02"
    },
    {
      "cell_type": "code",
      "metadata": {
        "id": "9cce6fda",
        "outputId": "4236f97a-3c90-4b3e-dd8c-df04eb504a3b",
        "colab": {
          "base_uri": "https://localhost:8080/"
        }
      },
      "source": [
        "altura = 100 # va en metros\n",
        "pelota = 1\n",
        "while pelota <= 10:\n",
        "    altura = altura * (1/2)\n",
        "    print(altura, round(altura, 2))\n",
        "    pelota += 1"
      ],
      "id": "9cce6fda",
      "execution_count": null,
      "outputs": [
        {
          "output_type": "stream",
          "name": "stdout",
          "text": [
            "50.0 50.0\n",
            "25.0 25.0\n",
            "12.5 12.5\n",
            "6.25 6.25\n",
            "3.125 3.12\n",
            "1.5625 1.56\n",
            "0.78125 0.78\n",
            "0.390625 0.39\n",
            "0.1953125 0.2\n",
            "0.09765625 0.1\n"
          ]
        }
      ]
    },
    {
      "cell_type": "markdown",
      "metadata": {
        "id": "e707ea69"
      },
      "source": [
        "## Data frames (bases de datos)"
      ],
      "id": "e707ea69"
    },
    {
      "cell_type": "markdown",
      "metadata": {
        "id": "ead9f7b3"
      },
      "source": [
        "Los datos que uno usa en **Python** pueden ser manejados con los paquetes (librerias) denominadas <span style=\"color:red\">**Numpy**</span> o si no el famoso <span style=\"color:red\">**Pandas**</span>. el primero es para manejo de datos de forma de _matrices_ y el siguiente sirve para importar, combinar, filtrar o concadenar datos y/o la parte de fragmentos de datos. Todos en referencia al **Data Wrangling** pueden encontrar material de apoyo en [Ayuda Numpy](http://datacamp-community-prod.s3.amazonaws.com/ba1fe95a-8b70-4d2f-95b0-bc954e9071b0) y para [Ayuda Pandas](https://pandas.pydata.org/Pandas_Cheat_Sheet.pdf)"
      ],
      "id": "ead9f7b3"
    },
    {
      "cell_type": "code",
      "metadata": {
        "scrolled": true,
        "id": "b95879c6",
        "outputId": "fc2cfd6a-5893-4b9c-b3ea-5e9a737c72db",
        "colab": {
          "base_uri": "https://localhost:8080/",
          "height": 89
        }
      },
      "source": [
        "import pandas as pd # es clave\n",
        "\n",
        "# Hay tres ciudades bonitas en la costa caribe: Santa Marta, Barranquilla y Magdalena\n",
        "col=['Santa Marta','Barranquilla','Cartagena']\n",
        "df = pd.DataFrame(columns=col) # df es dataframe (siempre se usa)\n",
        "df"
      ],
      "id": "b95879c6",
      "execution_count": 37,
      "outputs": [
        {
          "output_type": "execute_result",
          "data": {
            "text/plain": [
              "Empty DataFrame\n",
              "Columns: [Santa Marta, Barranquilla, Cartagena]\n",
              "Index: []"
            ],
            "text/html": [
              "\n",
              "  <div id=\"df-f1646ff4-e6f2-4bb2-9551-df9ecf7ce3d2\" class=\"colab-df-container\">\n",
              "    <div>\n",
              "<style scoped>\n",
              "    .dataframe tbody tr th:only-of-type {\n",
              "        vertical-align: middle;\n",
              "    }\n",
              "\n",
              "    .dataframe tbody tr th {\n",
              "        vertical-align: top;\n",
              "    }\n",
              "\n",
              "    .dataframe thead th {\n",
              "        text-align: right;\n",
              "    }\n",
              "</style>\n",
              "<table border=\"1\" class=\"dataframe\">\n",
              "  <thead>\n",
              "    <tr style=\"text-align: right;\">\n",
              "      <th></th>\n",
              "      <th>Santa Marta</th>\n",
              "      <th>Barranquilla</th>\n",
              "      <th>Cartagena</th>\n",
              "    </tr>\n",
              "  </thead>\n",
              "  <tbody>\n",
              "  </tbody>\n",
              "</table>\n",
              "</div>\n",
              "    <div class=\"colab-df-buttons\">\n",
              "\n",
              "  <div class=\"colab-df-container\">\n",
              "    <button class=\"colab-df-convert\" onclick=\"convertToInteractive('df-f1646ff4-e6f2-4bb2-9551-df9ecf7ce3d2')\"\n",
              "            title=\"Convert this dataframe to an interactive table.\"\n",
              "            style=\"display:none;\">\n",
              "\n",
              "  <svg xmlns=\"http://www.w3.org/2000/svg\" height=\"24px\" viewBox=\"0 -960 960 960\">\n",
              "    <path d=\"M120-120v-720h720v720H120Zm60-500h600v-160H180v160Zm220 220h160v-160H400v160Zm0 220h160v-160H400v160ZM180-400h160v-160H180v160Zm440 0h160v-160H620v160ZM180-180h160v-160H180v160Zm440 0h160v-160H620v160Z\"/>\n",
              "  </svg>\n",
              "    </button>\n",
              "\n",
              "  <style>\n",
              "    .colab-df-container {\n",
              "      display:flex;\n",
              "      gap: 12px;\n",
              "    }\n",
              "\n",
              "    .colab-df-convert {\n",
              "      background-color: #E8F0FE;\n",
              "      border: none;\n",
              "      border-radius: 50%;\n",
              "      cursor: pointer;\n",
              "      display: none;\n",
              "      fill: #1967D2;\n",
              "      height: 32px;\n",
              "      padding: 0 0 0 0;\n",
              "      width: 32px;\n",
              "    }\n",
              "\n",
              "    .colab-df-convert:hover {\n",
              "      background-color: #E2EBFA;\n",
              "      box-shadow: 0px 1px 2px rgba(60, 64, 67, 0.3), 0px 1px 3px 1px rgba(60, 64, 67, 0.15);\n",
              "      fill: #174EA6;\n",
              "    }\n",
              "\n",
              "    .colab-df-buttons div {\n",
              "      margin-bottom: 4px;\n",
              "    }\n",
              "\n",
              "    [theme=dark] .colab-df-convert {\n",
              "      background-color: #3B4455;\n",
              "      fill: #D2E3FC;\n",
              "    }\n",
              "\n",
              "    [theme=dark] .colab-df-convert:hover {\n",
              "      background-color: #434B5C;\n",
              "      box-shadow: 0px 1px 3px 1px rgba(0, 0, 0, 0.15);\n",
              "      filter: drop-shadow(0px 1px 2px rgba(0, 0, 0, 0.3));\n",
              "      fill: #FFFFFF;\n",
              "    }\n",
              "  </style>\n",
              "\n",
              "    <script>\n",
              "      const buttonEl =\n",
              "        document.querySelector('#df-f1646ff4-e6f2-4bb2-9551-df9ecf7ce3d2 button.colab-df-convert');\n",
              "      buttonEl.style.display =\n",
              "        google.colab.kernel.accessAllowed ? 'block' : 'none';\n",
              "\n",
              "      async function convertToInteractive(key) {\n",
              "        const element = document.querySelector('#df-f1646ff4-e6f2-4bb2-9551-df9ecf7ce3d2');\n",
              "        const dataTable =\n",
              "          await google.colab.kernel.invokeFunction('convertToInteractive',\n",
              "                                                    [key], {});\n",
              "        if (!dataTable) return;\n",
              "\n",
              "        const docLinkHtml = 'Like what you see? Visit the ' +\n",
              "          '<a target=\"_blank\" href=https://colab.research.google.com/notebooks/data_table.ipynb>data table notebook</a>'\n",
              "          + ' to learn more about interactive tables.';\n",
              "        element.innerHTML = '';\n",
              "        dataTable['output_type'] = 'display_data';\n",
              "        await google.colab.output.renderOutput(dataTable, element);\n",
              "        const docLink = document.createElement('div');\n",
              "        docLink.innerHTML = docLinkHtml;\n",
              "        element.appendChild(docLink);\n",
              "      }\n",
              "    </script>\n",
              "  </div>\n",
              "\n",
              "\n",
              "  <div id=\"id_4ca656e2-b255-42da-8c09-dbf3d554717d\">\n",
              "    <style>\n",
              "      .colab-df-generate {\n",
              "        background-color: #E8F0FE;\n",
              "        border: none;\n",
              "        border-radius: 50%;\n",
              "        cursor: pointer;\n",
              "        display: none;\n",
              "        fill: #1967D2;\n",
              "        height: 32px;\n",
              "        padding: 0 0 0 0;\n",
              "        width: 32px;\n",
              "      }\n",
              "\n",
              "      .colab-df-generate:hover {\n",
              "        background-color: #E2EBFA;\n",
              "        box-shadow: 0px 1px 2px rgba(60, 64, 67, 0.3), 0px 1px 3px 1px rgba(60, 64, 67, 0.15);\n",
              "        fill: #174EA6;\n",
              "      }\n",
              "\n",
              "      [theme=dark] .colab-df-generate {\n",
              "        background-color: #3B4455;\n",
              "        fill: #D2E3FC;\n",
              "      }\n",
              "\n",
              "      [theme=dark] .colab-df-generate:hover {\n",
              "        background-color: #434B5C;\n",
              "        box-shadow: 0px 1px 3px 1px rgba(0, 0, 0, 0.15);\n",
              "        filter: drop-shadow(0px 1px 2px rgba(0, 0, 0, 0.3));\n",
              "        fill: #FFFFFF;\n",
              "      }\n",
              "    </style>\n",
              "    <button class=\"colab-df-generate\" onclick=\"generateWithVariable('df')\"\n",
              "            title=\"Generate code using this dataframe.\"\n",
              "            style=\"display:none;\">\n",
              "\n",
              "  <svg xmlns=\"http://www.w3.org/2000/svg\" height=\"24px\"viewBox=\"0 0 24 24\"\n",
              "       width=\"24px\">\n",
              "    <path d=\"M7,19H8.4L18.45,9,17,7.55,7,17.6ZM5,21V16.75L18.45,3.32a2,2,0,0,1,2.83,0l1.4,1.43a1.91,1.91,0,0,1,.58,1.4,1.91,1.91,0,0,1-.58,1.4L9.25,21ZM18.45,9,17,7.55Zm-12,3A5.31,5.31,0,0,0,4.9,8.1,5.31,5.31,0,0,0,1,6.5,5.31,5.31,0,0,0,4.9,4.9,5.31,5.31,0,0,0,6.5,1,5.31,5.31,0,0,0,8.1,4.9,5.31,5.31,0,0,0,12,6.5,5.46,5.46,0,0,0,6.5,12Z\"/>\n",
              "  </svg>\n",
              "    </button>\n",
              "    <script>\n",
              "      (() => {\n",
              "      const buttonEl =\n",
              "        document.querySelector('#id_4ca656e2-b255-42da-8c09-dbf3d554717d button.colab-df-generate');\n",
              "      buttonEl.style.display =\n",
              "        google.colab.kernel.accessAllowed ? 'block' : 'none';\n",
              "\n",
              "      buttonEl.onclick = () => {\n",
              "        google.colab.notebook.generateWithVariable('df');\n",
              "      }\n",
              "      })();\n",
              "    </script>\n",
              "  </div>\n",
              "\n",
              "    </div>\n",
              "  </div>\n"
            ],
            "application/vnd.google.colaboratory.intrinsic+json": {
              "type": "dataframe",
              "variable_name": "df",
              "repr_error": "Out of range float values are not JSON compliant: nan"
            }
          },
          "metadata": {},
          "execution_count": 37
        }
      ]
    },
    {
      "cell_type": "markdown",
      "metadata": {
        "id": "8106e41b"
      },
      "source": [
        "Si deseamos adherir información manualmente podemos entonces tener:"
      ],
      "id": "8106e41b"
    },
    {
      "cell_type": "code",
      "metadata": {
        "id": "0a339d48",
        "outputId": "cb66bb5b-62be-4035-abd0-d90bc52a8078",
        "colab": {
          "base_uri": "https://localhost:8080/",
          "height": 143
        }
      },
      "source": [
        "aos=[2019,2020,2021]\n",
        "Info= [['12500','13400','19200'],['25800','26900','12400'],['49700','76200','77200']]\n",
        "df = pd.DataFrame(Info, columns=col, index=aos)\n",
        "df"
      ],
      "id": "0a339d48",
      "execution_count": 38,
      "outputs": [
        {
          "output_type": "execute_result",
          "data": {
            "text/plain": [
              "     Santa Marta Barranquilla Cartagena\n",
              "2019       12500        13400     19200\n",
              "2020       25800        26900     12400\n",
              "2021       49700        76200     77200"
            ],
            "text/html": [
              "\n",
              "  <div id=\"df-dba7dbc7-eeda-47a6-a576-ee84b59b4150\" class=\"colab-df-container\">\n",
              "    <div>\n",
              "<style scoped>\n",
              "    .dataframe tbody tr th:only-of-type {\n",
              "        vertical-align: middle;\n",
              "    }\n",
              "\n",
              "    .dataframe tbody tr th {\n",
              "        vertical-align: top;\n",
              "    }\n",
              "\n",
              "    .dataframe thead th {\n",
              "        text-align: right;\n",
              "    }\n",
              "</style>\n",
              "<table border=\"1\" class=\"dataframe\">\n",
              "  <thead>\n",
              "    <tr style=\"text-align: right;\">\n",
              "      <th></th>\n",
              "      <th>Santa Marta</th>\n",
              "      <th>Barranquilla</th>\n",
              "      <th>Cartagena</th>\n",
              "    </tr>\n",
              "  </thead>\n",
              "  <tbody>\n",
              "    <tr>\n",
              "      <th>2019</th>\n",
              "      <td>12500</td>\n",
              "      <td>13400</td>\n",
              "      <td>19200</td>\n",
              "    </tr>\n",
              "    <tr>\n",
              "      <th>2020</th>\n",
              "      <td>25800</td>\n",
              "      <td>26900</td>\n",
              "      <td>12400</td>\n",
              "    </tr>\n",
              "    <tr>\n",
              "      <th>2021</th>\n",
              "      <td>49700</td>\n",
              "      <td>76200</td>\n",
              "      <td>77200</td>\n",
              "    </tr>\n",
              "  </tbody>\n",
              "</table>\n",
              "</div>\n",
              "    <div class=\"colab-df-buttons\">\n",
              "\n",
              "  <div class=\"colab-df-container\">\n",
              "    <button class=\"colab-df-convert\" onclick=\"convertToInteractive('df-dba7dbc7-eeda-47a6-a576-ee84b59b4150')\"\n",
              "            title=\"Convert this dataframe to an interactive table.\"\n",
              "            style=\"display:none;\">\n",
              "\n",
              "  <svg xmlns=\"http://www.w3.org/2000/svg\" height=\"24px\" viewBox=\"0 -960 960 960\">\n",
              "    <path d=\"M120-120v-720h720v720H120Zm60-500h600v-160H180v160Zm220 220h160v-160H400v160Zm0 220h160v-160H400v160ZM180-400h160v-160H180v160Zm440 0h160v-160H620v160ZM180-180h160v-160H180v160Zm440 0h160v-160H620v160Z\"/>\n",
              "  </svg>\n",
              "    </button>\n",
              "\n",
              "  <style>\n",
              "    .colab-df-container {\n",
              "      display:flex;\n",
              "      gap: 12px;\n",
              "    }\n",
              "\n",
              "    .colab-df-convert {\n",
              "      background-color: #E8F0FE;\n",
              "      border: none;\n",
              "      border-radius: 50%;\n",
              "      cursor: pointer;\n",
              "      display: none;\n",
              "      fill: #1967D2;\n",
              "      height: 32px;\n",
              "      padding: 0 0 0 0;\n",
              "      width: 32px;\n",
              "    }\n",
              "\n",
              "    .colab-df-convert:hover {\n",
              "      background-color: #E2EBFA;\n",
              "      box-shadow: 0px 1px 2px rgba(60, 64, 67, 0.3), 0px 1px 3px 1px rgba(60, 64, 67, 0.15);\n",
              "      fill: #174EA6;\n",
              "    }\n",
              "\n",
              "    .colab-df-buttons div {\n",
              "      margin-bottom: 4px;\n",
              "    }\n",
              "\n",
              "    [theme=dark] .colab-df-convert {\n",
              "      background-color: #3B4455;\n",
              "      fill: #D2E3FC;\n",
              "    }\n",
              "\n",
              "    [theme=dark] .colab-df-convert:hover {\n",
              "      background-color: #434B5C;\n",
              "      box-shadow: 0px 1px 3px 1px rgba(0, 0, 0, 0.15);\n",
              "      filter: drop-shadow(0px 1px 2px rgba(0, 0, 0, 0.3));\n",
              "      fill: #FFFFFF;\n",
              "    }\n",
              "  </style>\n",
              "\n",
              "    <script>\n",
              "      const buttonEl =\n",
              "        document.querySelector('#df-dba7dbc7-eeda-47a6-a576-ee84b59b4150 button.colab-df-convert');\n",
              "      buttonEl.style.display =\n",
              "        google.colab.kernel.accessAllowed ? 'block' : 'none';\n",
              "\n",
              "      async function convertToInteractive(key) {\n",
              "        const element = document.querySelector('#df-dba7dbc7-eeda-47a6-a576-ee84b59b4150');\n",
              "        const dataTable =\n",
              "          await google.colab.kernel.invokeFunction('convertToInteractive',\n",
              "                                                    [key], {});\n",
              "        if (!dataTable) return;\n",
              "\n",
              "        const docLinkHtml = 'Like what you see? Visit the ' +\n",
              "          '<a target=\"_blank\" href=https://colab.research.google.com/notebooks/data_table.ipynb>data table notebook</a>'\n",
              "          + ' to learn more about interactive tables.';\n",
              "        element.innerHTML = '';\n",
              "        dataTable['output_type'] = 'display_data';\n",
              "        await google.colab.output.renderOutput(dataTable, element);\n",
              "        const docLink = document.createElement('div');\n",
              "        docLink.innerHTML = docLinkHtml;\n",
              "        element.appendChild(docLink);\n",
              "      }\n",
              "    </script>\n",
              "  </div>\n",
              "\n",
              "\n",
              "<div id=\"df-1bf5322a-55a5-4ef4-9ed7-c2cf388c27c2\">\n",
              "  <button class=\"colab-df-quickchart\" onclick=\"quickchart('df-1bf5322a-55a5-4ef4-9ed7-c2cf388c27c2')\"\n",
              "            title=\"Suggest charts\"\n",
              "            style=\"display:none;\">\n",
              "\n",
              "<svg xmlns=\"http://www.w3.org/2000/svg\" height=\"24px\"viewBox=\"0 0 24 24\"\n",
              "     width=\"24px\">\n",
              "    <g>\n",
              "        <path d=\"M19 3H5c-1.1 0-2 .9-2 2v14c0 1.1.9 2 2 2h14c1.1 0 2-.9 2-2V5c0-1.1-.9-2-2-2zM9 17H7v-7h2v7zm4 0h-2V7h2v10zm4 0h-2v-4h2v4z\"/>\n",
              "    </g>\n",
              "</svg>\n",
              "  </button>\n",
              "\n",
              "<style>\n",
              "  .colab-df-quickchart {\n",
              "      --bg-color: #E8F0FE;\n",
              "      --fill-color: #1967D2;\n",
              "      --hover-bg-color: #E2EBFA;\n",
              "      --hover-fill-color: #174EA6;\n",
              "      --disabled-fill-color: #AAA;\n",
              "      --disabled-bg-color: #DDD;\n",
              "  }\n",
              "\n",
              "  [theme=dark] .colab-df-quickchart {\n",
              "      --bg-color: #3B4455;\n",
              "      --fill-color: #D2E3FC;\n",
              "      --hover-bg-color: #434B5C;\n",
              "      --hover-fill-color: #FFFFFF;\n",
              "      --disabled-bg-color: #3B4455;\n",
              "      --disabled-fill-color: #666;\n",
              "  }\n",
              "\n",
              "  .colab-df-quickchart {\n",
              "    background-color: var(--bg-color);\n",
              "    border: none;\n",
              "    border-radius: 50%;\n",
              "    cursor: pointer;\n",
              "    display: none;\n",
              "    fill: var(--fill-color);\n",
              "    height: 32px;\n",
              "    padding: 0;\n",
              "    width: 32px;\n",
              "  }\n",
              "\n",
              "  .colab-df-quickchart:hover {\n",
              "    background-color: var(--hover-bg-color);\n",
              "    box-shadow: 0 1px 2px rgba(60, 64, 67, 0.3), 0 1px 3px 1px rgba(60, 64, 67, 0.15);\n",
              "    fill: var(--button-hover-fill-color);\n",
              "  }\n",
              "\n",
              "  .colab-df-quickchart-complete:disabled,\n",
              "  .colab-df-quickchart-complete:disabled:hover {\n",
              "    background-color: var(--disabled-bg-color);\n",
              "    fill: var(--disabled-fill-color);\n",
              "    box-shadow: none;\n",
              "  }\n",
              "\n",
              "  .colab-df-spinner {\n",
              "    border: 2px solid var(--fill-color);\n",
              "    border-color: transparent;\n",
              "    border-bottom-color: var(--fill-color);\n",
              "    animation:\n",
              "      spin 1s steps(1) infinite;\n",
              "  }\n",
              "\n",
              "  @keyframes spin {\n",
              "    0% {\n",
              "      border-color: transparent;\n",
              "      border-bottom-color: var(--fill-color);\n",
              "      border-left-color: var(--fill-color);\n",
              "    }\n",
              "    20% {\n",
              "      border-color: transparent;\n",
              "      border-left-color: var(--fill-color);\n",
              "      border-top-color: var(--fill-color);\n",
              "    }\n",
              "    30% {\n",
              "      border-color: transparent;\n",
              "      border-left-color: var(--fill-color);\n",
              "      border-top-color: var(--fill-color);\n",
              "      border-right-color: var(--fill-color);\n",
              "    }\n",
              "    40% {\n",
              "      border-color: transparent;\n",
              "      border-right-color: var(--fill-color);\n",
              "      border-top-color: var(--fill-color);\n",
              "    }\n",
              "    60% {\n",
              "      border-color: transparent;\n",
              "      border-right-color: var(--fill-color);\n",
              "    }\n",
              "    80% {\n",
              "      border-color: transparent;\n",
              "      border-right-color: var(--fill-color);\n",
              "      border-bottom-color: var(--fill-color);\n",
              "    }\n",
              "    90% {\n",
              "      border-color: transparent;\n",
              "      border-bottom-color: var(--fill-color);\n",
              "    }\n",
              "  }\n",
              "</style>\n",
              "\n",
              "  <script>\n",
              "    async function quickchart(key) {\n",
              "      const quickchartButtonEl =\n",
              "        document.querySelector('#' + key + ' button');\n",
              "      quickchartButtonEl.disabled = true;  // To prevent multiple clicks.\n",
              "      quickchartButtonEl.classList.add('colab-df-spinner');\n",
              "      try {\n",
              "        const charts = await google.colab.kernel.invokeFunction(\n",
              "            'suggestCharts', [key], {});\n",
              "      } catch (error) {\n",
              "        console.error('Error during call to suggestCharts:', error);\n",
              "      }\n",
              "      quickchartButtonEl.classList.remove('colab-df-spinner');\n",
              "      quickchartButtonEl.classList.add('colab-df-quickchart-complete');\n",
              "    }\n",
              "    (() => {\n",
              "      let quickchartButtonEl =\n",
              "        document.querySelector('#df-1bf5322a-55a5-4ef4-9ed7-c2cf388c27c2 button');\n",
              "      quickchartButtonEl.style.display =\n",
              "        google.colab.kernel.accessAllowed ? 'block' : 'none';\n",
              "    })();\n",
              "  </script>\n",
              "</div>\n",
              "\n",
              "  <div id=\"id_4ac15dbe-09a0-42fd-9ffd-6885ae03fa89\">\n",
              "    <style>\n",
              "      .colab-df-generate {\n",
              "        background-color: #E8F0FE;\n",
              "        border: none;\n",
              "        border-radius: 50%;\n",
              "        cursor: pointer;\n",
              "        display: none;\n",
              "        fill: #1967D2;\n",
              "        height: 32px;\n",
              "        padding: 0 0 0 0;\n",
              "        width: 32px;\n",
              "      }\n",
              "\n",
              "      .colab-df-generate:hover {\n",
              "        background-color: #E2EBFA;\n",
              "        box-shadow: 0px 1px 2px rgba(60, 64, 67, 0.3), 0px 1px 3px 1px rgba(60, 64, 67, 0.15);\n",
              "        fill: #174EA6;\n",
              "      }\n",
              "\n",
              "      [theme=dark] .colab-df-generate {\n",
              "        background-color: #3B4455;\n",
              "        fill: #D2E3FC;\n",
              "      }\n",
              "\n",
              "      [theme=dark] .colab-df-generate:hover {\n",
              "        background-color: #434B5C;\n",
              "        box-shadow: 0px 1px 3px 1px rgba(0, 0, 0, 0.15);\n",
              "        filter: drop-shadow(0px 1px 2px rgba(0, 0, 0, 0.3));\n",
              "        fill: #FFFFFF;\n",
              "      }\n",
              "    </style>\n",
              "    <button class=\"colab-df-generate\" onclick=\"generateWithVariable('df')\"\n",
              "            title=\"Generate code using this dataframe.\"\n",
              "            style=\"display:none;\">\n",
              "\n",
              "  <svg xmlns=\"http://www.w3.org/2000/svg\" height=\"24px\"viewBox=\"0 0 24 24\"\n",
              "       width=\"24px\">\n",
              "    <path d=\"M7,19H8.4L18.45,9,17,7.55,7,17.6ZM5,21V16.75L18.45,3.32a2,2,0,0,1,2.83,0l1.4,1.43a1.91,1.91,0,0,1,.58,1.4,1.91,1.91,0,0,1-.58,1.4L9.25,21ZM18.45,9,17,7.55Zm-12,3A5.31,5.31,0,0,0,4.9,8.1,5.31,5.31,0,0,0,1,6.5,5.31,5.31,0,0,0,4.9,4.9,5.31,5.31,0,0,0,6.5,1,5.31,5.31,0,0,0,8.1,4.9,5.31,5.31,0,0,0,12,6.5,5.46,5.46,0,0,0,6.5,12Z\"/>\n",
              "  </svg>\n",
              "    </button>\n",
              "    <script>\n",
              "      (() => {\n",
              "      const buttonEl =\n",
              "        document.querySelector('#id_4ac15dbe-09a0-42fd-9ffd-6885ae03fa89 button.colab-df-generate');\n",
              "      buttonEl.style.display =\n",
              "        google.colab.kernel.accessAllowed ? 'block' : 'none';\n",
              "\n",
              "      buttonEl.onclick = () => {\n",
              "        google.colab.notebook.generateWithVariable('df');\n",
              "      }\n",
              "      })();\n",
              "    </script>\n",
              "  </div>\n",
              "\n",
              "    </div>\n",
              "  </div>\n"
            ],
            "application/vnd.google.colaboratory.intrinsic+json": {
              "type": "dataframe",
              "variable_name": "df",
              "summary": "{\n  \"name\": \"df\",\n  \"rows\": 3,\n  \"fields\": [\n    {\n      \"column\": \"Santa Marta\",\n      \"properties\": {\n        \"dtype\": \"string\",\n        \"num_unique_values\": 3,\n        \"samples\": [\n          \"12500\",\n          \"25800\",\n          \"49700\"\n        ],\n        \"semantic_type\": \"\",\n        \"description\": \"\"\n      }\n    },\n    {\n      \"column\": \"Barranquilla\",\n      \"properties\": {\n        \"dtype\": \"string\",\n        \"num_unique_values\": 3,\n        \"samples\": [\n          \"13400\",\n          \"26900\",\n          \"76200\"\n        ],\n        \"semantic_type\": \"\",\n        \"description\": \"\"\n      }\n    },\n    {\n      \"column\": \"Cartagena\",\n      \"properties\": {\n        \"dtype\": \"string\",\n        \"num_unique_values\": 3,\n        \"samples\": [\n          \"19200\",\n          \"12400\",\n          \"77200\"\n        ],\n        \"semantic_type\": \"\",\n        \"description\": \"\"\n      }\n    }\n  ]\n}"
            }
          },
          "metadata": {},
          "execution_count": 38
        }
      ]
    },
    {
      "cell_type": "markdown",
      "metadata": {
        "id": "7221fa28"
      },
      "source": [
        "Otra forma de hacerlo es con los diccionarios"
      ],
      "id": "7221fa28"
    },
    {
      "cell_type": "code",
      "metadata": {
        "id": "b8b22053",
        "outputId": "45d796ab-5e5c-4413-9e69-66de334adbf2",
        "colab": {
          "base_uri": "https://localhost:8080/",
          "height": 143
        }
      },
      "source": [
        "Datos= {'SMR':[12500,13400,19200],'BQR':[25800,26900,12400],'CTG':[49700,76200,None]}\n",
        "df = pd.DataFrame(Datos)\n",
        "df"
      ],
      "id": "b8b22053",
      "execution_count": 39,
      "outputs": [
        {
          "output_type": "execute_result",
          "data": {
            "text/plain": [
              "     SMR    BQR      CTG\n",
              "0  12500  25800  49700.0\n",
              "1  13400  26900  76200.0\n",
              "2  19200  12400      NaN"
            ],
            "text/html": [
              "\n",
              "  <div id=\"df-af2c194a-64fd-4c13-bc00-4379b3ac1bab\" class=\"colab-df-container\">\n",
              "    <div>\n",
              "<style scoped>\n",
              "    .dataframe tbody tr th:only-of-type {\n",
              "        vertical-align: middle;\n",
              "    }\n",
              "\n",
              "    .dataframe tbody tr th {\n",
              "        vertical-align: top;\n",
              "    }\n",
              "\n",
              "    .dataframe thead th {\n",
              "        text-align: right;\n",
              "    }\n",
              "</style>\n",
              "<table border=\"1\" class=\"dataframe\">\n",
              "  <thead>\n",
              "    <tr style=\"text-align: right;\">\n",
              "      <th></th>\n",
              "      <th>SMR</th>\n",
              "      <th>BQR</th>\n",
              "      <th>CTG</th>\n",
              "    </tr>\n",
              "  </thead>\n",
              "  <tbody>\n",
              "    <tr>\n",
              "      <th>0</th>\n",
              "      <td>12500</td>\n",
              "      <td>25800</td>\n",
              "      <td>49700.0</td>\n",
              "    </tr>\n",
              "    <tr>\n",
              "      <th>1</th>\n",
              "      <td>13400</td>\n",
              "      <td>26900</td>\n",
              "      <td>76200.0</td>\n",
              "    </tr>\n",
              "    <tr>\n",
              "      <th>2</th>\n",
              "      <td>19200</td>\n",
              "      <td>12400</td>\n",
              "      <td>NaN</td>\n",
              "    </tr>\n",
              "  </tbody>\n",
              "</table>\n",
              "</div>\n",
              "    <div class=\"colab-df-buttons\">\n",
              "\n",
              "  <div class=\"colab-df-container\">\n",
              "    <button class=\"colab-df-convert\" onclick=\"convertToInteractive('df-af2c194a-64fd-4c13-bc00-4379b3ac1bab')\"\n",
              "            title=\"Convert this dataframe to an interactive table.\"\n",
              "            style=\"display:none;\">\n",
              "\n",
              "  <svg xmlns=\"http://www.w3.org/2000/svg\" height=\"24px\" viewBox=\"0 -960 960 960\">\n",
              "    <path d=\"M120-120v-720h720v720H120Zm60-500h600v-160H180v160Zm220 220h160v-160H400v160Zm0 220h160v-160H400v160ZM180-400h160v-160H180v160Zm440 0h160v-160H620v160ZM180-180h160v-160H180v160Zm440 0h160v-160H620v160Z\"/>\n",
              "  </svg>\n",
              "    </button>\n",
              "\n",
              "  <style>\n",
              "    .colab-df-container {\n",
              "      display:flex;\n",
              "      gap: 12px;\n",
              "    }\n",
              "\n",
              "    .colab-df-convert {\n",
              "      background-color: #E8F0FE;\n",
              "      border: none;\n",
              "      border-radius: 50%;\n",
              "      cursor: pointer;\n",
              "      display: none;\n",
              "      fill: #1967D2;\n",
              "      height: 32px;\n",
              "      padding: 0 0 0 0;\n",
              "      width: 32px;\n",
              "    }\n",
              "\n",
              "    .colab-df-convert:hover {\n",
              "      background-color: #E2EBFA;\n",
              "      box-shadow: 0px 1px 2px rgba(60, 64, 67, 0.3), 0px 1px 3px 1px rgba(60, 64, 67, 0.15);\n",
              "      fill: #174EA6;\n",
              "    }\n",
              "\n",
              "    .colab-df-buttons div {\n",
              "      margin-bottom: 4px;\n",
              "    }\n",
              "\n",
              "    [theme=dark] .colab-df-convert {\n",
              "      background-color: #3B4455;\n",
              "      fill: #D2E3FC;\n",
              "    }\n",
              "\n",
              "    [theme=dark] .colab-df-convert:hover {\n",
              "      background-color: #434B5C;\n",
              "      box-shadow: 0px 1px 3px 1px rgba(0, 0, 0, 0.15);\n",
              "      filter: drop-shadow(0px 1px 2px rgba(0, 0, 0, 0.3));\n",
              "      fill: #FFFFFF;\n",
              "    }\n",
              "  </style>\n",
              "\n",
              "    <script>\n",
              "      const buttonEl =\n",
              "        document.querySelector('#df-af2c194a-64fd-4c13-bc00-4379b3ac1bab button.colab-df-convert');\n",
              "      buttonEl.style.display =\n",
              "        google.colab.kernel.accessAllowed ? 'block' : 'none';\n",
              "\n",
              "      async function convertToInteractive(key) {\n",
              "        const element = document.querySelector('#df-af2c194a-64fd-4c13-bc00-4379b3ac1bab');\n",
              "        const dataTable =\n",
              "          await google.colab.kernel.invokeFunction('convertToInteractive',\n",
              "                                                    [key], {});\n",
              "        if (!dataTable) return;\n",
              "\n",
              "        const docLinkHtml = 'Like what you see? Visit the ' +\n",
              "          '<a target=\"_blank\" href=https://colab.research.google.com/notebooks/data_table.ipynb>data table notebook</a>'\n",
              "          + ' to learn more about interactive tables.';\n",
              "        element.innerHTML = '';\n",
              "        dataTable['output_type'] = 'display_data';\n",
              "        await google.colab.output.renderOutput(dataTable, element);\n",
              "        const docLink = document.createElement('div');\n",
              "        docLink.innerHTML = docLinkHtml;\n",
              "        element.appendChild(docLink);\n",
              "      }\n",
              "    </script>\n",
              "  </div>\n",
              "\n",
              "\n",
              "<div id=\"df-59fd11d6-3408-4af2-a3b4-4fe8fcd47e63\">\n",
              "  <button class=\"colab-df-quickchart\" onclick=\"quickchart('df-59fd11d6-3408-4af2-a3b4-4fe8fcd47e63')\"\n",
              "            title=\"Suggest charts\"\n",
              "            style=\"display:none;\">\n",
              "\n",
              "<svg xmlns=\"http://www.w3.org/2000/svg\" height=\"24px\"viewBox=\"0 0 24 24\"\n",
              "     width=\"24px\">\n",
              "    <g>\n",
              "        <path d=\"M19 3H5c-1.1 0-2 .9-2 2v14c0 1.1.9 2 2 2h14c1.1 0 2-.9 2-2V5c0-1.1-.9-2-2-2zM9 17H7v-7h2v7zm4 0h-2V7h2v10zm4 0h-2v-4h2v4z\"/>\n",
              "    </g>\n",
              "</svg>\n",
              "  </button>\n",
              "\n",
              "<style>\n",
              "  .colab-df-quickchart {\n",
              "      --bg-color: #E8F0FE;\n",
              "      --fill-color: #1967D2;\n",
              "      --hover-bg-color: #E2EBFA;\n",
              "      --hover-fill-color: #174EA6;\n",
              "      --disabled-fill-color: #AAA;\n",
              "      --disabled-bg-color: #DDD;\n",
              "  }\n",
              "\n",
              "  [theme=dark] .colab-df-quickchart {\n",
              "      --bg-color: #3B4455;\n",
              "      --fill-color: #D2E3FC;\n",
              "      --hover-bg-color: #434B5C;\n",
              "      --hover-fill-color: #FFFFFF;\n",
              "      --disabled-bg-color: #3B4455;\n",
              "      --disabled-fill-color: #666;\n",
              "  }\n",
              "\n",
              "  .colab-df-quickchart {\n",
              "    background-color: var(--bg-color);\n",
              "    border: none;\n",
              "    border-radius: 50%;\n",
              "    cursor: pointer;\n",
              "    display: none;\n",
              "    fill: var(--fill-color);\n",
              "    height: 32px;\n",
              "    padding: 0;\n",
              "    width: 32px;\n",
              "  }\n",
              "\n",
              "  .colab-df-quickchart:hover {\n",
              "    background-color: var(--hover-bg-color);\n",
              "    box-shadow: 0 1px 2px rgba(60, 64, 67, 0.3), 0 1px 3px 1px rgba(60, 64, 67, 0.15);\n",
              "    fill: var(--button-hover-fill-color);\n",
              "  }\n",
              "\n",
              "  .colab-df-quickchart-complete:disabled,\n",
              "  .colab-df-quickchart-complete:disabled:hover {\n",
              "    background-color: var(--disabled-bg-color);\n",
              "    fill: var(--disabled-fill-color);\n",
              "    box-shadow: none;\n",
              "  }\n",
              "\n",
              "  .colab-df-spinner {\n",
              "    border: 2px solid var(--fill-color);\n",
              "    border-color: transparent;\n",
              "    border-bottom-color: var(--fill-color);\n",
              "    animation:\n",
              "      spin 1s steps(1) infinite;\n",
              "  }\n",
              "\n",
              "  @keyframes spin {\n",
              "    0% {\n",
              "      border-color: transparent;\n",
              "      border-bottom-color: var(--fill-color);\n",
              "      border-left-color: var(--fill-color);\n",
              "    }\n",
              "    20% {\n",
              "      border-color: transparent;\n",
              "      border-left-color: var(--fill-color);\n",
              "      border-top-color: var(--fill-color);\n",
              "    }\n",
              "    30% {\n",
              "      border-color: transparent;\n",
              "      border-left-color: var(--fill-color);\n",
              "      border-top-color: var(--fill-color);\n",
              "      border-right-color: var(--fill-color);\n",
              "    }\n",
              "    40% {\n",
              "      border-color: transparent;\n",
              "      border-right-color: var(--fill-color);\n",
              "      border-top-color: var(--fill-color);\n",
              "    }\n",
              "    60% {\n",
              "      border-color: transparent;\n",
              "      border-right-color: var(--fill-color);\n",
              "    }\n",
              "    80% {\n",
              "      border-color: transparent;\n",
              "      border-right-color: var(--fill-color);\n",
              "      border-bottom-color: var(--fill-color);\n",
              "    }\n",
              "    90% {\n",
              "      border-color: transparent;\n",
              "      border-bottom-color: var(--fill-color);\n",
              "    }\n",
              "  }\n",
              "</style>\n",
              "\n",
              "  <script>\n",
              "    async function quickchart(key) {\n",
              "      const quickchartButtonEl =\n",
              "        document.querySelector('#' + key + ' button');\n",
              "      quickchartButtonEl.disabled = true;  // To prevent multiple clicks.\n",
              "      quickchartButtonEl.classList.add('colab-df-spinner');\n",
              "      try {\n",
              "        const charts = await google.colab.kernel.invokeFunction(\n",
              "            'suggestCharts', [key], {});\n",
              "      } catch (error) {\n",
              "        console.error('Error during call to suggestCharts:', error);\n",
              "      }\n",
              "      quickchartButtonEl.classList.remove('colab-df-spinner');\n",
              "      quickchartButtonEl.classList.add('colab-df-quickchart-complete');\n",
              "    }\n",
              "    (() => {\n",
              "      let quickchartButtonEl =\n",
              "        document.querySelector('#df-59fd11d6-3408-4af2-a3b4-4fe8fcd47e63 button');\n",
              "      quickchartButtonEl.style.display =\n",
              "        google.colab.kernel.accessAllowed ? 'block' : 'none';\n",
              "    })();\n",
              "  </script>\n",
              "</div>\n",
              "\n",
              "  <div id=\"id_60e24ce0-cefb-4761-80c4-e4c51e9d9152\">\n",
              "    <style>\n",
              "      .colab-df-generate {\n",
              "        background-color: #E8F0FE;\n",
              "        border: none;\n",
              "        border-radius: 50%;\n",
              "        cursor: pointer;\n",
              "        display: none;\n",
              "        fill: #1967D2;\n",
              "        height: 32px;\n",
              "        padding: 0 0 0 0;\n",
              "        width: 32px;\n",
              "      }\n",
              "\n",
              "      .colab-df-generate:hover {\n",
              "        background-color: #E2EBFA;\n",
              "        box-shadow: 0px 1px 2px rgba(60, 64, 67, 0.3), 0px 1px 3px 1px rgba(60, 64, 67, 0.15);\n",
              "        fill: #174EA6;\n",
              "      }\n",
              "\n",
              "      [theme=dark] .colab-df-generate {\n",
              "        background-color: #3B4455;\n",
              "        fill: #D2E3FC;\n",
              "      }\n",
              "\n",
              "      [theme=dark] .colab-df-generate:hover {\n",
              "        background-color: #434B5C;\n",
              "        box-shadow: 0px 1px 3px 1px rgba(0, 0, 0, 0.15);\n",
              "        filter: drop-shadow(0px 1px 2px rgba(0, 0, 0, 0.3));\n",
              "        fill: #FFFFFF;\n",
              "      }\n",
              "    </style>\n",
              "    <button class=\"colab-df-generate\" onclick=\"generateWithVariable('df')\"\n",
              "            title=\"Generate code using this dataframe.\"\n",
              "            style=\"display:none;\">\n",
              "\n",
              "  <svg xmlns=\"http://www.w3.org/2000/svg\" height=\"24px\"viewBox=\"0 0 24 24\"\n",
              "       width=\"24px\">\n",
              "    <path d=\"M7,19H8.4L18.45,9,17,7.55,7,17.6ZM5,21V16.75L18.45,3.32a2,2,0,0,1,2.83,0l1.4,1.43a1.91,1.91,0,0,1,.58,1.4,1.91,1.91,0,0,1-.58,1.4L9.25,21ZM18.45,9,17,7.55Zm-12,3A5.31,5.31,0,0,0,4.9,8.1,5.31,5.31,0,0,0,1,6.5,5.31,5.31,0,0,0,4.9,4.9,5.31,5.31,0,0,0,6.5,1,5.31,5.31,0,0,0,8.1,4.9,5.31,5.31,0,0,0,12,6.5,5.46,5.46,0,0,0,6.5,12Z\"/>\n",
              "  </svg>\n",
              "    </button>\n",
              "    <script>\n",
              "      (() => {\n",
              "      const buttonEl =\n",
              "        document.querySelector('#id_60e24ce0-cefb-4761-80c4-e4c51e9d9152 button.colab-df-generate');\n",
              "      buttonEl.style.display =\n",
              "        google.colab.kernel.accessAllowed ? 'block' : 'none';\n",
              "\n",
              "      buttonEl.onclick = () => {\n",
              "        google.colab.notebook.generateWithVariable('df');\n",
              "      }\n",
              "      })();\n",
              "    </script>\n",
              "  </div>\n",
              "\n",
              "    </div>\n",
              "  </div>\n"
            ],
            "application/vnd.google.colaboratory.intrinsic+json": {
              "type": "dataframe",
              "variable_name": "df",
              "summary": "{\n  \"name\": \"df\",\n  \"rows\": 3,\n  \"fields\": [\n    {\n      \"column\": \"SMR\",\n      \"properties\": {\n        \"dtype\": \"number\",\n        \"std\": 3636,\n        \"min\": 12500,\n        \"max\": 19200,\n        \"num_unique_values\": 3,\n        \"samples\": [\n          12500,\n          13400,\n          19200\n        ],\n        \"semantic_type\": \"\",\n        \"description\": \"\"\n      }\n    },\n    {\n      \"column\": \"BQR\",\n      \"properties\": {\n        \"dtype\": \"number\",\n        \"std\": 8072,\n        \"min\": 12400,\n        \"max\": 26900,\n        \"num_unique_values\": 3,\n        \"samples\": [\n          25800,\n          26900,\n          12400\n        ],\n        \"semantic_type\": \"\",\n        \"description\": \"\"\n      }\n    },\n    {\n      \"column\": \"CTG\",\n      \"properties\": {\n        \"dtype\": \"number\",\n        \"std\": 18738.32970144351,\n        \"min\": 49700.0,\n        \"max\": 76200.0,\n        \"num_unique_values\": 2,\n        \"samples\": [\n          76200.0,\n          49700.0\n        ],\n        \"semantic_type\": \"\",\n        \"description\": \"\"\n      }\n    }\n  ]\n}"
            }
          },
          "metadata": {},
          "execution_count": 39
        }
      ]
    },
    {
      "cell_type": "markdown",
      "metadata": {
        "id": "7dcaa063"
      },
      "source": [
        "Las opciones mas comunes de **Pandas** para parte de info del dataframe son:\n",
        "\n",
        "Dentro del trabajo del dataframe:\n",
        "\n",
        "~~~python\n",
        ".shape\n",
        ".head()\n",
        ".tail()\n",
        "~~~\n",
        "\n",
        "Y para de algunas estadísticas descriptivas\n",
        "~~~python\n",
        ".describe()\n",
        ".quantile()\n",
        "~~~\n"
      ],
      "id": "7dcaa063"
    },
    {
      "cell_type": "markdown",
      "source": [
        "Si queremos mirar el tamaño de la estructura de datos"
      ],
      "metadata": {
        "id": "qzqRYxl-zHqz"
      },
      "id": "qzqRYxl-zHqz"
    },
    {
      "cell_type": "code",
      "metadata": {
        "id": "f1b62484",
        "outputId": "4b49c545-637d-4c18-945c-85c78a583ba6",
        "colab": {
          "base_uri": "https://localhost:8080/"
        }
      },
      "source": [
        "df.shape"
      ],
      "id": "f1b62484",
      "execution_count": 40,
      "outputs": [
        {
          "output_type": "execute_result",
          "data": {
            "text/plain": [
              "(3, 3)"
            ]
          },
          "metadata": {},
          "execution_count": 40
        }
      ]
    },
    {
      "cell_type": "code",
      "metadata": {
        "id": "5ae86094",
        "outputId": "f8f05aba-21d4-402b-89cb-8a1d57489ad0",
        "colab": {
          "base_uri": "https://localhost:8080/",
          "height": 80
        }
      },
      "source": [
        "df.head(1)"
      ],
      "id": "5ae86094",
      "execution_count": 41,
      "outputs": [
        {
          "output_type": "execute_result",
          "data": {
            "text/plain": [
              "     SMR    BQR      CTG\n",
              "0  12500  25800  49700.0"
            ],
            "text/html": [
              "\n",
              "  <div id=\"df-9f2bd89a-2b1f-4b8b-8987-01c71947bd8c\" class=\"colab-df-container\">\n",
              "    <div>\n",
              "<style scoped>\n",
              "    .dataframe tbody tr th:only-of-type {\n",
              "        vertical-align: middle;\n",
              "    }\n",
              "\n",
              "    .dataframe tbody tr th {\n",
              "        vertical-align: top;\n",
              "    }\n",
              "\n",
              "    .dataframe thead th {\n",
              "        text-align: right;\n",
              "    }\n",
              "</style>\n",
              "<table border=\"1\" class=\"dataframe\">\n",
              "  <thead>\n",
              "    <tr style=\"text-align: right;\">\n",
              "      <th></th>\n",
              "      <th>SMR</th>\n",
              "      <th>BQR</th>\n",
              "      <th>CTG</th>\n",
              "    </tr>\n",
              "  </thead>\n",
              "  <tbody>\n",
              "    <tr>\n",
              "      <th>0</th>\n",
              "      <td>12500</td>\n",
              "      <td>25800</td>\n",
              "      <td>49700.0</td>\n",
              "    </tr>\n",
              "  </tbody>\n",
              "</table>\n",
              "</div>\n",
              "    <div class=\"colab-df-buttons\">\n",
              "\n",
              "  <div class=\"colab-df-container\">\n",
              "    <button class=\"colab-df-convert\" onclick=\"convertToInteractive('df-9f2bd89a-2b1f-4b8b-8987-01c71947bd8c')\"\n",
              "            title=\"Convert this dataframe to an interactive table.\"\n",
              "            style=\"display:none;\">\n",
              "\n",
              "  <svg xmlns=\"http://www.w3.org/2000/svg\" height=\"24px\" viewBox=\"0 -960 960 960\">\n",
              "    <path d=\"M120-120v-720h720v720H120Zm60-500h600v-160H180v160Zm220 220h160v-160H400v160Zm0 220h160v-160H400v160ZM180-400h160v-160H180v160Zm440 0h160v-160H620v160ZM180-180h160v-160H180v160Zm440 0h160v-160H620v160Z\"/>\n",
              "  </svg>\n",
              "    </button>\n",
              "\n",
              "  <style>\n",
              "    .colab-df-container {\n",
              "      display:flex;\n",
              "      gap: 12px;\n",
              "    }\n",
              "\n",
              "    .colab-df-convert {\n",
              "      background-color: #E8F0FE;\n",
              "      border: none;\n",
              "      border-radius: 50%;\n",
              "      cursor: pointer;\n",
              "      display: none;\n",
              "      fill: #1967D2;\n",
              "      height: 32px;\n",
              "      padding: 0 0 0 0;\n",
              "      width: 32px;\n",
              "    }\n",
              "\n",
              "    .colab-df-convert:hover {\n",
              "      background-color: #E2EBFA;\n",
              "      box-shadow: 0px 1px 2px rgba(60, 64, 67, 0.3), 0px 1px 3px 1px rgba(60, 64, 67, 0.15);\n",
              "      fill: #174EA6;\n",
              "    }\n",
              "\n",
              "    .colab-df-buttons div {\n",
              "      margin-bottom: 4px;\n",
              "    }\n",
              "\n",
              "    [theme=dark] .colab-df-convert {\n",
              "      background-color: #3B4455;\n",
              "      fill: #D2E3FC;\n",
              "    }\n",
              "\n",
              "    [theme=dark] .colab-df-convert:hover {\n",
              "      background-color: #434B5C;\n",
              "      box-shadow: 0px 1px 3px 1px rgba(0, 0, 0, 0.15);\n",
              "      filter: drop-shadow(0px 1px 2px rgba(0, 0, 0, 0.3));\n",
              "      fill: #FFFFFF;\n",
              "    }\n",
              "  </style>\n",
              "\n",
              "    <script>\n",
              "      const buttonEl =\n",
              "        document.querySelector('#df-9f2bd89a-2b1f-4b8b-8987-01c71947bd8c button.colab-df-convert');\n",
              "      buttonEl.style.display =\n",
              "        google.colab.kernel.accessAllowed ? 'block' : 'none';\n",
              "\n",
              "      async function convertToInteractive(key) {\n",
              "        const element = document.querySelector('#df-9f2bd89a-2b1f-4b8b-8987-01c71947bd8c');\n",
              "        const dataTable =\n",
              "          await google.colab.kernel.invokeFunction('convertToInteractive',\n",
              "                                                    [key], {});\n",
              "        if (!dataTable) return;\n",
              "\n",
              "        const docLinkHtml = 'Like what you see? Visit the ' +\n",
              "          '<a target=\"_blank\" href=https://colab.research.google.com/notebooks/data_table.ipynb>data table notebook</a>'\n",
              "          + ' to learn more about interactive tables.';\n",
              "        element.innerHTML = '';\n",
              "        dataTable['output_type'] = 'display_data';\n",
              "        await google.colab.output.renderOutput(dataTable, element);\n",
              "        const docLink = document.createElement('div');\n",
              "        docLink.innerHTML = docLinkHtml;\n",
              "        element.appendChild(docLink);\n",
              "      }\n",
              "    </script>\n",
              "  </div>\n",
              "\n",
              "\n",
              "    </div>\n",
              "  </div>\n"
            ],
            "application/vnd.google.colaboratory.intrinsic+json": {
              "type": "dataframe",
              "variable_name": "df",
              "summary": "{\n  \"name\": \"df\",\n  \"rows\": 3,\n  \"fields\": [\n    {\n      \"column\": \"SMR\",\n      \"properties\": {\n        \"dtype\": \"number\",\n        \"std\": 3636,\n        \"min\": 12500,\n        \"max\": 19200,\n        \"num_unique_values\": 3,\n        \"samples\": [\n          12500,\n          13400,\n          19200\n        ],\n        \"semantic_type\": \"\",\n        \"description\": \"\"\n      }\n    },\n    {\n      \"column\": \"BQR\",\n      \"properties\": {\n        \"dtype\": \"number\",\n        \"std\": 8072,\n        \"min\": 12400,\n        \"max\": 26900,\n        \"num_unique_values\": 3,\n        \"samples\": [\n          25800,\n          26900,\n          12400\n        ],\n        \"semantic_type\": \"\",\n        \"description\": \"\"\n      }\n    },\n    {\n      \"column\": \"CTG\",\n      \"properties\": {\n        \"dtype\": \"number\",\n        \"std\": 18738.32970144351,\n        \"min\": 49700.0,\n        \"max\": 76200.0,\n        \"num_unique_values\": 2,\n        \"samples\": [\n          76200.0,\n          49700.0\n        ],\n        \"semantic_type\": \"\",\n        \"description\": \"\"\n      }\n    }\n  ]\n}"
            }
          },
          "metadata": {},
          "execution_count": 41
        }
      ]
    },
    {
      "cell_type": "code",
      "metadata": {
        "id": "b22e174b",
        "outputId": "2b044f2d-945d-47e4-cecd-9a93a6ba3b0c",
        "colab": {
          "base_uri": "https://localhost:8080/",
          "height": 80
        }
      },
      "source": [
        "df.tail(1)"
      ],
      "id": "b22e174b",
      "execution_count": 42,
      "outputs": [
        {
          "output_type": "execute_result",
          "data": {
            "text/plain": [
              "     SMR    BQR  CTG\n",
              "2  19200  12400  NaN"
            ],
            "text/html": [
              "\n",
              "  <div id=\"df-15a57461-b4e4-4a66-a7b9-39f80f4a6a2f\" class=\"colab-df-container\">\n",
              "    <div>\n",
              "<style scoped>\n",
              "    .dataframe tbody tr th:only-of-type {\n",
              "        vertical-align: middle;\n",
              "    }\n",
              "\n",
              "    .dataframe tbody tr th {\n",
              "        vertical-align: top;\n",
              "    }\n",
              "\n",
              "    .dataframe thead th {\n",
              "        text-align: right;\n",
              "    }\n",
              "</style>\n",
              "<table border=\"1\" class=\"dataframe\">\n",
              "  <thead>\n",
              "    <tr style=\"text-align: right;\">\n",
              "      <th></th>\n",
              "      <th>SMR</th>\n",
              "      <th>BQR</th>\n",
              "      <th>CTG</th>\n",
              "    </tr>\n",
              "  </thead>\n",
              "  <tbody>\n",
              "    <tr>\n",
              "      <th>2</th>\n",
              "      <td>19200</td>\n",
              "      <td>12400</td>\n",
              "      <td>NaN</td>\n",
              "    </tr>\n",
              "  </tbody>\n",
              "</table>\n",
              "</div>\n",
              "    <div class=\"colab-df-buttons\">\n",
              "\n",
              "  <div class=\"colab-df-container\">\n",
              "    <button class=\"colab-df-convert\" onclick=\"convertToInteractive('df-15a57461-b4e4-4a66-a7b9-39f80f4a6a2f')\"\n",
              "            title=\"Convert this dataframe to an interactive table.\"\n",
              "            style=\"display:none;\">\n",
              "\n",
              "  <svg xmlns=\"http://www.w3.org/2000/svg\" height=\"24px\" viewBox=\"0 -960 960 960\">\n",
              "    <path d=\"M120-120v-720h720v720H120Zm60-500h600v-160H180v160Zm220 220h160v-160H400v160Zm0 220h160v-160H400v160ZM180-400h160v-160H180v160Zm440 0h160v-160H620v160ZM180-180h160v-160H180v160Zm440 0h160v-160H620v160Z\"/>\n",
              "  </svg>\n",
              "    </button>\n",
              "\n",
              "  <style>\n",
              "    .colab-df-container {\n",
              "      display:flex;\n",
              "      gap: 12px;\n",
              "    }\n",
              "\n",
              "    .colab-df-convert {\n",
              "      background-color: #E8F0FE;\n",
              "      border: none;\n",
              "      border-radius: 50%;\n",
              "      cursor: pointer;\n",
              "      display: none;\n",
              "      fill: #1967D2;\n",
              "      height: 32px;\n",
              "      padding: 0 0 0 0;\n",
              "      width: 32px;\n",
              "    }\n",
              "\n",
              "    .colab-df-convert:hover {\n",
              "      background-color: #E2EBFA;\n",
              "      box-shadow: 0px 1px 2px rgba(60, 64, 67, 0.3), 0px 1px 3px 1px rgba(60, 64, 67, 0.15);\n",
              "      fill: #174EA6;\n",
              "    }\n",
              "\n",
              "    .colab-df-buttons div {\n",
              "      margin-bottom: 4px;\n",
              "    }\n",
              "\n",
              "    [theme=dark] .colab-df-convert {\n",
              "      background-color: #3B4455;\n",
              "      fill: #D2E3FC;\n",
              "    }\n",
              "\n",
              "    [theme=dark] .colab-df-convert:hover {\n",
              "      background-color: #434B5C;\n",
              "      box-shadow: 0px 1px 3px 1px rgba(0, 0, 0, 0.15);\n",
              "      filter: drop-shadow(0px 1px 2px rgba(0, 0, 0, 0.3));\n",
              "      fill: #FFFFFF;\n",
              "    }\n",
              "  </style>\n",
              "\n",
              "    <script>\n",
              "      const buttonEl =\n",
              "        document.querySelector('#df-15a57461-b4e4-4a66-a7b9-39f80f4a6a2f button.colab-df-convert');\n",
              "      buttonEl.style.display =\n",
              "        google.colab.kernel.accessAllowed ? 'block' : 'none';\n",
              "\n",
              "      async function convertToInteractive(key) {\n",
              "        const element = document.querySelector('#df-15a57461-b4e4-4a66-a7b9-39f80f4a6a2f');\n",
              "        const dataTable =\n",
              "          await google.colab.kernel.invokeFunction('convertToInteractive',\n",
              "                                                    [key], {});\n",
              "        if (!dataTable) return;\n",
              "\n",
              "        const docLinkHtml = 'Like what you see? Visit the ' +\n",
              "          '<a target=\"_blank\" href=https://colab.research.google.com/notebooks/data_table.ipynb>data table notebook</a>'\n",
              "          + ' to learn more about interactive tables.';\n",
              "        element.innerHTML = '';\n",
              "        dataTable['output_type'] = 'display_data';\n",
              "        await google.colab.output.renderOutput(dataTable, element);\n",
              "        const docLink = document.createElement('div');\n",
              "        docLink.innerHTML = docLinkHtml;\n",
              "        element.appendChild(docLink);\n",
              "      }\n",
              "    </script>\n",
              "  </div>\n",
              "\n",
              "\n",
              "    </div>\n",
              "  </div>\n"
            ],
            "application/vnd.google.colaboratory.intrinsic+json": {
              "type": "dataframe",
              "summary": "{\n  \"name\": \"df\",\n  \"rows\": 1,\n  \"fields\": [\n    {\n      \"column\": \"SMR\",\n      \"properties\": {\n        \"dtype\": \"number\",\n        \"std\": null,\n        \"min\": 19200,\n        \"max\": 19200,\n        \"num_unique_values\": 1,\n        \"samples\": [\n          19200\n        ],\n        \"semantic_type\": \"\",\n        \"description\": \"\"\n      }\n    },\n    {\n      \"column\": \"BQR\",\n      \"properties\": {\n        \"dtype\": \"number\",\n        \"std\": null,\n        \"min\": 12400,\n        \"max\": 12400,\n        \"num_unique_values\": 1,\n        \"samples\": [\n          12400\n        ],\n        \"semantic_type\": \"\",\n        \"description\": \"\"\n      }\n    },\n    {\n      \"column\": \"CTG\",\n      \"properties\": {\n        \"dtype\": \"number\",\n        \"std\": null,\n        \"min\": null,\n        \"max\": null,\n        \"num_unique_values\": 0,\n        \"samples\": [],\n        \"semantic_type\": \"\",\n        \"description\": \"\"\n      }\n    }\n  ]\n}"
            }
          },
          "metadata": {},
          "execution_count": 42
        }
      ]
    },
    {
      "cell_type": "code",
      "metadata": {
        "id": "9e86d11f",
        "outputId": "0d114f2b-198e-4572-d5c2-9c87f9a4d606",
        "colab": {
          "base_uri": "https://localhost:8080/",
          "height": 300
        }
      },
      "source": [
        "df.describe()"
      ],
      "id": "9e86d11f",
      "execution_count": 43,
      "outputs": [
        {
          "output_type": "execute_result",
          "data": {
            "text/plain": [
              "                SMR           BQR           CTG\n",
              "count      3.000000      3.000000      2.000000\n",
              "mean   15033.333333  21700.000000  62950.000000\n",
              "std     3636.390151   8072.793816  18738.329701\n",
              "min    12500.000000  12400.000000  49700.000000\n",
              "25%    12950.000000  19100.000000  56325.000000\n",
              "50%    13400.000000  25800.000000  62950.000000\n",
              "75%    16300.000000  26350.000000  69575.000000\n",
              "max    19200.000000  26900.000000  76200.000000"
            ],
            "text/html": [
              "\n",
              "  <div id=\"df-b5a729b3-eb72-4724-ba4c-6e803da1c561\" class=\"colab-df-container\">\n",
              "    <div>\n",
              "<style scoped>\n",
              "    .dataframe tbody tr th:only-of-type {\n",
              "        vertical-align: middle;\n",
              "    }\n",
              "\n",
              "    .dataframe tbody tr th {\n",
              "        vertical-align: top;\n",
              "    }\n",
              "\n",
              "    .dataframe thead th {\n",
              "        text-align: right;\n",
              "    }\n",
              "</style>\n",
              "<table border=\"1\" class=\"dataframe\">\n",
              "  <thead>\n",
              "    <tr style=\"text-align: right;\">\n",
              "      <th></th>\n",
              "      <th>SMR</th>\n",
              "      <th>BQR</th>\n",
              "      <th>CTG</th>\n",
              "    </tr>\n",
              "  </thead>\n",
              "  <tbody>\n",
              "    <tr>\n",
              "      <th>count</th>\n",
              "      <td>3.000000</td>\n",
              "      <td>3.000000</td>\n",
              "      <td>2.000000</td>\n",
              "    </tr>\n",
              "    <tr>\n",
              "      <th>mean</th>\n",
              "      <td>15033.333333</td>\n",
              "      <td>21700.000000</td>\n",
              "      <td>62950.000000</td>\n",
              "    </tr>\n",
              "    <tr>\n",
              "      <th>std</th>\n",
              "      <td>3636.390151</td>\n",
              "      <td>8072.793816</td>\n",
              "      <td>18738.329701</td>\n",
              "    </tr>\n",
              "    <tr>\n",
              "      <th>min</th>\n",
              "      <td>12500.000000</td>\n",
              "      <td>12400.000000</td>\n",
              "      <td>49700.000000</td>\n",
              "    </tr>\n",
              "    <tr>\n",
              "      <th>25%</th>\n",
              "      <td>12950.000000</td>\n",
              "      <td>19100.000000</td>\n",
              "      <td>56325.000000</td>\n",
              "    </tr>\n",
              "    <tr>\n",
              "      <th>50%</th>\n",
              "      <td>13400.000000</td>\n",
              "      <td>25800.000000</td>\n",
              "      <td>62950.000000</td>\n",
              "    </tr>\n",
              "    <tr>\n",
              "      <th>75%</th>\n",
              "      <td>16300.000000</td>\n",
              "      <td>26350.000000</td>\n",
              "      <td>69575.000000</td>\n",
              "    </tr>\n",
              "    <tr>\n",
              "      <th>max</th>\n",
              "      <td>19200.000000</td>\n",
              "      <td>26900.000000</td>\n",
              "      <td>76200.000000</td>\n",
              "    </tr>\n",
              "  </tbody>\n",
              "</table>\n",
              "</div>\n",
              "    <div class=\"colab-df-buttons\">\n",
              "\n",
              "  <div class=\"colab-df-container\">\n",
              "    <button class=\"colab-df-convert\" onclick=\"convertToInteractive('df-b5a729b3-eb72-4724-ba4c-6e803da1c561')\"\n",
              "            title=\"Convert this dataframe to an interactive table.\"\n",
              "            style=\"display:none;\">\n",
              "\n",
              "  <svg xmlns=\"http://www.w3.org/2000/svg\" height=\"24px\" viewBox=\"0 -960 960 960\">\n",
              "    <path d=\"M120-120v-720h720v720H120Zm60-500h600v-160H180v160Zm220 220h160v-160H400v160Zm0 220h160v-160H400v160ZM180-400h160v-160H180v160Zm440 0h160v-160H620v160ZM180-180h160v-160H180v160Zm440 0h160v-160H620v160Z\"/>\n",
              "  </svg>\n",
              "    </button>\n",
              "\n",
              "  <style>\n",
              "    .colab-df-container {\n",
              "      display:flex;\n",
              "      gap: 12px;\n",
              "    }\n",
              "\n",
              "    .colab-df-convert {\n",
              "      background-color: #E8F0FE;\n",
              "      border: none;\n",
              "      border-radius: 50%;\n",
              "      cursor: pointer;\n",
              "      display: none;\n",
              "      fill: #1967D2;\n",
              "      height: 32px;\n",
              "      padding: 0 0 0 0;\n",
              "      width: 32px;\n",
              "    }\n",
              "\n",
              "    .colab-df-convert:hover {\n",
              "      background-color: #E2EBFA;\n",
              "      box-shadow: 0px 1px 2px rgba(60, 64, 67, 0.3), 0px 1px 3px 1px rgba(60, 64, 67, 0.15);\n",
              "      fill: #174EA6;\n",
              "    }\n",
              "\n",
              "    .colab-df-buttons div {\n",
              "      margin-bottom: 4px;\n",
              "    }\n",
              "\n",
              "    [theme=dark] .colab-df-convert {\n",
              "      background-color: #3B4455;\n",
              "      fill: #D2E3FC;\n",
              "    }\n",
              "\n",
              "    [theme=dark] .colab-df-convert:hover {\n",
              "      background-color: #434B5C;\n",
              "      box-shadow: 0px 1px 3px 1px rgba(0, 0, 0, 0.15);\n",
              "      filter: drop-shadow(0px 1px 2px rgba(0, 0, 0, 0.3));\n",
              "      fill: #FFFFFF;\n",
              "    }\n",
              "  </style>\n",
              "\n",
              "    <script>\n",
              "      const buttonEl =\n",
              "        document.querySelector('#df-b5a729b3-eb72-4724-ba4c-6e803da1c561 button.colab-df-convert');\n",
              "      buttonEl.style.display =\n",
              "        google.colab.kernel.accessAllowed ? 'block' : 'none';\n",
              "\n",
              "      async function convertToInteractive(key) {\n",
              "        const element = document.querySelector('#df-b5a729b3-eb72-4724-ba4c-6e803da1c561');\n",
              "        const dataTable =\n",
              "          await google.colab.kernel.invokeFunction('convertToInteractive',\n",
              "                                                    [key], {});\n",
              "        if (!dataTable) return;\n",
              "\n",
              "        const docLinkHtml = 'Like what you see? Visit the ' +\n",
              "          '<a target=\"_blank\" href=https://colab.research.google.com/notebooks/data_table.ipynb>data table notebook</a>'\n",
              "          + ' to learn more about interactive tables.';\n",
              "        element.innerHTML = '';\n",
              "        dataTable['output_type'] = 'display_data';\n",
              "        await google.colab.output.renderOutput(dataTable, element);\n",
              "        const docLink = document.createElement('div');\n",
              "        docLink.innerHTML = docLinkHtml;\n",
              "        element.appendChild(docLink);\n",
              "      }\n",
              "    </script>\n",
              "  </div>\n",
              "\n",
              "\n",
              "<div id=\"df-ff7863aa-f650-452c-8bd5-2792d0272673\">\n",
              "  <button class=\"colab-df-quickchart\" onclick=\"quickchart('df-ff7863aa-f650-452c-8bd5-2792d0272673')\"\n",
              "            title=\"Suggest charts\"\n",
              "            style=\"display:none;\">\n",
              "\n",
              "<svg xmlns=\"http://www.w3.org/2000/svg\" height=\"24px\"viewBox=\"0 0 24 24\"\n",
              "     width=\"24px\">\n",
              "    <g>\n",
              "        <path d=\"M19 3H5c-1.1 0-2 .9-2 2v14c0 1.1.9 2 2 2h14c1.1 0 2-.9 2-2V5c0-1.1-.9-2-2-2zM9 17H7v-7h2v7zm4 0h-2V7h2v10zm4 0h-2v-4h2v4z\"/>\n",
              "    </g>\n",
              "</svg>\n",
              "  </button>\n",
              "\n",
              "<style>\n",
              "  .colab-df-quickchart {\n",
              "      --bg-color: #E8F0FE;\n",
              "      --fill-color: #1967D2;\n",
              "      --hover-bg-color: #E2EBFA;\n",
              "      --hover-fill-color: #174EA6;\n",
              "      --disabled-fill-color: #AAA;\n",
              "      --disabled-bg-color: #DDD;\n",
              "  }\n",
              "\n",
              "  [theme=dark] .colab-df-quickchart {\n",
              "      --bg-color: #3B4455;\n",
              "      --fill-color: #D2E3FC;\n",
              "      --hover-bg-color: #434B5C;\n",
              "      --hover-fill-color: #FFFFFF;\n",
              "      --disabled-bg-color: #3B4455;\n",
              "      --disabled-fill-color: #666;\n",
              "  }\n",
              "\n",
              "  .colab-df-quickchart {\n",
              "    background-color: var(--bg-color);\n",
              "    border: none;\n",
              "    border-radius: 50%;\n",
              "    cursor: pointer;\n",
              "    display: none;\n",
              "    fill: var(--fill-color);\n",
              "    height: 32px;\n",
              "    padding: 0;\n",
              "    width: 32px;\n",
              "  }\n",
              "\n",
              "  .colab-df-quickchart:hover {\n",
              "    background-color: var(--hover-bg-color);\n",
              "    box-shadow: 0 1px 2px rgba(60, 64, 67, 0.3), 0 1px 3px 1px rgba(60, 64, 67, 0.15);\n",
              "    fill: var(--button-hover-fill-color);\n",
              "  }\n",
              "\n",
              "  .colab-df-quickchart-complete:disabled,\n",
              "  .colab-df-quickchart-complete:disabled:hover {\n",
              "    background-color: var(--disabled-bg-color);\n",
              "    fill: var(--disabled-fill-color);\n",
              "    box-shadow: none;\n",
              "  }\n",
              "\n",
              "  .colab-df-spinner {\n",
              "    border: 2px solid var(--fill-color);\n",
              "    border-color: transparent;\n",
              "    border-bottom-color: var(--fill-color);\n",
              "    animation:\n",
              "      spin 1s steps(1) infinite;\n",
              "  }\n",
              "\n",
              "  @keyframes spin {\n",
              "    0% {\n",
              "      border-color: transparent;\n",
              "      border-bottom-color: var(--fill-color);\n",
              "      border-left-color: var(--fill-color);\n",
              "    }\n",
              "    20% {\n",
              "      border-color: transparent;\n",
              "      border-left-color: var(--fill-color);\n",
              "      border-top-color: var(--fill-color);\n",
              "    }\n",
              "    30% {\n",
              "      border-color: transparent;\n",
              "      border-left-color: var(--fill-color);\n",
              "      border-top-color: var(--fill-color);\n",
              "      border-right-color: var(--fill-color);\n",
              "    }\n",
              "    40% {\n",
              "      border-color: transparent;\n",
              "      border-right-color: var(--fill-color);\n",
              "      border-top-color: var(--fill-color);\n",
              "    }\n",
              "    60% {\n",
              "      border-color: transparent;\n",
              "      border-right-color: var(--fill-color);\n",
              "    }\n",
              "    80% {\n",
              "      border-color: transparent;\n",
              "      border-right-color: var(--fill-color);\n",
              "      border-bottom-color: var(--fill-color);\n",
              "    }\n",
              "    90% {\n",
              "      border-color: transparent;\n",
              "      border-bottom-color: var(--fill-color);\n",
              "    }\n",
              "  }\n",
              "</style>\n",
              "\n",
              "  <script>\n",
              "    async function quickchart(key) {\n",
              "      const quickchartButtonEl =\n",
              "        document.querySelector('#' + key + ' button');\n",
              "      quickchartButtonEl.disabled = true;  // To prevent multiple clicks.\n",
              "      quickchartButtonEl.classList.add('colab-df-spinner');\n",
              "      try {\n",
              "        const charts = await google.colab.kernel.invokeFunction(\n",
              "            'suggestCharts', [key], {});\n",
              "      } catch (error) {\n",
              "        console.error('Error during call to suggestCharts:', error);\n",
              "      }\n",
              "      quickchartButtonEl.classList.remove('colab-df-spinner');\n",
              "      quickchartButtonEl.classList.add('colab-df-quickchart-complete');\n",
              "    }\n",
              "    (() => {\n",
              "      let quickchartButtonEl =\n",
              "        document.querySelector('#df-ff7863aa-f650-452c-8bd5-2792d0272673 button');\n",
              "      quickchartButtonEl.style.display =\n",
              "        google.colab.kernel.accessAllowed ? 'block' : 'none';\n",
              "    })();\n",
              "  </script>\n",
              "</div>\n",
              "\n",
              "    </div>\n",
              "  </div>\n"
            ],
            "application/vnd.google.colaboratory.intrinsic+json": {
              "type": "dataframe",
              "summary": "{\n  \"name\": \"df\",\n  \"rows\": 8,\n  \"fields\": [\n    {\n      \"column\": \"SMR\",\n      \"properties\": {\n        \"dtype\": \"number\",\n        \"std\": 6496.30189172897,\n        \"min\": 3.0,\n        \"max\": 19200.0,\n        \"num_unique_values\": 8,\n        \"samples\": [\n          15033.333333333334,\n          13400.0,\n          3.0\n        ],\n        \"semantic_type\": \"\",\n        \"description\": \"\"\n      }\n    },\n    {\n      \"column\": \"BQR\",\n      \"properties\": {\n        \"dtype\": \"number\",\n        \"std\": 9832.791041998384,\n        \"min\": 3.0,\n        \"max\": 26900.0,\n        \"num_unique_values\": 8,\n        \"samples\": [\n          21700.0,\n          25800.0,\n          3.0\n        ],\n        \"semantic_type\": \"\",\n        \"description\": \"\"\n      }\n    },\n    {\n      \"column\": \"CTG\",\n      \"properties\": {\n        \"dtype\": \"number\",\n        \"std\": 26513.14869827084,\n        \"min\": 2.0,\n        \"max\": 76200.0,\n        \"num_unique_values\": 7,\n        \"samples\": [\n          2.0,\n          62950.0,\n          69575.0\n        ],\n        \"semantic_type\": \"\",\n        \"description\": \"\"\n      }\n    }\n  ]\n}"
            }
          },
          "metadata": {},
          "execution_count": 43
        }
      ]
    },
    {
      "cell_type": "markdown",
      "metadata": {
        "id": "d0a68c07"
      },
      "source": [
        "# Visualizacion\n",
        "\n",
        "Usemos mapas, antes que nada muchas veces, nuestro Jupyter no tiene algunos paquetes instalados, es por eso que hay que hacer uso del operador `!pip install` es similar al `install.packages(\"\")` de **R**. Miremos un pequeño ejemplo:"
      ],
      "id": "d0a68c07"
    },
    {
      "cell_type": "code",
      "metadata": {
        "id": "8ae9f7e9",
        "outputId": "7a7ca99e-fa47-4cbb-eee9-5eeb237dec7f",
        "colab": {
          "base_uri": "https://localhost:8080/"
        }
      },
      "source": [
        "!pip install folium\n",
        "import folium"
      ],
      "id": "8ae9f7e9",
      "execution_count": 44,
      "outputs": [
        {
          "output_type": "stream",
          "name": "stdout",
          "text": [
            "Requirement already satisfied: folium in /usr/local/lib/python3.10/dist-packages (0.14.0)\n",
            "Requirement already satisfied: branca>=0.6.0 in /usr/local/lib/python3.10/dist-packages (from folium) (0.7.2)\n",
            "Requirement already satisfied: jinja2>=2.9 in /usr/local/lib/python3.10/dist-packages (from folium) (3.1.4)\n",
            "Requirement already satisfied: numpy in /usr/local/lib/python3.10/dist-packages (from folium) (1.25.2)\n",
            "Requirement already satisfied: requests in /usr/local/lib/python3.10/dist-packages (from folium) (2.31.0)\n",
            "Requirement already satisfied: MarkupSafe>=2.0 in /usr/local/lib/python3.10/dist-packages (from jinja2>=2.9->folium) (2.1.5)\n",
            "Requirement already satisfied: charset-normalizer<4,>=2 in /usr/local/lib/python3.10/dist-packages (from requests->folium) (3.3.2)\n",
            "Requirement already satisfied: idna<4,>=2.5 in /usr/local/lib/python3.10/dist-packages (from requests->folium) (3.7)\n",
            "Requirement already satisfied: urllib3<3,>=1.21.1 in /usr/local/lib/python3.10/dist-packages (from requests->folium) (2.0.7)\n",
            "Requirement already satisfied: certifi>=2017.4.17 in /usr/local/lib/python3.10/dist-packages (from requests->folium) (2024.6.2)\n"
          ]
        }
      ]
    },
    {
      "cell_type": "code",
      "metadata": {
        "id": "7f00a704",
        "colab": {
          "base_uri": "https://localhost:8080/",
          "height": 643
        },
        "outputId": "802e0614-ed30-4afe-f6aa-a30178aa5fe8"
      },
      "source": [
        "bq_coords = [10.9878, -74.78] # lat, long\n",
        "folium_map = folium.Map(location=bq_coords)\n",
        "folium_map"
      ],
      "id": "7f00a704",
      "execution_count": 45,
      "outputs": [
        {
          "output_type": "execute_result",
          "data": {
            "text/plain": [
              "<folium.folium.Map at 0x7fbefdbbcd00>"
            ],
            "text/html": [
              "<div style=\"width:100%;\"><div style=\"position:relative;width:100%;height:0;padding-bottom:60%;\"><span style=\"color:#565656\">Make this Notebook Trusted to load map: File -> Trust Notebook</span><iframe srcdoc=\"&lt;!DOCTYPE html&gt;\n",
              "&lt;html&gt;\n",
              "&lt;head&gt;\n",
              "    \n",
              "    &lt;meta http-equiv=&quot;content-type&quot; content=&quot;text/html; charset=UTF-8&quot; /&gt;\n",
              "    \n",
              "        &lt;script&gt;\n",
              "            L_NO_TOUCH = false;\n",
              "            L_DISABLE_3D = false;\n",
              "        &lt;/script&gt;\n",
              "    \n",
              "    &lt;style&gt;html, body {width: 100%;height: 100%;margin: 0;padding: 0;}&lt;/style&gt;\n",
              "    &lt;style&gt;#map {position:absolute;top:0;bottom:0;right:0;left:0;}&lt;/style&gt;\n",
              "    &lt;script src=&quot;https://cdn.jsdelivr.net/npm/leaflet@1.9.3/dist/leaflet.js&quot;&gt;&lt;/script&gt;\n",
              "    &lt;script src=&quot;https://code.jquery.com/jquery-1.12.4.min.js&quot;&gt;&lt;/script&gt;\n",
              "    &lt;script src=&quot;https://cdn.jsdelivr.net/npm/bootstrap@5.2.2/dist/js/bootstrap.bundle.min.js&quot;&gt;&lt;/script&gt;\n",
              "    &lt;script src=&quot;https://cdnjs.cloudflare.com/ajax/libs/Leaflet.awesome-markers/2.0.2/leaflet.awesome-markers.js&quot;&gt;&lt;/script&gt;\n",
              "    &lt;link rel=&quot;stylesheet&quot; href=&quot;https://cdn.jsdelivr.net/npm/leaflet@1.9.3/dist/leaflet.css&quot;/&gt;\n",
              "    &lt;link rel=&quot;stylesheet&quot; href=&quot;https://cdn.jsdelivr.net/npm/bootstrap@5.2.2/dist/css/bootstrap.min.css&quot;/&gt;\n",
              "    &lt;link rel=&quot;stylesheet&quot; href=&quot;https://netdna.bootstrapcdn.com/bootstrap/3.0.0/css/bootstrap.min.css&quot;/&gt;\n",
              "    &lt;link rel=&quot;stylesheet&quot; href=&quot;https://cdn.jsdelivr.net/npm/@fortawesome/fontawesome-free@6.2.0/css/all.min.css&quot;/&gt;\n",
              "    &lt;link rel=&quot;stylesheet&quot; href=&quot;https://cdnjs.cloudflare.com/ajax/libs/Leaflet.awesome-markers/2.0.2/leaflet.awesome-markers.css&quot;/&gt;\n",
              "    &lt;link rel=&quot;stylesheet&quot; href=&quot;https://cdn.jsdelivr.net/gh/python-visualization/folium/folium/templates/leaflet.awesome.rotate.min.css&quot;/&gt;\n",
              "    \n",
              "            &lt;meta name=&quot;viewport&quot; content=&quot;width=device-width,\n",
              "                initial-scale=1.0, maximum-scale=1.0, user-scalable=no&quot; /&gt;\n",
              "            &lt;style&gt;\n",
              "                #map_0f293d1d08859585f37eff31d0809cd5 {\n",
              "                    position: relative;\n",
              "                    width: 100.0%;\n",
              "                    height: 100.0%;\n",
              "                    left: 0.0%;\n",
              "                    top: 0.0%;\n",
              "                }\n",
              "                .leaflet-container { font-size: 1rem; }\n",
              "            &lt;/style&gt;\n",
              "        \n",
              "&lt;/head&gt;\n",
              "&lt;body&gt;\n",
              "    \n",
              "    \n",
              "            &lt;div class=&quot;folium-map&quot; id=&quot;map_0f293d1d08859585f37eff31d0809cd5&quot; &gt;&lt;/div&gt;\n",
              "        \n",
              "&lt;/body&gt;\n",
              "&lt;script&gt;\n",
              "    \n",
              "    \n",
              "            var map_0f293d1d08859585f37eff31d0809cd5 = L.map(\n",
              "                &quot;map_0f293d1d08859585f37eff31d0809cd5&quot;,\n",
              "                {\n",
              "                    center: [10.9878, -74.78],\n",
              "                    crs: L.CRS.EPSG3857,\n",
              "                    zoom: 10,\n",
              "                    zoomControl: true,\n",
              "                    preferCanvas: false,\n",
              "                }\n",
              "            );\n",
              "\n",
              "            \n",
              "\n",
              "        \n",
              "    \n",
              "            var tile_layer_34686aff2766a47b04ec5196897fc0f5 = L.tileLayer(\n",
              "                &quot;https://{s}.tile.openstreetmap.org/{z}/{x}/{y}.png&quot;,\n",
              "                {&quot;attribution&quot;: &quot;Data by \\u0026copy; \\u003ca target=\\&quot;_blank\\&quot; href=\\&quot;http://openstreetmap.org\\&quot;\\u003eOpenStreetMap\\u003c/a\\u003e, under \\u003ca target=\\&quot;_blank\\&quot; href=\\&quot;http://www.openstreetmap.org/copyright\\&quot;\\u003eODbL\\u003c/a\\u003e.&quot;, &quot;detectRetina&quot;: false, &quot;maxNativeZoom&quot;: 18, &quot;maxZoom&quot;: 18, &quot;minZoom&quot;: 0, &quot;noWrap&quot;: false, &quot;opacity&quot;: 1, &quot;subdomains&quot;: &quot;abc&quot;, &quot;tms&quot;: false}\n",
              "            ).addTo(map_0f293d1d08859585f37eff31d0809cd5);\n",
              "        \n",
              "&lt;/script&gt;\n",
              "&lt;/html&gt;\" style=\"position:absolute;width:100%;height:100%;left:0;top:0;border:none !important;\" allowfullscreen webkitallowfullscreen mozallowfullscreen></iframe></div></div>"
            ]
          },
          "metadata": {},
          "execution_count": 45
        }
      ]
    },
    {
      "cell_type": "markdown",
      "source": [
        "# Analisis de datos\n"
      ],
      "metadata": {
        "id": "IzHTd-QLRp48"
      },
      "id": "IzHTd-QLRp48"
    },
    {
      "cell_type": "markdown",
      "source": [
        "En esta parte miraremos como estimar un par de cosas que hacemos conmunmente en **RStudio** Aprenderemos a subir una base de datos al entorno y luego ejecutaremos directamente (No manualmente) una regresión en Python."
      ],
      "metadata": {
        "id": "_lrA32Z0Ru84"
      },
      "id": "_lrA32Z0Ru84"
    },
    {
      "cell_type": "code",
      "source": [
        "# Cargamos la base de datos\n",
        "\n",
        "import pandas as pd\n",
        "\n",
        "df = pd.read_excel (r'/content/Salarios.xlsx')\n",
        "print (df)"
      ],
      "metadata": {
        "colab": {
          "base_uri": "https://localhost:8080/"
        },
        "id": "iBBaE-8qRt1l",
        "outputId": "9f9cd620-90aa-43c7-e0a1-d7a9824d91a5"
      },
      "id": "iBBaE-8qRt1l",
      "execution_count": 47,
      "outputs": [
        {
          "output_type": "stream",
          "name": "stdout",
          "text": [
            "     wage  hours   IQ  KWW  educ  exper  tenure  age  married  black  south  \\\n",
            "0     769     40   93   35    12     11       2   31        1      0      0   \n",
            "1     808     50  119   41    18     11      16   37        1      0      0   \n",
            "2     825     40  108   46    14     11       9   33        1      0      0   \n",
            "3     650     40   96   32    12     13       7   32        1      0      0   \n",
            "4     562     40   74   27    11     14       5   34        1      0      0   \n",
            "..    ...    ...  ...  ...   ...    ...     ...  ...      ...    ...    ...   \n",
            "930   520     40   79   28    16      6       1   30        1      1      1   \n",
            "931  1202     40  102   32    13     10       3   31        1      0      1   \n",
            "932   538     45   77   22    12     12      10   28        1      1      1   \n",
            "933   873     44  109   25    12     12      12   28        1      0      1   \n",
            "934  1000     40  107   32    12     17      18   35        1      0      1   \n",
            "\n",
            "     urban  sibs  brthord  meduc  feduc         Jh  \n",
            "0        1     1      2.0    8.0    8.0  44.157234  \n",
            "1        1     1      NaN   14.0   14.0  44.817160  \n",
            "2        1     1      2.0   14.0   14.0  45.096382  \n",
            "3        1     4      3.0   12.0   12.0  41.951179  \n",
            "4        1    10      6.0    6.0   11.0  40.087918  \n",
            "..     ...   ...      ...    ...    ...        ...  \n",
            "930      0     0      1.0   11.0    NaN  39.110377  \n",
            "931      1     7      7.0    8.0    6.0  50.292805  \n",
            "932      0     9      NaN    7.0    NaN  39.537158  \n",
            "933      0     1      1.0    NaN   11.0  45.859104  \n",
            "934      0     5      1.0    NaN    NaN  47.717079  \n",
            "\n",
            "[935 rows x 17 columns]\n"
          ]
        }
      ]
    },
    {
      "cell_type": "code",
      "source": [
        "df.columns # Para mirar las columnas sus nombres"
      ],
      "metadata": {
        "colab": {
          "base_uri": "https://localhost:8080/"
        },
        "id": "5LcL9s3rUwar",
        "outputId": "a167bc19-5f28-427a-8378-d5301ae89cb1"
      },
      "id": "5LcL9s3rUwar",
      "execution_count": 48,
      "outputs": [
        {
          "output_type": "execute_result",
          "data": {
            "text/plain": [
              "Index(['wage', 'hours', 'IQ', 'KWW', 'educ', 'exper', 'tenure', 'age',\n",
              "       'married', 'black', 'south', 'urban', 'sibs', 'brthord', 'meduc',\n",
              "       'feduc', 'Jh'],\n",
              "      dtype='object')"
            ]
          },
          "metadata": {},
          "execution_count": 48
        }
      ]
    },
    {
      "cell_type": "code",
      "source": [
        "df.describe() # Estadisticas básicas"
      ],
      "metadata": {
        "colab": {
          "base_uri": "https://localhost:8080/",
          "height": 320
        },
        "id": "EG0aWfioVwFG",
        "outputId": "68ffe1fb-2f6a-4f4a-cf96-1187f1c3f09b"
      },
      "id": "EG0aWfioVwFG",
      "execution_count": 49,
      "outputs": [
        {
          "output_type": "execute_result",
          "data": {
            "text/plain": [
              "              wage       hours          IQ         KWW        educ  \\\n",
              "count   935.000000  935.000000  935.000000  935.000000  935.000000   \n",
              "mean    957.945455   43.929412  101.282353   35.744385   13.468449   \n",
              "std     404.360822    7.224256   15.052636    7.638788    2.196654   \n",
              "min     115.000000   20.000000   50.000000   12.000000    9.000000   \n",
              "25%     669.000000   40.000000   92.000000   31.000000   12.000000   \n",
              "50%     905.000000   40.000000  102.000000   37.000000   12.000000   \n",
              "75%    1160.000000   48.000000  112.000000   41.000000   16.000000   \n",
              "max    3078.000000   80.000000  145.000000   56.000000   18.000000   \n",
              "\n",
              "            exper      tenure         age     married       black       south  \\\n",
              "count  935.000000  935.000000  935.000000  935.000000  935.000000  935.000000   \n",
              "mean    11.563636    7.234225   33.080214    0.893048    0.128342    0.341176   \n",
              "std      4.374586    5.075206    3.107803    0.309217    0.334650    0.474358   \n",
              "min      1.000000    0.000000   28.000000    0.000000    0.000000    0.000000   \n",
              "25%      8.000000    3.000000   30.000000    1.000000    0.000000    0.000000   \n",
              "50%     11.000000    7.000000   33.000000    1.000000    0.000000    0.000000   \n",
              "75%     15.000000   11.000000   36.000000    1.000000    0.000000    1.000000   \n",
              "max     23.000000   22.000000   38.000000    1.000000    1.000000    1.000000   \n",
              "\n",
              "            urban        sibs     brthord       meduc       feduc          Jh  \n",
              "count  935.000000  935.000000  852.000000  857.000000  741.000000  935.000000  \n",
              "mean     0.717647    2.941176    2.276995   10.682614   10.217274   46.132065  \n",
              "std      0.450385    2.306254    1.595613    2.849756    3.300700    5.668650  \n",
              "min      0.000000    0.000000    1.000000    0.000000    0.000000   22.514380  \n",
              "25%      0.000000    1.000000    1.000000    8.000000    8.000000   42.325208  \n",
              "50%      1.000000    2.000000    2.000000   12.000000   10.000000   46.347979  \n",
              "75%      1.000000    4.000000    3.000000   12.000000   12.000000   49.789606  \n",
              "max      1.000000   14.000000   10.000000   18.000000   18.000000   64.513586  "
            ],
            "text/html": [
              "\n",
              "  <div id=\"df-184add38-6e6b-46a0-966c-e79e4203d8da\" class=\"colab-df-container\">\n",
              "    <div>\n",
              "<style scoped>\n",
              "    .dataframe tbody tr th:only-of-type {\n",
              "        vertical-align: middle;\n",
              "    }\n",
              "\n",
              "    .dataframe tbody tr th {\n",
              "        vertical-align: top;\n",
              "    }\n",
              "\n",
              "    .dataframe thead th {\n",
              "        text-align: right;\n",
              "    }\n",
              "</style>\n",
              "<table border=\"1\" class=\"dataframe\">\n",
              "  <thead>\n",
              "    <tr style=\"text-align: right;\">\n",
              "      <th></th>\n",
              "      <th>wage</th>\n",
              "      <th>hours</th>\n",
              "      <th>IQ</th>\n",
              "      <th>KWW</th>\n",
              "      <th>educ</th>\n",
              "      <th>exper</th>\n",
              "      <th>tenure</th>\n",
              "      <th>age</th>\n",
              "      <th>married</th>\n",
              "      <th>black</th>\n",
              "      <th>south</th>\n",
              "      <th>urban</th>\n",
              "      <th>sibs</th>\n",
              "      <th>brthord</th>\n",
              "      <th>meduc</th>\n",
              "      <th>feduc</th>\n",
              "      <th>Jh</th>\n",
              "    </tr>\n",
              "  </thead>\n",
              "  <tbody>\n",
              "    <tr>\n",
              "      <th>count</th>\n",
              "      <td>935.000000</td>\n",
              "      <td>935.000000</td>\n",
              "      <td>935.000000</td>\n",
              "      <td>935.000000</td>\n",
              "      <td>935.000000</td>\n",
              "      <td>935.000000</td>\n",
              "      <td>935.000000</td>\n",
              "      <td>935.000000</td>\n",
              "      <td>935.000000</td>\n",
              "      <td>935.000000</td>\n",
              "      <td>935.000000</td>\n",
              "      <td>935.000000</td>\n",
              "      <td>935.000000</td>\n",
              "      <td>852.000000</td>\n",
              "      <td>857.000000</td>\n",
              "      <td>741.000000</td>\n",
              "      <td>935.000000</td>\n",
              "    </tr>\n",
              "    <tr>\n",
              "      <th>mean</th>\n",
              "      <td>957.945455</td>\n",
              "      <td>43.929412</td>\n",
              "      <td>101.282353</td>\n",
              "      <td>35.744385</td>\n",
              "      <td>13.468449</td>\n",
              "      <td>11.563636</td>\n",
              "      <td>7.234225</td>\n",
              "      <td>33.080214</td>\n",
              "      <td>0.893048</td>\n",
              "      <td>0.128342</td>\n",
              "      <td>0.341176</td>\n",
              "      <td>0.717647</td>\n",
              "      <td>2.941176</td>\n",
              "      <td>2.276995</td>\n",
              "      <td>10.682614</td>\n",
              "      <td>10.217274</td>\n",
              "      <td>46.132065</td>\n",
              "    </tr>\n",
              "    <tr>\n",
              "      <th>std</th>\n",
              "      <td>404.360822</td>\n",
              "      <td>7.224256</td>\n",
              "      <td>15.052636</td>\n",
              "      <td>7.638788</td>\n",
              "      <td>2.196654</td>\n",
              "      <td>4.374586</td>\n",
              "      <td>5.075206</td>\n",
              "      <td>3.107803</td>\n",
              "      <td>0.309217</td>\n",
              "      <td>0.334650</td>\n",
              "      <td>0.474358</td>\n",
              "      <td>0.450385</td>\n",
              "      <td>2.306254</td>\n",
              "      <td>1.595613</td>\n",
              "      <td>2.849756</td>\n",
              "      <td>3.300700</td>\n",
              "      <td>5.668650</td>\n",
              "    </tr>\n",
              "    <tr>\n",
              "      <th>min</th>\n",
              "      <td>115.000000</td>\n",
              "      <td>20.000000</td>\n",
              "      <td>50.000000</td>\n",
              "      <td>12.000000</td>\n",
              "      <td>9.000000</td>\n",
              "      <td>1.000000</td>\n",
              "      <td>0.000000</td>\n",
              "      <td>28.000000</td>\n",
              "      <td>0.000000</td>\n",
              "      <td>0.000000</td>\n",
              "      <td>0.000000</td>\n",
              "      <td>0.000000</td>\n",
              "      <td>0.000000</td>\n",
              "      <td>1.000000</td>\n",
              "      <td>0.000000</td>\n",
              "      <td>0.000000</td>\n",
              "      <td>22.514380</td>\n",
              "    </tr>\n",
              "    <tr>\n",
              "      <th>25%</th>\n",
              "      <td>669.000000</td>\n",
              "      <td>40.000000</td>\n",
              "      <td>92.000000</td>\n",
              "      <td>31.000000</td>\n",
              "      <td>12.000000</td>\n",
              "      <td>8.000000</td>\n",
              "      <td>3.000000</td>\n",
              "      <td>30.000000</td>\n",
              "      <td>1.000000</td>\n",
              "      <td>0.000000</td>\n",
              "      <td>0.000000</td>\n",
              "      <td>0.000000</td>\n",
              "      <td>1.000000</td>\n",
              "      <td>1.000000</td>\n",
              "      <td>8.000000</td>\n",
              "      <td>8.000000</td>\n",
              "      <td>42.325208</td>\n",
              "    </tr>\n",
              "    <tr>\n",
              "      <th>50%</th>\n",
              "      <td>905.000000</td>\n",
              "      <td>40.000000</td>\n",
              "      <td>102.000000</td>\n",
              "      <td>37.000000</td>\n",
              "      <td>12.000000</td>\n",
              "      <td>11.000000</td>\n",
              "      <td>7.000000</td>\n",
              "      <td>33.000000</td>\n",
              "      <td>1.000000</td>\n",
              "      <td>0.000000</td>\n",
              "      <td>0.000000</td>\n",
              "      <td>1.000000</td>\n",
              "      <td>2.000000</td>\n",
              "      <td>2.000000</td>\n",
              "      <td>12.000000</td>\n",
              "      <td>10.000000</td>\n",
              "      <td>46.347979</td>\n",
              "    </tr>\n",
              "    <tr>\n",
              "      <th>75%</th>\n",
              "      <td>1160.000000</td>\n",
              "      <td>48.000000</td>\n",
              "      <td>112.000000</td>\n",
              "      <td>41.000000</td>\n",
              "      <td>16.000000</td>\n",
              "      <td>15.000000</td>\n",
              "      <td>11.000000</td>\n",
              "      <td>36.000000</td>\n",
              "      <td>1.000000</td>\n",
              "      <td>0.000000</td>\n",
              "      <td>1.000000</td>\n",
              "      <td>1.000000</td>\n",
              "      <td>4.000000</td>\n",
              "      <td>3.000000</td>\n",
              "      <td>12.000000</td>\n",
              "      <td>12.000000</td>\n",
              "      <td>49.789606</td>\n",
              "    </tr>\n",
              "    <tr>\n",
              "      <th>max</th>\n",
              "      <td>3078.000000</td>\n",
              "      <td>80.000000</td>\n",
              "      <td>145.000000</td>\n",
              "      <td>56.000000</td>\n",
              "      <td>18.000000</td>\n",
              "      <td>23.000000</td>\n",
              "      <td>22.000000</td>\n",
              "      <td>38.000000</td>\n",
              "      <td>1.000000</td>\n",
              "      <td>1.000000</td>\n",
              "      <td>1.000000</td>\n",
              "      <td>1.000000</td>\n",
              "      <td>14.000000</td>\n",
              "      <td>10.000000</td>\n",
              "      <td>18.000000</td>\n",
              "      <td>18.000000</td>\n",
              "      <td>64.513586</td>\n",
              "    </tr>\n",
              "  </tbody>\n",
              "</table>\n",
              "</div>\n",
              "    <div class=\"colab-df-buttons\">\n",
              "\n",
              "  <div class=\"colab-df-container\">\n",
              "    <button class=\"colab-df-convert\" onclick=\"convertToInteractive('df-184add38-6e6b-46a0-966c-e79e4203d8da')\"\n",
              "            title=\"Convert this dataframe to an interactive table.\"\n",
              "            style=\"display:none;\">\n",
              "\n",
              "  <svg xmlns=\"http://www.w3.org/2000/svg\" height=\"24px\" viewBox=\"0 -960 960 960\">\n",
              "    <path d=\"M120-120v-720h720v720H120Zm60-500h600v-160H180v160Zm220 220h160v-160H400v160Zm0 220h160v-160H400v160ZM180-400h160v-160H180v160Zm440 0h160v-160H620v160ZM180-180h160v-160H180v160Zm440 0h160v-160H620v160Z\"/>\n",
              "  </svg>\n",
              "    </button>\n",
              "\n",
              "  <style>\n",
              "    .colab-df-container {\n",
              "      display:flex;\n",
              "      gap: 12px;\n",
              "    }\n",
              "\n",
              "    .colab-df-convert {\n",
              "      background-color: #E8F0FE;\n",
              "      border: none;\n",
              "      border-radius: 50%;\n",
              "      cursor: pointer;\n",
              "      display: none;\n",
              "      fill: #1967D2;\n",
              "      height: 32px;\n",
              "      padding: 0 0 0 0;\n",
              "      width: 32px;\n",
              "    }\n",
              "\n",
              "    .colab-df-convert:hover {\n",
              "      background-color: #E2EBFA;\n",
              "      box-shadow: 0px 1px 2px rgba(60, 64, 67, 0.3), 0px 1px 3px 1px rgba(60, 64, 67, 0.15);\n",
              "      fill: #174EA6;\n",
              "    }\n",
              "\n",
              "    .colab-df-buttons div {\n",
              "      margin-bottom: 4px;\n",
              "    }\n",
              "\n",
              "    [theme=dark] .colab-df-convert {\n",
              "      background-color: #3B4455;\n",
              "      fill: #D2E3FC;\n",
              "    }\n",
              "\n",
              "    [theme=dark] .colab-df-convert:hover {\n",
              "      background-color: #434B5C;\n",
              "      box-shadow: 0px 1px 3px 1px rgba(0, 0, 0, 0.15);\n",
              "      filter: drop-shadow(0px 1px 2px rgba(0, 0, 0, 0.3));\n",
              "      fill: #FFFFFF;\n",
              "    }\n",
              "  </style>\n",
              "\n",
              "    <script>\n",
              "      const buttonEl =\n",
              "        document.querySelector('#df-184add38-6e6b-46a0-966c-e79e4203d8da button.colab-df-convert');\n",
              "      buttonEl.style.display =\n",
              "        google.colab.kernel.accessAllowed ? 'block' : 'none';\n",
              "\n",
              "      async function convertToInteractive(key) {\n",
              "        const element = document.querySelector('#df-184add38-6e6b-46a0-966c-e79e4203d8da');\n",
              "        const dataTable =\n",
              "          await google.colab.kernel.invokeFunction('convertToInteractive',\n",
              "                                                    [key], {});\n",
              "        if (!dataTable) return;\n",
              "\n",
              "        const docLinkHtml = 'Like what you see? Visit the ' +\n",
              "          '<a target=\"_blank\" href=https://colab.research.google.com/notebooks/data_table.ipynb>data table notebook</a>'\n",
              "          + ' to learn more about interactive tables.';\n",
              "        element.innerHTML = '';\n",
              "        dataTable['output_type'] = 'display_data';\n",
              "        await google.colab.output.renderOutput(dataTable, element);\n",
              "        const docLink = document.createElement('div');\n",
              "        docLink.innerHTML = docLinkHtml;\n",
              "        element.appendChild(docLink);\n",
              "      }\n",
              "    </script>\n",
              "  </div>\n",
              "\n",
              "\n",
              "<div id=\"df-c2574b71-2232-413e-8609-f703bbe940e7\">\n",
              "  <button class=\"colab-df-quickchart\" onclick=\"quickchart('df-c2574b71-2232-413e-8609-f703bbe940e7')\"\n",
              "            title=\"Suggest charts\"\n",
              "            style=\"display:none;\">\n",
              "\n",
              "<svg xmlns=\"http://www.w3.org/2000/svg\" height=\"24px\"viewBox=\"0 0 24 24\"\n",
              "     width=\"24px\">\n",
              "    <g>\n",
              "        <path d=\"M19 3H5c-1.1 0-2 .9-2 2v14c0 1.1.9 2 2 2h14c1.1 0 2-.9 2-2V5c0-1.1-.9-2-2-2zM9 17H7v-7h2v7zm4 0h-2V7h2v10zm4 0h-2v-4h2v4z\"/>\n",
              "    </g>\n",
              "</svg>\n",
              "  </button>\n",
              "\n",
              "<style>\n",
              "  .colab-df-quickchart {\n",
              "      --bg-color: #E8F0FE;\n",
              "      --fill-color: #1967D2;\n",
              "      --hover-bg-color: #E2EBFA;\n",
              "      --hover-fill-color: #174EA6;\n",
              "      --disabled-fill-color: #AAA;\n",
              "      --disabled-bg-color: #DDD;\n",
              "  }\n",
              "\n",
              "  [theme=dark] .colab-df-quickchart {\n",
              "      --bg-color: #3B4455;\n",
              "      --fill-color: #D2E3FC;\n",
              "      --hover-bg-color: #434B5C;\n",
              "      --hover-fill-color: #FFFFFF;\n",
              "      --disabled-bg-color: #3B4455;\n",
              "      --disabled-fill-color: #666;\n",
              "  }\n",
              "\n",
              "  .colab-df-quickchart {\n",
              "    background-color: var(--bg-color);\n",
              "    border: none;\n",
              "    border-radius: 50%;\n",
              "    cursor: pointer;\n",
              "    display: none;\n",
              "    fill: var(--fill-color);\n",
              "    height: 32px;\n",
              "    padding: 0;\n",
              "    width: 32px;\n",
              "  }\n",
              "\n",
              "  .colab-df-quickchart:hover {\n",
              "    background-color: var(--hover-bg-color);\n",
              "    box-shadow: 0 1px 2px rgba(60, 64, 67, 0.3), 0 1px 3px 1px rgba(60, 64, 67, 0.15);\n",
              "    fill: var(--button-hover-fill-color);\n",
              "  }\n",
              "\n",
              "  .colab-df-quickchart-complete:disabled,\n",
              "  .colab-df-quickchart-complete:disabled:hover {\n",
              "    background-color: var(--disabled-bg-color);\n",
              "    fill: var(--disabled-fill-color);\n",
              "    box-shadow: none;\n",
              "  }\n",
              "\n",
              "  .colab-df-spinner {\n",
              "    border: 2px solid var(--fill-color);\n",
              "    border-color: transparent;\n",
              "    border-bottom-color: var(--fill-color);\n",
              "    animation:\n",
              "      spin 1s steps(1) infinite;\n",
              "  }\n",
              "\n",
              "  @keyframes spin {\n",
              "    0% {\n",
              "      border-color: transparent;\n",
              "      border-bottom-color: var(--fill-color);\n",
              "      border-left-color: var(--fill-color);\n",
              "    }\n",
              "    20% {\n",
              "      border-color: transparent;\n",
              "      border-left-color: var(--fill-color);\n",
              "      border-top-color: var(--fill-color);\n",
              "    }\n",
              "    30% {\n",
              "      border-color: transparent;\n",
              "      border-left-color: var(--fill-color);\n",
              "      border-top-color: var(--fill-color);\n",
              "      border-right-color: var(--fill-color);\n",
              "    }\n",
              "    40% {\n",
              "      border-color: transparent;\n",
              "      border-right-color: var(--fill-color);\n",
              "      border-top-color: var(--fill-color);\n",
              "    }\n",
              "    60% {\n",
              "      border-color: transparent;\n",
              "      border-right-color: var(--fill-color);\n",
              "    }\n",
              "    80% {\n",
              "      border-color: transparent;\n",
              "      border-right-color: var(--fill-color);\n",
              "      border-bottom-color: var(--fill-color);\n",
              "    }\n",
              "    90% {\n",
              "      border-color: transparent;\n",
              "      border-bottom-color: var(--fill-color);\n",
              "    }\n",
              "  }\n",
              "</style>\n",
              "\n",
              "  <script>\n",
              "    async function quickchart(key) {\n",
              "      const quickchartButtonEl =\n",
              "        document.querySelector('#' + key + ' button');\n",
              "      quickchartButtonEl.disabled = true;  // To prevent multiple clicks.\n",
              "      quickchartButtonEl.classList.add('colab-df-spinner');\n",
              "      try {\n",
              "        const charts = await google.colab.kernel.invokeFunction(\n",
              "            'suggestCharts', [key], {});\n",
              "      } catch (error) {\n",
              "        console.error('Error during call to suggestCharts:', error);\n",
              "      }\n",
              "      quickchartButtonEl.classList.remove('colab-df-spinner');\n",
              "      quickchartButtonEl.classList.add('colab-df-quickchart-complete');\n",
              "    }\n",
              "    (() => {\n",
              "      let quickchartButtonEl =\n",
              "        document.querySelector('#df-c2574b71-2232-413e-8609-f703bbe940e7 button');\n",
              "      quickchartButtonEl.style.display =\n",
              "        google.colab.kernel.accessAllowed ? 'block' : 'none';\n",
              "    })();\n",
              "  </script>\n",
              "</div>\n",
              "\n",
              "    </div>\n",
              "  </div>\n"
            ],
            "application/vnd.google.colaboratory.intrinsic+json": {
              "type": "dataframe",
              "summary": "{\n  \"name\": \"df\",\n  \"rows\": 8,\n  \"fields\": [\n    {\n      \"column\": \"wage\",\n      \"properties\": {\n        \"dtype\": \"number\",\n        \"std\": 894.4260291508997,\n        \"min\": 115.0,\n        \"max\": 3078.0,\n        \"num_unique_values\": 8,\n        \"samples\": [\n          957.9454545454546,\n          905.0,\n          935.0\n        ],\n        \"semantic_type\": \"\",\n        \"description\": \"\"\n      }\n    },\n    {\n      \"column\": \"hours\",\n      \"properties\": {\n        \"dtype\": \"number\",\n        \"std\": 317.18400293248527,\n        \"min\": 7.224255863405385,\n        \"max\": 935.0,\n        \"num_unique_values\": 7,\n        \"samples\": [\n          935.0,\n          43.92941176470588,\n          48.0\n        ],\n        \"semantic_type\": \"\",\n        \"description\": \"\"\n      }\n    },\n    {\n      \"column\": \"IQ\",\n      \"properties\": {\n        \"dtype\": \"number\",\n        \"std\": 302.000167218243,\n        \"min\": 15.052636370265098,\n        \"max\": 935.0,\n        \"num_unique_values\": 8,\n        \"samples\": [\n          101.28235294117647,\n          102.0,\n          935.0\n        ],\n        \"semantic_type\": \"\",\n        \"description\": \"\"\n      }\n    },\n    {\n      \"column\": \"KWW\",\n      \"properties\": {\n        \"dtype\": \"number\",\n        \"std\": 319.81874947941543,\n        \"min\": 7.638787812999126,\n        \"max\": 935.0,\n        \"num_unique_values\": 8,\n        \"samples\": [\n          35.744385026737966,\n          37.0,\n          935.0\n        ],\n        \"semantic_type\": \"\",\n        \"description\": \"\"\n      }\n    },\n    {\n      \"column\": \"educ\",\n      \"properties\": {\n        \"dtype\": \"number\",\n        \"std\": 326.4319972190083,\n        \"min\": 2.196653882081251,\n        \"max\": 935.0,\n        \"num_unique_values\": 7,\n        \"samples\": [\n          935.0,\n          13.468449197860963,\n          16.0\n        ],\n        \"semantic_type\": \"\",\n        \"description\": \"\"\n      }\n    },\n    {\n      \"column\": \"exper\",\n      \"properties\": {\n        \"dtype\": \"number\",\n        \"std\": 326.90612731371095,\n        \"min\": 1.0,\n        \"max\": 935.0,\n        \"num_unique_values\": 8,\n        \"samples\": [\n          11.563636363636364,\n          11.0,\n          935.0\n        ],\n        \"semantic_type\": \"\",\n        \"description\": \"\"\n      }\n    },\n    {\n      \"column\": \"tenure\",\n      \"properties\": {\n        \"dtype\": \"number\",\n        \"std\": 327.8451280116574,\n        \"min\": 0.0,\n        \"max\": 935.0,\n        \"num_unique_values\": 8,\n        \"samples\": [\n          7.234224598930481,\n          7.0,\n          935.0\n        ],\n        \"semantic_type\": \"\",\n        \"description\": \"\"\n      }\n    },\n    {\n      \"column\": \"age\",\n      \"properties\": {\n        \"dtype\": \"number\",\n        \"std\": 320.5968892330329,\n        \"min\": 3.1078032543400433,\n        \"max\": 935.0,\n        \"num_unique_values\": 8,\n        \"samples\": [\n          33.080213903743314,\n          33.0,\n          935.0\n        ],\n        \"semantic_type\": \"\",\n        \"description\": \"\"\n      }\n    },\n    {\n      \"column\": \"married\",\n      \"properties\": {\n        \"dtype\": \"number\",\n        \"std\": 330.30988818415267,\n        \"min\": 0.0,\n        \"max\": 935.0,\n        \"num_unique_values\": 5,\n        \"samples\": [\n          0.893048128342246,\n          1.0,\n          0.3092174498634033\n        ],\n        \"semantic_type\": \"\",\n        \"description\": \"\"\n      }\n    },\n    {\n      \"column\": \"black\",\n      \"properties\": {\n        \"dtype\": \"number\",\n        \"std\": 330.49870576744223,\n        \"min\": 0.0,\n        \"max\": 935.0,\n        \"num_unique_values\": 5,\n        \"samples\": [\n          0.12834224598930483,\n          1.0,\n          0.33464950260611753\n        ],\n        \"semantic_type\": \"\",\n        \"description\": \"\"\n      }\n    },\n    {\n      \"column\": \"south\",\n      \"properties\": {\n        \"dtype\": \"number\",\n        \"std\": 330.43047556456685,\n        \"min\": 0.0,\n        \"max\": 935.0,\n        \"num_unique_values\": 5,\n        \"samples\": [\n          0.3411764705882353,\n          1.0,\n          0.47435824548125266\n        ],\n        \"semantic_type\": \"\",\n        \"description\": \"\"\n      }\n    },\n    {\n      \"column\": \"urban\",\n      \"properties\": {\n        \"dtype\": \"number\",\n        \"std\": 330.36217004843064,\n        \"min\": 0.0,\n        \"max\": 935.0,\n        \"num_unique_values\": 5,\n        \"samples\": [\n          0.7176470588235294,\n          1.0,\n          0.4503850642886305\n        ],\n        \"semantic_type\": \"\",\n        \"description\": \"\"\n      }\n    },\n    {\n      \"column\": \"sibs\",\n      \"properties\": {\n        \"dtype\": \"number\",\n        \"std\": 329.27547988748023,\n        \"min\": 0.0,\n        \"max\": 935.0,\n        \"num_unique_values\": 8,\n        \"samples\": [\n          2.9411764705882355,\n          2.0,\n          935.0\n        ],\n        \"semantic_type\": \"\",\n        \"description\": \"\"\n      }\n    },\n    {\n      \"column\": \"brthord\",\n      \"properties\": {\n        \"dtype\": \"number\",\n        \"std\": 300.18765724700995,\n        \"min\": 1.0,\n        \"max\": 852.0,\n        \"num_unique_values\": 7,\n        \"samples\": [\n          852.0,\n          2.276995305164319,\n          3.0\n        ],\n        \"semantic_type\": \"\",\n        \"description\": \"\"\n      }\n    },\n    {\n      \"column\": \"meduc\",\n      \"properties\": {\n        \"dtype\": \"number\",\n        \"std\": 299.83918518500695,\n        \"min\": 0.0,\n        \"max\": 857.0,\n        \"num_unique_values\": 7,\n        \"samples\": [\n          857.0,\n          10.682613768961494,\n          12.0\n        ],\n        \"semantic_type\": \"\",\n        \"description\": \"\"\n      }\n    },\n    {\n      \"column\": \"feduc\",\n      \"properties\": {\n        \"dtype\": \"number\",\n        \"std\": 258.93294774718055,\n        \"min\": 0.0,\n        \"max\": 741.0,\n        \"num_unique_values\": 8,\n        \"samples\": [\n          10.21727395411606,\n          10.0,\n          741.0\n        ],\n        \"semantic_type\": \"\",\n        \"description\": \"\"\n      }\n    },\n    {\n      \"column\": \"Jh\",\n      \"properties\": {\n        \"dtype\": \"number\",\n        \"std\": 317.0773761392373,\n        \"min\": 5.668649825356626,\n        \"max\": 935.0,\n        \"num_unique_values\": 8,\n        \"samples\": [\n          46.13206515794861,\n          46.34797896422499,\n          935.0\n        ],\n        \"semantic_type\": \"\",\n        \"description\": \"\"\n      }\n    }\n  ]\n}"
            }
          },
          "metadata": {},
          "execution_count": 49
        }
      ]
    },
    {
      "cell_type": "markdown",
      "source": [
        "Miremos a continuación un filtro de base de datos para agrupar por edad y luego aplicar una selección de variables y con ello obtener su media o promedio."
      ],
      "metadata": {
        "id": "eOWM5OOH6p-b"
      },
      "id": "eOWM5OOH6p-b"
    },
    {
      "cell_type": "code",
      "source": [
        "# Agrupar por medias\n",
        "medias = df.groupby(['age'])[['wage', 'exper']].mean()\n",
        "print(medias)\n"
      ],
      "metadata": {
        "colab": {
          "base_uri": "https://localhost:8080/"
        },
        "id": "OqfksLq-j-89",
        "outputId": "bada8948-58cf-483a-a236-7f9216522b09"
      },
      "id": "OqfksLq-j-89",
      "execution_count": 50,
      "outputs": [
        {
          "output_type": "stream",
          "name": "stdout",
          "text": [
            "            wage      exper\n",
            "age                        \n",
            "28    863.377778   8.644444\n",
            "29    938.279070   9.197674\n",
            "30    799.533333   9.383333\n",
            "31    874.948980   9.020408\n",
            "32   1015.010101  10.696970\n",
            "33    972.382716  11.296296\n",
            "34    988.753623  12.492754\n",
            "35    959.786885  13.672131\n",
            "36   1104.747368  13.757895\n",
            "37   1035.829268  14.695122\n",
            "38    995.323232  14.545455\n"
          ]
        }
      ]
    },
    {
      "cell_type": "markdown",
      "source": [
        "Si queremos ver el encabezado de un **subconjunto** de datos a partir de la selección de 2 Variables"
      ],
      "metadata": {
        "id": "O9wgHelA7Inq"
      },
      "id": "O9wgHelA7Inq"
    },
    {
      "cell_type": "code",
      "source": [
        "# Seleccionar dos variables de la base de datos\n",
        "df_seleccion = df[['wage', 'hours']]\n",
        "print(df_seleccion.head())"
      ],
      "metadata": {
        "colab": {
          "base_uri": "https://localhost:8080/"
        },
        "id": "Fp96ex_A345r",
        "outputId": "fd08efaa-0911-4d76-86ff-e8b12a503dec"
      },
      "id": "Fp96ex_A345r",
      "execution_count": 51,
      "outputs": [
        {
          "output_type": "stream",
          "name": "stdout",
          "text": [
            "   wage  hours\n",
            "0   769     40\n",
            "1   808     50\n",
            "2   825     40\n",
            "3   650     40\n",
            "4   562     40\n"
          ]
        }
      ]
    },
    {
      "cell_type": "code",
      "source": [
        "dffiltro = df[df['wage'] <= 400]\n",
        "dffiltro.head()"
      ],
      "metadata": {
        "colab": {
          "base_uri": "https://localhost:8080/",
          "height": 206
        },
        "id": "0oqa7e-z4mjE",
        "outputId": "28536098-4f45-4232-bdb9-1ffda185ee72"
      },
      "id": "0oqa7e-z4mjE",
      "execution_count": 52,
      "outputs": [
        {
          "output_type": "execute_result",
          "data": {
            "text/plain": [
              "     wage  hours   IQ  KWW  educ  exper  tenure  age  married  black  south  \\\n",
              "178   400     40   75   33    12     11       6   32        1      0      0   \n",
              "229   265     40  101   43    12     18       2   37        1      0      0   \n",
              "257   375     40   99   29    10     12       2   30        1      0      1   \n",
              "290   289     40   94   35    12      9       0   30        1      0      0   \n",
              "331   400     70  100   43    12     12       3   32        1      0      0   \n",
              "\n",
              "     urban  sibs  brthord  meduc  feduc         Jh  \n",
              "178      1     4      NaN    7.0   12.0  35.897653  \n",
              "229      1     1      2.0    NaN    NaN  31.133387  \n",
              "257      0     3      2.0    8.0    5.0  35.128452  \n",
              "290      1     2      3.0    5.0   11.0  32.108395  \n",
              "331      1     3      2.0    5.0    8.0  35.897653  "
            ],
            "text/html": [
              "\n",
              "  <div id=\"df-3a142b50-ad5e-49df-946a-884fdff16d7a\" class=\"colab-df-container\">\n",
              "    <div>\n",
              "<style scoped>\n",
              "    .dataframe tbody tr th:only-of-type {\n",
              "        vertical-align: middle;\n",
              "    }\n",
              "\n",
              "    .dataframe tbody tr th {\n",
              "        vertical-align: top;\n",
              "    }\n",
              "\n",
              "    .dataframe thead th {\n",
              "        text-align: right;\n",
              "    }\n",
              "</style>\n",
              "<table border=\"1\" class=\"dataframe\">\n",
              "  <thead>\n",
              "    <tr style=\"text-align: right;\">\n",
              "      <th></th>\n",
              "      <th>wage</th>\n",
              "      <th>hours</th>\n",
              "      <th>IQ</th>\n",
              "      <th>KWW</th>\n",
              "      <th>educ</th>\n",
              "      <th>exper</th>\n",
              "      <th>tenure</th>\n",
              "      <th>age</th>\n",
              "      <th>married</th>\n",
              "      <th>black</th>\n",
              "      <th>south</th>\n",
              "      <th>urban</th>\n",
              "      <th>sibs</th>\n",
              "      <th>brthord</th>\n",
              "      <th>meduc</th>\n",
              "      <th>feduc</th>\n",
              "      <th>Jh</th>\n",
              "    </tr>\n",
              "  </thead>\n",
              "  <tbody>\n",
              "    <tr>\n",
              "      <th>178</th>\n",
              "      <td>400</td>\n",
              "      <td>40</td>\n",
              "      <td>75</td>\n",
              "      <td>33</td>\n",
              "      <td>12</td>\n",
              "      <td>11</td>\n",
              "      <td>6</td>\n",
              "      <td>32</td>\n",
              "      <td>1</td>\n",
              "      <td>0</td>\n",
              "      <td>0</td>\n",
              "      <td>1</td>\n",
              "      <td>4</td>\n",
              "      <td>NaN</td>\n",
              "      <td>7.0</td>\n",
              "      <td>12.0</td>\n",
              "      <td>35.897653</td>\n",
              "    </tr>\n",
              "    <tr>\n",
              "      <th>229</th>\n",
              "      <td>265</td>\n",
              "      <td>40</td>\n",
              "      <td>101</td>\n",
              "      <td>43</td>\n",
              "      <td>12</td>\n",
              "      <td>18</td>\n",
              "      <td>2</td>\n",
              "      <td>37</td>\n",
              "      <td>1</td>\n",
              "      <td>0</td>\n",
              "      <td>0</td>\n",
              "      <td>1</td>\n",
              "      <td>1</td>\n",
              "      <td>2.0</td>\n",
              "      <td>NaN</td>\n",
              "      <td>NaN</td>\n",
              "      <td>31.133387</td>\n",
              "    </tr>\n",
              "    <tr>\n",
              "      <th>257</th>\n",
              "      <td>375</td>\n",
              "      <td>40</td>\n",
              "      <td>99</td>\n",
              "      <td>29</td>\n",
              "      <td>10</td>\n",
              "      <td>12</td>\n",
              "      <td>2</td>\n",
              "      <td>30</td>\n",
              "      <td>1</td>\n",
              "      <td>0</td>\n",
              "      <td>1</td>\n",
              "      <td>0</td>\n",
              "      <td>3</td>\n",
              "      <td>2.0</td>\n",
              "      <td>8.0</td>\n",
              "      <td>5.0</td>\n",
              "      <td>35.128452</td>\n",
              "    </tr>\n",
              "    <tr>\n",
              "      <th>290</th>\n",
              "      <td>289</td>\n",
              "      <td>40</td>\n",
              "      <td>94</td>\n",
              "      <td>35</td>\n",
              "      <td>12</td>\n",
              "      <td>9</td>\n",
              "      <td>0</td>\n",
              "      <td>30</td>\n",
              "      <td>1</td>\n",
              "      <td>0</td>\n",
              "      <td>0</td>\n",
              "      <td>1</td>\n",
              "      <td>2</td>\n",
              "      <td>3.0</td>\n",
              "      <td>5.0</td>\n",
              "      <td>11.0</td>\n",
              "      <td>32.108395</td>\n",
              "    </tr>\n",
              "    <tr>\n",
              "      <th>331</th>\n",
              "      <td>400</td>\n",
              "      <td>70</td>\n",
              "      <td>100</td>\n",
              "      <td>43</td>\n",
              "      <td>12</td>\n",
              "      <td>12</td>\n",
              "      <td>3</td>\n",
              "      <td>32</td>\n",
              "      <td>1</td>\n",
              "      <td>0</td>\n",
              "      <td>0</td>\n",
              "      <td>1</td>\n",
              "      <td>3</td>\n",
              "      <td>2.0</td>\n",
              "      <td>5.0</td>\n",
              "      <td>8.0</td>\n",
              "      <td>35.897653</td>\n",
              "    </tr>\n",
              "  </tbody>\n",
              "</table>\n",
              "</div>\n",
              "    <div class=\"colab-df-buttons\">\n",
              "\n",
              "  <div class=\"colab-df-container\">\n",
              "    <button class=\"colab-df-convert\" onclick=\"convertToInteractive('df-3a142b50-ad5e-49df-946a-884fdff16d7a')\"\n",
              "            title=\"Convert this dataframe to an interactive table.\"\n",
              "            style=\"display:none;\">\n",
              "\n",
              "  <svg xmlns=\"http://www.w3.org/2000/svg\" height=\"24px\" viewBox=\"0 -960 960 960\">\n",
              "    <path d=\"M120-120v-720h720v720H120Zm60-500h600v-160H180v160Zm220 220h160v-160H400v160Zm0 220h160v-160H400v160ZM180-400h160v-160H180v160Zm440 0h160v-160H620v160ZM180-180h160v-160H180v160Zm440 0h160v-160H620v160Z\"/>\n",
              "  </svg>\n",
              "    </button>\n",
              "\n",
              "  <style>\n",
              "    .colab-df-container {\n",
              "      display:flex;\n",
              "      gap: 12px;\n",
              "    }\n",
              "\n",
              "    .colab-df-convert {\n",
              "      background-color: #E8F0FE;\n",
              "      border: none;\n",
              "      border-radius: 50%;\n",
              "      cursor: pointer;\n",
              "      display: none;\n",
              "      fill: #1967D2;\n",
              "      height: 32px;\n",
              "      padding: 0 0 0 0;\n",
              "      width: 32px;\n",
              "    }\n",
              "\n",
              "    .colab-df-convert:hover {\n",
              "      background-color: #E2EBFA;\n",
              "      box-shadow: 0px 1px 2px rgba(60, 64, 67, 0.3), 0px 1px 3px 1px rgba(60, 64, 67, 0.15);\n",
              "      fill: #174EA6;\n",
              "    }\n",
              "\n",
              "    .colab-df-buttons div {\n",
              "      margin-bottom: 4px;\n",
              "    }\n",
              "\n",
              "    [theme=dark] .colab-df-convert {\n",
              "      background-color: #3B4455;\n",
              "      fill: #D2E3FC;\n",
              "    }\n",
              "\n",
              "    [theme=dark] .colab-df-convert:hover {\n",
              "      background-color: #434B5C;\n",
              "      box-shadow: 0px 1px 3px 1px rgba(0, 0, 0, 0.15);\n",
              "      filter: drop-shadow(0px 1px 2px rgba(0, 0, 0, 0.3));\n",
              "      fill: #FFFFFF;\n",
              "    }\n",
              "  </style>\n",
              "\n",
              "    <script>\n",
              "      const buttonEl =\n",
              "        document.querySelector('#df-3a142b50-ad5e-49df-946a-884fdff16d7a button.colab-df-convert');\n",
              "      buttonEl.style.display =\n",
              "        google.colab.kernel.accessAllowed ? 'block' : 'none';\n",
              "\n",
              "      async function convertToInteractive(key) {\n",
              "        const element = document.querySelector('#df-3a142b50-ad5e-49df-946a-884fdff16d7a');\n",
              "        const dataTable =\n",
              "          await google.colab.kernel.invokeFunction('convertToInteractive',\n",
              "                                                    [key], {});\n",
              "        if (!dataTable) return;\n",
              "\n",
              "        const docLinkHtml = 'Like what you see? Visit the ' +\n",
              "          '<a target=\"_blank\" href=https://colab.research.google.com/notebooks/data_table.ipynb>data table notebook</a>'\n",
              "          + ' to learn more about interactive tables.';\n",
              "        element.innerHTML = '';\n",
              "        dataTable['output_type'] = 'display_data';\n",
              "        await google.colab.output.renderOutput(dataTable, element);\n",
              "        const docLink = document.createElement('div');\n",
              "        docLink.innerHTML = docLinkHtml;\n",
              "        element.appendChild(docLink);\n",
              "      }\n",
              "    </script>\n",
              "  </div>\n",
              "\n",
              "\n",
              "<div id=\"df-2de050e1-7fb4-402f-9cec-b40cc72f3a8e\">\n",
              "  <button class=\"colab-df-quickchart\" onclick=\"quickchart('df-2de050e1-7fb4-402f-9cec-b40cc72f3a8e')\"\n",
              "            title=\"Suggest charts\"\n",
              "            style=\"display:none;\">\n",
              "\n",
              "<svg xmlns=\"http://www.w3.org/2000/svg\" height=\"24px\"viewBox=\"0 0 24 24\"\n",
              "     width=\"24px\">\n",
              "    <g>\n",
              "        <path d=\"M19 3H5c-1.1 0-2 .9-2 2v14c0 1.1.9 2 2 2h14c1.1 0 2-.9 2-2V5c0-1.1-.9-2-2-2zM9 17H7v-7h2v7zm4 0h-2V7h2v10zm4 0h-2v-4h2v4z\"/>\n",
              "    </g>\n",
              "</svg>\n",
              "  </button>\n",
              "\n",
              "<style>\n",
              "  .colab-df-quickchart {\n",
              "      --bg-color: #E8F0FE;\n",
              "      --fill-color: #1967D2;\n",
              "      --hover-bg-color: #E2EBFA;\n",
              "      --hover-fill-color: #174EA6;\n",
              "      --disabled-fill-color: #AAA;\n",
              "      --disabled-bg-color: #DDD;\n",
              "  }\n",
              "\n",
              "  [theme=dark] .colab-df-quickchart {\n",
              "      --bg-color: #3B4455;\n",
              "      --fill-color: #D2E3FC;\n",
              "      --hover-bg-color: #434B5C;\n",
              "      --hover-fill-color: #FFFFFF;\n",
              "      --disabled-bg-color: #3B4455;\n",
              "      --disabled-fill-color: #666;\n",
              "  }\n",
              "\n",
              "  .colab-df-quickchart {\n",
              "    background-color: var(--bg-color);\n",
              "    border: none;\n",
              "    border-radius: 50%;\n",
              "    cursor: pointer;\n",
              "    display: none;\n",
              "    fill: var(--fill-color);\n",
              "    height: 32px;\n",
              "    padding: 0;\n",
              "    width: 32px;\n",
              "  }\n",
              "\n",
              "  .colab-df-quickchart:hover {\n",
              "    background-color: var(--hover-bg-color);\n",
              "    box-shadow: 0 1px 2px rgba(60, 64, 67, 0.3), 0 1px 3px 1px rgba(60, 64, 67, 0.15);\n",
              "    fill: var(--button-hover-fill-color);\n",
              "  }\n",
              "\n",
              "  .colab-df-quickchart-complete:disabled,\n",
              "  .colab-df-quickchart-complete:disabled:hover {\n",
              "    background-color: var(--disabled-bg-color);\n",
              "    fill: var(--disabled-fill-color);\n",
              "    box-shadow: none;\n",
              "  }\n",
              "\n",
              "  .colab-df-spinner {\n",
              "    border: 2px solid var(--fill-color);\n",
              "    border-color: transparent;\n",
              "    border-bottom-color: var(--fill-color);\n",
              "    animation:\n",
              "      spin 1s steps(1) infinite;\n",
              "  }\n",
              "\n",
              "  @keyframes spin {\n",
              "    0% {\n",
              "      border-color: transparent;\n",
              "      border-bottom-color: var(--fill-color);\n",
              "      border-left-color: var(--fill-color);\n",
              "    }\n",
              "    20% {\n",
              "      border-color: transparent;\n",
              "      border-left-color: var(--fill-color);\n",
              "      border-top-color: var(--fill-color);\n",
              "    }\n",
              "    30% {\n",
              "      border-color: transparent;\n",
              "      border-left-color: var(--fill-color);\n",
              "      border-top-color: var(--fill-color);\n",
              "      border-right-color: var(--fill-color);\n",
              "    }\n",
              "    40% {\n",
              "      border-color: transparent;\n",
              "      border-right-color: var(--fill-color);\n",
              "      border-top-color: var(--fill-color);\n",
              "    }\n",
              "    60% {\n",
              "      border-color: transparent;\n",
              "      border-right-color: var(--fill-color);\n",
              "    }\n",
              "    80% {\n",
              "      border-color: transparent;\n",
              "      border-right-color: var(--fill-color);\n",
              "      border-bottom-color: var(--fill-color);\n",
              "    }\n",
              "    90% {\n",
              "      border-color: transparent;\n",
              "      border-bottom-color: var(--fill-color);\n",
              "    }\n",
              "  }\n",
              "</style>\n",
              "\n",
              "  <script>\n",
              "    async function quickchart(key) {\n",
              "      const quickchartButtonEl =\n",
              "        document.querySelector('#' + key + ' button');\n",
              "      quickchartButtonEl.disabled = true;  // To prevent multiple clicks.\n",
              "      quickchartButtonEl.classList.add('colab-df-spinner');\n",
              "      try {\n",
              "        const charts = await google.colab.kernel.invokeFunction(\n",
              "            'suggestCharts', [key], {});\n",
              "      } catch (error) {\n",
              "        console.error('Error during call to suggestCharts:', error);\n",
              "      }\n",
              "      quickchartButtonEl.classList.remove('colab-df-spinner');\n",
              "      quickchartButtonEl.classList.add('colab-df-quickchart-complete');\n",
              "    }\n",
              "    (() => {\n",
              "      let quickchartButtonEl =\n",
              "        document.querySelector('#df-2de050e1-7fb4-402f-9cec-b40cc72f3a8e button');\n",
              "      quickchartButtonEl.style.display =\n",
              "        google.colab.kernel.accessAllowed ? 'block' : 'none';\n",
              "    })();\n",
              "  </script>\n",
              "</div>\n",
              "\n",
              "    </div>\n",
              "  </div>\n"
            ],
            "application/vnd.google.colaboratory.intrinsic+json": {
              "type": "dataframe",
              "variable_name": "dffiltro",
              "summary": "{\n  \"name\": \"dffiltro\",\n  \"rows\": 37,\n  \"fields\": [\n    {\n      \"column\": \"wage\",\n      \"properties\": {\n        \"dtype\": \"number\",\n        \"std\": 62,\n        \"min\": 115,\n        \"max\": 400,\n        \"num_unique_values\": 24,\n        \"samples\": [\n          200,\n          115,\n          400\n        ],\n        \"semantic_type\": \"\",\n        \"description\": \"\"\n      }\n    },\n    {\n      \"column\": \"hours\",\n      \"properties\": {\n        \"dtype\": \"number\",\n        \"std\": 10,\n        \"min\": 24,\n        \"max\": 70,\n        \"num_unique_values\": 10,\n        \"samples\": [\n          32,\n          70,\n          59\n        ],\n        \"semantic_type\": \"\",\n        \"description\": \"\"\n      }\n    },\n    {\n      \"column\": \"IQ\",\n      \"properties\": {\n        \"dtype\": \"number\",\n        \"std\": 14,\n        \"min\": 67,\n        \"max\": 117,\n        \"num_unique_values\": 28,\n        \"samples\": [\n          67,\n          113,\n          74\n        ],\n        \"semantic_type\": \"\",\n        \"description\": \"\"\n      }\n    },\n    {\n      \"column\": \"KWW\",\n      \"properties\": {\n        \"dtype\": \"number\",\n        \"std\": 6,\n        \"min\": 24,\n        \"max\": 48,\n        \"num_unique_values\": 19,\n        \"samples\": [\n          33,\n          32,\n          28\n        ],\n        \"semantic_type\": \"\",\n        \"description\": \"\"\n      }\n    },\n    {\n      \"column\": \"educ\",\n      \"properties\": {\n        \"dtype\": \"number\",\n        \"std\": 1,\n        \"min\": 10,\n        \"max\": 18,\n        \"num_unique_values\": 7,\n        \"samples\": [\n          12,\n          10,\n          15\n        ],\n        \"semantic_type\": \"\",\n        \"description\": \"\"\n      }\n    },\n    {\n      \"column\": \"exper\",\n      \"properties\": {\n        \"dtype\": \"number\",\n        \"std\": 4,\n        \"min\": 4,\n        \"max\": 21,\n        \"num_unique_values\": 14,\n        \"samples\": [\n          4,\n          13,\n          11\n        ],\n        \"semantic_type\": \"\",\n        \"description\": \"\"\n      }\n    },\n    {\n      \"column\": \"tenure\",\n      \"properties\": {\n        \"dtype\": \"number\",\n        \"std\": 4,\n        \"min\": 0,\n        \"max\": 17,\n        \"num_unique_values\": 14,\n        \"samples\": [\n          8,\n          16,\n          6\n        ],\n        \"semantic_type\": \"\",\n        \"description\": \"\"\n      }\n    },\n    {\n      \"column\": \"age\",\n      \"properties\": {\n        \"dtype\": \"number\",\n        \"std\": 2,\n        \"min\": 28,\n        \"max\": 38,\n        \"num_unique_values\": 9,\n        \"samples\": [\n          29,\n          37,\n          38\n        ],\n        \"semantic_type\": \"\",\n        \"description\": \"\"\n      }\n    },\n    {\n      \"column\": \"married\",\n      \"properties\": {\n        \"dtype\": \"number\",\n        \"std\": 0,\n        \"min\": 0,\n        \"max\": 1,\n        \"num_unique_values\": 2,\n        \"samples\": [\n          0,\n          1\n        ],\n        \"semantic_type\": \"\",\n        \"description\": \"\"\n      }\n    },\n    {\n      \"column\": \"black\",\n      \"properties\": {\n        \"dtype\": \"number\",\n        \"std\": 0,\n        \"min\": 0,\n        \"max\": 1,\n        \"num_unique_values\": 2,\n        \"samples\": [\n          1,\n          0\n        ],\n        \"semantic_type\": \"\",\n        \"description\": \"\"\n      }\n    },\n    {\n      \"column\": \"south\",\n      \"properties\": {\n        \"dtype\": \"number\",\n        \"std\": 0,\n        \"min\": 0,\n        \"max\": 1,\n        \"num_unique_values\": 2,\n        \"samples\": [\n          1,\n          0\n        ],\n        \"semantic_type\": \"\",\n        \"description\": \"\"\n      }\n    },\n    {\n      \"column\": \"urban\",\n      \"properties\": {\n        \"dtype\": \"number\",\n        \"std\": 0,\n        \"min\": 0,\n        \"max\": 1,\n        \"num_unique_values\": 2,\n        \"samples\": [\n          0,\n          1\n        ],\n        \"semantic_type\": \"\",\n        \"description\": \"\"\n      }\n    },\n    {\n      \"column\": \"sibs\",\n      \"properties\": {\n        \"dtype\": \"number\",\n        \"std\": 1,\n        \"min\": 1,\n        \"max\": 9,\n        \"num_unique_values\": 8,\n        \"samples\": [\n          1,\n          5\n        ],\n        \"semantic_type\": \"\",\n        \"description\": \"\"\n      }\n    },\n    {\n      \"column\": \"brthord\",\n      \"properties\": {\n        \"dtype\": \"number\",\n        \"std\": 1.6990289895670299,\n        \"min\": 1.0,\n        \"max\": 7.0,\n        \"num_unique_values\": 6,\n        \"samples\": [\n          2.0,\n          3.0\n        ],\n        \"semantic_type\": \"\",\n        \"description\": \"\"\n      }\n    },\n    {\n      \"column\": \"meduc\",\n      \"properties\": {\n        \"dtype\": \"number\",\n        \"std\": 3.4064395848394686,\n        \"min\": 3.0,\n        \"max\": 16.0,\n        \"num_unique_values\": 12,\n        \"samples\": [\n          6.0,\n          16.0\n        ],\n        \"semantic_type\": \"\",\n        \"description\": \"\"\n      }\n    },\n    {\n      \"column\": \"feduc\",\n      \"properties\": {\n        \"dtype\": \"number\",\n        \"std\": 3.926243066263806,\n        \"min\": 2.0,\n        \"max\": 18.0,\n        \"num_unique_values\": 11,\n        \"samples\": [\n          13.0,\n          12.0\n        ],\n        \"semantic_type\": \"\",\n        \"description\": \"\"\n      }\n    },\n    {\n      \"column\": \"Jh\",\n      \"properties\": {\n        \"dtype\": \"number\",\n        \"std\": 2.6342341940344722,\n        \"min\": 22.514379684624004,\n        \"max\": 35.897652846225,\n        \"num_unique_values\": 24,\n        \"samples\": [\n          28.072163032488998,\n          22.514379684624004\n        ],\n        \"semantic_type\": \"\",\n        \"description\": \"\"\n      }\n    }\n  ]\n}"
            }
          },
          "metadata": {},
          "execution_count": 52
        }
      ]
    },
    {
      "cell_type": "markdown",
      "source": [
        "Vamos ahora a continuación a crear un modelo de regresión multiple en python. Para eso usaremos a **pandas** para realizar nuestros respectivos calculos"
      ],
      "metadata": {
        "id": "nzbYmOrmWOgG"
      },
      "id": "nzbYmOrmWOgG"
    },
    {
      "cell_type": "code",
      "source": [
        "df['Altura'] = df['age'].apply(lambda x: 'Alta' if x >= 30 else 'Baja')\n",
        "# Miramos un ejemplo\n",
        "print(df)"
      ],
      "metadata": {
        "colab": {
          "base_uri": "https://localhost:8080/"
        },
        "id": "HHgpHgMY7-4_",
        "outputId": "1a864282-554f-4993-f670-59b62e7ffb2a"
      },
      "id": "HHgpHgMY7-4_",
      "execution_count": 53,
      "outputs": [
        {
          "output_type": "stream",
          "name": "stdout",
          "text": [
            "     wage  hours   IQ  KWW  educ  exper  tenure  age  married  black  south  \\\n",
            "0     769     40   93   35    12     11       2   31        1      0      0   \n",
            "1     808     50  119   41    18     11      16   37        1      0      0   \n",
            "2     825     40  108   46    14     11       9   33        1      0      0   \n",
            "3     650     40   96   32    12     13       7   32        1      0      0   \n",
            "4     562     40   74   27    11     14       5   34        1      0      0   \n",
            "..    ...    ...  ...  ...   ...    ...     ...  ...      ...    ...    ...   \n",
            "930   520     40   79   28    16      6       1   30        1      1      1   \n",
            "931  1202     40  102   32    13     10       3   31        1      0      1   \n",
            "932   538     45   77   22    12     12      10   28        1      1      1   \n",
            "933   873     44  109   25    12     12      12   28        1      0      1   \n",
            "934  1000     40  107   32    12     17      18   35        1      0      1   \n",
            "\n",
            "     urban  sibs  brthord  meduc  feduc         Jh Altura  \n",
            "0        1     1      2.0    8.0    8.0  44.157234   Alta  \n",
            "1        1     1      NaN   14.0   14.0  44.817160   Alta  \n",
            "2        1     1      2.0   14.0   14.0  45.096382   Alta  \n",
            "3        1     4      3.0   12.0   12.0  41.951179   Alta  \n",
            "4        1    10      6.0    6.0   11.0  40.087918   Alta  \n",
            "..     ...   ...      ...    ...    ...        ...    ...  \n",
            "930      0     0      1.0   11.0    NaN  39.110377   Alta  \n",
            "931      1     7      7.0    8.0    6.0  50.292805   Alta  \n",
            "932      0     9      NaN    7.0    NaN  39.537158   Baja  \n",
            "933      0     1      1.0    NaN   11.0  45.859104   Baja  \n",
            "934      0     5      1.0    NaN    NaN  47.717079   Alta  \n",
            "\n",
            "[935 rows x 18 columns]\n"
          ]
        }
      ]
    },
    {
      "cell_type": "markdown",
      "source": [
        "Si quiero un grafico de histograma y ademas hacer una medición con estadisticas puedo entonces:"
      ],
      "metadata": {
        "id": "VKmFTL6l8-fF"
      },
      "id": "VKmFTL6l8-fF"
    },
    {
      "cell_type": "code",
      "source": [
        "import plotly.express as px\n",
        "import scipy.stats as stats\n",
        "\n",
        "# Crear histograma interactivo de ingresos con Plotly\n",
        "fig = px.histogram(df, x='wage', nbins=10, title='Histograma de Ingresos')\n",
        "\n",
        "# Calcular curtosis y asimetría en la métrica\n",
        "curtosis = stats.kurtosis(df['wage'])\n",
        "asimetria = stats.skew(df['wage'])\n",
        "\n",
        "# Ver el gráfico de histograma\n",
        "fig.show()\n",
        "\n",
        "# Mostrar las estadísticas de curtosis y asimetría\n",
        "print(f\"Curtosis: {curtosis}\")\n",
        "print(f\"Asimetría: {asimetria}\")"
      ],
      "metadata": {
        "colab": {
          "base_uri": "https://localhost:8080/",
          "height": 577
        },
        "id": "wWXwnC6s9oaq",
        "outputId": "f91a3e81-f89b-4e66-f6e9-2bc72e5aeca2"
      },
      "id": "wWXwnC6s9oaq",
      "execution_count": 54,
      "outputs": [
        {
          "output_type": "display_data",
          "data": {
            "text/html": [
              "<html>\n",
              "<head><meta charset=\"utf-8\" /></head>\n",
              "<body>\n",
              "    <div>            <script src=\"https://cdnjs.cloudflare.com/ajax/libs/mathjax/2.7.5/MathJax.js?config=TeX-AMS-MML_SVG\"></script><script type=\"text/javascript\">if (window.MathJax && window.MathJax.Hub && window.MathJax.Hub.Config) {window.MathJax.Hub.Config({SVG: {font: \"STIX-Web\"}});}</script>                <script type=\"text/javascript\">window.PlotlyConfig = {MathJaxConfig: 'local'};</script>\n",
              "        <script charset=\"utf-8\" src=\"https://cdn.plot.ly/plotly-2.24.1.min.js\"></script>                <div id=\"72691edb-c147-49e0-91f1-79f40773124b\" class=\"plotly-graph-div\" style=\"height:525px; width:100%;\"></div>            <script type=\"text/javascript\">                                    window.PLOTLYENV=window.PLOTLYENV || {};                                    if (document.getElementById(\"72691edb-c147-49e0-91f1-79f40773124b\")) {                    Plotly.newPlot(                        \"72691edb-c147-49e0-91f1-79f40773124b\",                        [{\"alignmentgroup\":\"True\",\"bingroup\":\"x\",\"hovertemplate\":\"wage=%{x}\\u003cbr\\u003ecount=%{y}\\u003cextra\\u003e\\u003c\\u002fextra\\u003e\",\"legendgroup\":\"\",\"marker\":{\"color\":\"#636efa\",\"pattern\":{\"shape\":\"\"}},\"name\":\"\",\"nbinsx\":10,\"offsetgroup\":\"\",\"orientation\":\"v\",\"showlegend\":false,\"x\":[769,808,825,650,562,1400,600,1081,1154,1000,930,921,900,1318,1792,958,1360,850,830,471,1275,1615,873,2137,1053,1602,1188,800,1417,635,1000,1424,2668,666,1779,782,1572,1274,714,1081,692,1318,1239,1027,1748,981,770,1154,1155,808,1100,1154,1749,1000,462,769,875,1375,1452,800,1748,1151,840,978,963,619,442,600,1366,1643,1455,2310,1682,1235,855,1072,1040,1000,675,1100,996,732,1200,1694,686,754,857,832,579,672,2500,1076,750,1186,833,650,1250,1122,865,808,1299,903,900,625,1586,962,1539,1110,1282,770,1000,895,1205,750,654,601,600,433,1188,635,1225,1151,865,1031,1049,1000,1105,1924,1346,809,1495,1346,1200,500,1325,900,800,800,1034,980,884,480,923,513,1105,1193,2771,779,950,1394,1495,650,670,1126,450,1028,2404,1899,757,1250,1162,1025,1100,714,1318,1411,2162,1273,1140,578,942,1058,750,1000,951,635,1250,675,400,577,590,923,1250,1100,1130,652,618,962,529,817,962,840,866,2404,1126,1160,723,1778,1903,1010,971,525,525,670,500,1058,550,500,727,865,1081,1304,575,623,515,1273,990,600,1160,500,795,500,740,1250,1014,1250,913,1346,445,265,1250,1607,1452,1391,821,794,500,520,1730,1924,1155,2162,923,1115,449,1500,826,937,978,1031,1272,1136,800,1339,1063,935,808,375,537,1082,930,1155,548,622,841,769,587,1924,1058,417,1202,1154,1070,1202,711,1202,850,1000,490,1000,865,1375,1586,1602,3078,898,906,952,571,445,289,1444,962,1075,909,1250,620,1016,800,1050,1079,654,781,1038,1924,1202,666,905,890,817,812,577,756,1011,1155,1025,1350,1001,796,1230,754,714,1000,2067,912,600,951,711,1151,1000,841,400,1175,1202,1442,538,781,750,841,700,1346,800,1250,1105,475,762,962,721,800,658,1270,1313,824,1442,1400,1038,668,1100,1000,523,1111,962,729,690,1010,600,596,850,670,793,1442,670,876,841,975,1223,910,533,750,1206,745,900,1170,540,550,615,909,769,984,833,879,1027,1000,465,1100,641,1035,1212,950,938,1250,586,693,562,375,673,654,692,1111,1368,1282,1250,1346,1424,854,888,1161,583,1260,947,1850,1575,758,1442,489,1126,1000,500,1200,565,1920,684,774,233,975,1366,2137,700,1200,1161,729,750,1026,1111,625,1200,1541,1154,310,610,1749,1000,350,765,790,818,477,938,2099,350,940,1202,450,1058,1000,318,556,958,995,1600,606,511,1411,1346,1522,1075,1200,1377,874,625,1250,1082,693,727,615,913,884,698,800,812,1000,549,1300,923,1539,721,815,600,1100,1058,962,433,940,1417,1000,500,800,766,750,550,795,723,1039,200,400,575,850,508,1162,1199,1270,350,963,1463,802,642,751,488,1400,940,866,675,375,325,346,1442,560,550,950,684,1322,1634,417,472,666,1679,1039,1250,760,1154,1602,1442,865,705,1000,852,770,1000,1329,1682,577,685,577,1040,1250,600,480,1000,988,478,440,485,705,1550,960,1000,625,1346,961,479,1201,1346,1122,543,450,507,547,586,462,705,1566,1634,1282,556,1200,855,1053,1000,900,1602,508,1500,1682,750,843,409,1004,650,808,2137,761,769,345,495,987,2500,1098,1212,577,390,1500,583,460,945,1442,1333,1500,1333,700,973,2162,797,400,1015,1744,630,445,660,779,377,560,1122,453,1386,1539,1154,962,722,480,808,1442,1091,350,500,1026,577,1333,915,1105,910,1000,1160,1001,713,929,400,1241,1065,403,940,812,700,575,450,621,441,625,726,500,1000,393,600,962,962,865,1154,1386,732,865,700,975,1300,900,829,1000,827,500,1155,950,700,1710,533,2004,890,3078,1539,508,1354,1143,962,1250,990,905,926,1559,1312,923,879,800,1049,550,1190,583,1200,797,1371,360,1270,1832,909,1746,520,808,2137,692,931,812,866,1442,500,1384,528,881,1026,1212,1620,1843,1602,1000,737,1699,1699,1025,1107,625,720,855,1250,1130,900,1924,962,1874,1573,940,900,882,1710,1260,751,1097,1001,1154,1000,1250,857,1211,937,904,872,1200,1261,950,115,673,1084,1058,800,369,1924,855,864,1092,1025,850,673,800,1049,884,800,1200,664,1111,850,1000,875,1202,666,923,788,950,1442,866,625,680,693,875,2308,1196,700,721,1500,1050,801,640,1198,390,889,1076,1127,750,855,525,1104,553,800,1384,425,510,370,596,402,418,1133,681,950,600,661,925,550,606,425,340,692,575,571,817,987,616,1026,808,808,788,850,900,1418,260,662,562,562,357,1009,1442,651,750,754,700,503,937,624,750,900,540,642,400,900,513,894,1282,485,325,769,618,1040,751,380,300,753,1065,1070,1573,650,700,494,890,520,891,570,1444,481,500,1473,803,962,1000,600,450,629,492,1562,357,960,566,481,1442,645,788,644,477,664,520,1202,538,873,1000],\"xaxis\":\"x\",\"yaxis\":\"y\",\"type\":\"histogram\"}],                        {\"template\":{\"data\":{\"histogram2dcontour\":[{\"type\":\"histogram2dcontour\",\"colorbar\":{\"outlinewidth\":0,\"ticks\":\"\"},\"colorscale\":[[0.0,\"#0d0887\"],[0.1111111111111111,\"#46039f\"],[0.2222222222222222,\"#7201a8\"],[0.3333333333333333,\"#9c179e\"],[0.4444444444444444,\"#bd3786\"],[0.5555555555555556,\"#d8576b\"],[0.6666666666666666,\"#ed7953\"],[0.7777777777777778,\"#fb9f3a\"],[0.8888888888888888,\"#fdca26\"],[1.0,\"#f0f921\"]]}],\"choropleth\":[{\"type\":\"choropleth\",\"colorbar\":{\"outlinewidth\":0,\"ticks\":\"\"}}],\"histogram2d\":[{\"type\":\"histogram2d\",\"colorbar\":{\"outlinewidth\":0,\"ticks\":\"\"},\"colorscale\":[[0.0,\"#0d0887\"],[0.1111111111111111,\"#46039f\"],[0.2222222222222222,\"#7201a8\"],[0.3333333333333333,\"#9c179e\"],[0.4444444444444444,\"#bd3786\"],[0.5555555555555556,\"#d8576b\"],[0.6666666666666666,\"#ed7953\"],[0.7777777777777778,\"#fb9f3a\"],[0.8888888888888888,\"#fdca26\"],[1.0,\"#f0f921\"]]}],\"heatmap\":[{\"type\":\"heatmap\",\"colorbar\":{\"outlinewidth\":0,\"ticks\":\"\"},\"colorscale\":[[0.0,\"#0d0887\"],[0.1111111111111111,\"#46039f\"],[0.2222222222222222,\"#7201a8\"],[0.3333333333333333,\"#9c179e\"],[0.4444444444444444,\"#bd3786\"],[0.5555555555555556,\"#d8576b\"],[0.6666666666666666,\"#ed7953\"],[0.7777777777777778,\"#fb9f3a\"],[0.8888888888888888,\"#fdca26\"],[1.0,\"#f0f921\"]]}],\"heatmapgl\":[{\"type\":\"heatmapgl\",\"colorbar\":{\"outlinewidth\":0,\"ticks\":\"\"},\"colorscale\":[[0.0,\"#0d0887\"],[0.1111111111111111,\"#46039f\"],[0.2222222222222222,\"#7201a8\"],[0.3333333333333333,\"#9c179e\"],[0.4444444444444444,\"#bd3786\"],[0.5555555555555556,\"#d8576b\"],[0.6666666666666666,\"#ed7953\"],[0.7777777777777778,\"#fb9f3a\"],[0.8888888888888888,\"#fdca26\"],[1.0,\"#f0f921\"]]}],\"contourcarpet\":[{\"type\":\"contourcarpet\",\"colorbar\":{\"outlinewidth\":0,\"ticks\":\"\"}}],\"contour\":[{\"type\":\"contour\",\"colorbar\":{\"outlinewidth\":0,\"ticks\":\"\"},\"colorscale\":[[0.0,\"#0d0887\"],[0.1111111111111111,\"#46039f\"],[0.2222222222222222,\"#7201a8\"],[0.3333333333333333,\"#9c179e\"],[0.4444444444444444,\"#bd3786\"],[0.5555555555555556,\"#d8576b\"],[0.6666666666666666,\"#ed7953\"],[0.7777777777777778,\"#fb9f3a\"],[0.8888888888888888,\"#fdca26\"],[1.0,\"#f0f921\"]]}],\"surface\":[{\"type\":\"surface\",\"colorbar\":{\"outlinewidth\":0,\"ticks\":\"\"},\"colorscale\":[[0.0,\"#0d0887\"],[0.1111111111111111,\"#46039f\"],[0.2222222222222222,\"#7201a8\"],[0.3333333333333333,\"#9c179e\"],[0.4444444444444444,\"#bd3786\"],[0.5555555555555556,\"#d8576b\"],[0.6666666666666666,\"#ed7953\"],[0.7777777777777778,\"#fb9f3a\"],[0.8888888888888888,\"#fdca26\"],[1.0,\"#f0f921\"]]}],\"mesh3d\":[{\"type\":\"mesh3d\",\"colorbar\":{\"outlinewidth\":0,\"ticks\":\"\"}}],\"scatter\":[{\"fillpattern\":{\"fillmode\":\"overlay\",\"size\":10,\"solidity\":0.2},\"type\":\"scatter\"}],\"parcoords\":[{\"type\":\"parcoords\",\"line\":{\"colorbar\":{\"outlinewidth\":0,\"ticks\":\"\"}}}],\"scatterpolargl\":[{\"type\":\"scatterpolargl\",\"marker\":{\"colorbar\":{\"outlinewidth\":0,\"ticks\":\"\"}}}],\"bar\":[{\"error_x\":{\"color\":\"#2a3f5f\"},\"error_y\":{\"color\":\"#2a3f5f\"},\"marker\":{\"line\":{\"color\":\"#E5ECF6\",\"width\":0.5},\"pattern\":{\"fillmode\":\"overlay\",\"size\":10,\"solidity\":0.2}},\"type\":\"bar\"}],\"scattergeo\":[{\"type\":\"scattergeo\",\"marker\":{\"colorbar\":{\"outlinewidth\":0,\"ticks\":\"\"}}}],\"scatterpolar\":[{\"type\":\"scatterpolar\",\"marker\":{\"colorbar\":{\"outlinewidth\":0,\"ticks\":\"\"}}}],\"histogram\":[{\"marker\":{\"pattern\":{\"fillmode\":\"overlay\",\"size\":10,\"solidity\":0.2}},\"type\":\"histogram\"}],\"scattergl\":[{\"type\":\"scattergl\",\"marker\":{\"colorbar\":{\"outlinewidth\":0,\"ticks\":\"\"}}}],\"scatter3d\":[{\"type\":\"scatter3d\",\"line\":{\"colorbar\":{\"outlinewidth\":0,\"ticks\":\"\"}},\"marker\":{\"colorbar\":{\"outlinewidth\":0,\"ticks\":\"\"}}}],\"scattermapbox\":[{\"type\":\"scattermapbox\",\"marker\":{\"colorbar\":{\"outlinewidth\":0,\"ticks\":\"\"}}}],\"scatterternary\":[{\"type\":\"scatterternary\",\"marker\":{\"colorbar\":{\"outlinewidth\":0,\"ticks\":\"\"}}}],\"scattercarpet\":[{\"type\":\"scattercarpet\",\"marker\":{\"colorbar\":{\"outlinewidth\":0,\"ticks\":\"\"}}}],\"carpet\":[{\"aaxis\":{\"endlinecolor\":\"#2a3f5f\",\"gridcolor\":\"white\",\"linecolor\":\"white\",\"minorgridcolor\":\"white\",\"startlinecolor\":\"#2a3f5f\"},\"baxis\":{\"endlinecolor\":\"#2a3f5f\",\"gridcolor\":\"white\",\"linecolor\":\"white\",\"minorgridcolor\":\"white\",\"startlinecolor\":\"#2a3f5f\"},\"type\":\"carpet\"}],\"table\":[{\"cells\":{\"fill\":{\"color\":\"#EBF0F8\"},\"line\":{\"color\":\"white\"}},\"header\":{\"fill\":{\"color\":\"#C8D4E3\"},\"line\":{\"color\":\"white\"}},\"type\":\"table\"}],\"barpolar\":[{\"marker\":{\"line\":{\"color\":\"#E5ECF6\",\"width\":0.5},\"pattern\":{\"fillmode\":\"overlay\",\"size\":10,\"solidity\":0.2}},\"type\":\"barpolar\"}],\"pie\":[{\"automargin\":true,\"type\":\"pie\"}]},\"layout\":{\"autotypenumbers\":\"strict\",\"colorway\":[\"#636efa\",\"#EF553B\",\"#00cc96\",\"#ab63fa\",\"#FFA15A\",\"#19d3f3\",\"#FF6692\",\"#B6E880\",\"#FF97FF\",\"#FECB52\"],\"font\":{\"color\":\"#2a3f5f\"},\"hovermode\":\"closest\",\"hoverlabel\":{\"align\":\"left\"},\"paper_bgcolor\":\"white\",\"plot_bgcolor\":\"#E5ECF6\",\"polar\":{\"bgcolor\":\"#E5ECF6\",\"angularaxis\":{\"gridcolor\":\"white\",\"linecolor\":\"white\",\"ticks\":\"\"},\"radialaxis\":{\"gridcolor\":\"white\",\"linecolor\":\"white\",\"ticks\":\"\"}},\"ternary\":{\"bgcolor\":\"#E5ECF6\",\"aaxis\":{\"gridcolor\":\"white\",\"linecolor\":\"white\",\"ticks\":\"\"},\"baxis\":{\"gridcolor\":\"white\",\"linecolor\":\"white\",\"ticks\":\"\"},\"caxis\":{\"gridcolor\":\"white\",\"linecolor\":\"white\",\"ticks\":\"\"}},\"coloraxis\":{\"colorbar\":{\"outlinewidth\":0,\"ticks\":\"\"}},\"colorscale\":{\"sequential\":[[0.0,\"#0d0887\"],[0.1111111111111111,\"#46039f\"],[0.2222222222222222,\"#7201a8\"],[0.3333333333333333,\"#9c179e\"],[0.4444444444444444,\"#bd3786\"],[0.5555555555555556,\"#d8576b\"],[0.6666666666666666,\"#ed7953\"],[0.7777777777777778,\"#fb9f3a\"],[0.8888888888888888,\"#fdca26\"],[1.0,\"#f0f921\"]],\"sequentialminus\":[[0.0,\"#0d0887\"],[0.1111111111111111,\"#46039f\"],[0.2222222222222222,\"#7201a8\"],[0.3333333333333333,\"#9c179e\"],[0.4444444444444444,\"#bd3786\"],[0.5555555555555556,\"#d8576b\"],[0.6666666666666666,\"#ed7953\"],[0.7777777777777778,\"#fb9f3a\"],[0.8888888888888888,\"#fdca26\"],[1.0,\"#f0f921\"]],\"diverging\":[[0,\"#8e0152\"],[0.1,\"#c51b7d\"],[0.2,\"#de77ae\"],[0.3,\"#f1b6da\"],[0.4,\"#fde0ef\"],[0.5,\"#f7f7f7\"],[0.6,\"#e6f5d0\"],[0.7,\"#b8e186\"],[0.8,\"#7fbc41\"],[0.9,\"#4d9221\"],[1,\"#276419\"]]},\"xaxis\":{\"gridcolor\":\"white\",\"linecolor\":\"white\",\"ticks\":\"\",\"title\":{\"standoff\":15},\"zerolinecolor\":\"white\",\"automargin\":true,\"zerolinewidth\":2},\"yaxis\":{\"gridcolor\":\"white\",\"linecolor\":\"white\",\"ticks\":\"\",\"title\":{\"standoff\":15},\"zerolinecolor\":\"white\",\"automargin\":true,\"zerolinewidth\":2},\"scene\":{\"xaxis\":{\"backgroundcolor\":\"#E5ECF6\",\"gridcolor\":\"white\",\"linecolor\":\"white\",\"showbackground\":true,\"ticks\":\"\",\"zerolinecolor\":\"white\",\"gridwidth\":2},\"yaxis\":{\"backgroundcolor\":\"#E5ECF6\",\"gridcolor\":\"white\",\"linecolor\":\"white\",\"showbackground\":true,\"ticks\":\"\",\"zerolinecolor\":\"white\",\"gridwidth\":2},\"zaxis\":{\"backgroundcolor\":\"#E5ECF6\",\"gridcolor\":\"white\",\"linecolor\":\"white\",\"showbackground\":true,\"ticks\":\"\",\"zerolinecolor\":\"white\",\"gridwidth\":2}},\"shapedefaults\":{\"line\":{\"color\":\"#2a3f5f\"}},\"annotationdefaults\":{\"arrowcolor\":\"#2a3f5f\",\"arrowhead\":0,\"arrowwidth\":1},\"geo\":{\"bgcolor\":\"white\",\"landcolor\":\"#E5ECF6\",\"subunitcolor\":\"white\",\"showland\":true,\"showlakes\":true,\"lakecolor\":\"white\"},\"title\":{\"x\":0.05},\"mapbox\":{\"style\":\"light\"}}},\"xaxis\":{\"anchor\":\"y\",\"domain\":[0.0,1.0],\"title\":{\"text\":\"wage\"}},\"yaxis\":{\"anchor\":\"x\",\"domain\":[0.0,1.0],\"title\":{\"text\":\"count\"}},\"legend\":{\"tracegroupgap\":0},\"title\":{\"text\":\"Histograma de Ingresos\"},\"barmode\":\"relative\"},                        {\"responsive\": true}                    ).then(function(){\n",
              "                            \n",
              "var gd = document.getElementById('72691edb-c147-49e0-91f1-79f40773124b');\n",
              "var x = new MutationObserver(function (mutations, observer) {{\n",
              "        var display = window.getComputedStyle(gd).display;\n",
              "        if (!display || display === 'none') {{\n",
              "            console.log([gd, 'removed!']);\n",
              "            Plotly.purge(gd);\n",
              "            observer.disconnect();\n",
              "        }}\n",
              "}});\n",
              "\n",
              "// Listen for the removal of the full notebook cells\n",
              "var notebookContainer = gd.closest('#notebook-container');\n",
              "if (notebookContainer) {{\n",
              "    x.observe(notebookContainer, {childList: true});\n",
              "}}\n",
              "\n",
              "// Listen for the clearing of the current output cell\n",
              "var outputEl = gd.closest('.output');\n",
              "if (outputEl) {{\n",
              "    x.observe(outputEl, {childList: true});\n",
              "}}\n",
              "\n",
              "                        })                };                            </script>        </div>\n",
              "</body>\n",
              "</html>"
            ]
          },
          "metadata": {}
        },
        {
          "output_type": "stream",
          "name": "stdout",
          "text": [
            "Curtosis: 2.696660762727504\n",
            "Asimetría: 1.1992588969103717\n"
          ]
        }
      ]
    },
    {
      "cell_type": "code",
      "source": [
        "import plotly.figure_factory as ff\n",
        "\n",
        "# Crear histograma interactivo con curva de kernel\n",
        "fig = ff.create_distplot([df['wage']], ['wage'], show_curve=True, show_hist=False)\n",
        "fig.update_layout(title='Distribución de Ingresos con Curva de Kernel')\n",
        "\n",
        "# Mirar el histograma interactivo con curva de kernel\n",
        "fig.show()"
      ],
      "metadata": {
        "colab": {
          "base_uri": "https://localhost:8080/",
          "height": 542
        },
        "id": "ru9sqbFfClae",
        "outputId": "ffd15ea3-14ed-4a45-8e5e-1ce32ea1370f"
      },
      "id": "ru9sqbFfClae",
      "execution_count": 55,
      "outputs": [
        {
          "output_type": "display_data",
          "data": {
            "text/html": [
              "<html>\n",
              "<head><meta charset=\"utf-8\" /></head>\n",
              "<body>\n",
              "    <div>            <script src=\"https://cdnjs.cloudflare.com/ajax/libs/mathjax/2.7.5/MathJax.js?config=TeX-AMS-MML_SVG\"></script><script type=\"text/javascript\">if (window.MathJax && window.MathJax.Hub && window.MathJax.Hub.Config) {window.MathJax.Hub.Config({SVG: {font: \"STIX-Web\"}});}</script>                <script type=\"text/javascript\">window.PlotlyConfig = {MathJaxConfig: 'local'};</script>\n",
              "        <script charset=\"utf-8\" src=\"https://cdn.plot.ly/plotly-2.24.1.min.js\"></script>                <div id=\"38fdf1d6-a82d-49f8-b558-37ead5f137f1\" class=\"plotly-graph-div\" style=\"height:525px; width:100%;\"></div>            <script type=\"text/javascript\">                                    window.PLOTLYENV=window.PLOTLYENV || {};                                    if (document.getElementById(\"38fdf1d6-a82d-49f8-b558-37ead5f137f1\")) {                    Plotly.newPlot(                        \"38fdf1d6-a82d-49f8-b558-37ead5f137f1\",                        [{\"legendgroup\":\"wage\",\"marker\":{\"color\":\"rgb(31, 119, 180)\"},\"mode\":\"lines\",\"name\":\"wage\",\"showlegend\":true,\"x\":[115.0,120.926,126.852,132.778,138.704,144.63,150.55599999999998,156.482,162.40800000000002,168.334,174.26,180.186,186.112,192.038,197.964,203.89,209.816,215.74200000000002,221.668,227.594,233.51999999999998,239.446,245.372,251.298,257.224,263.15,269.076,275.002,280.928,286.85400000000004,292.78,298.706,304.632,310.558,316.48400000000004,322.40999999999997,328.336,334.262,340.188,346.11400000000003,352.03999999999996,357.966,363.892,369.818,375.744,381.67,387.596,393.522,399.448,405.374,411.3,417.226,423.152,429.078,435.004,440.93,446.856,452.782,458.708,464.634,470.56,476.486,482.412,488.338,494.264,500.19,506.116,512.0419999999999,517.9680000000001,523.894,529.8199999999999,535.746,541.672,547.598,553.524,559.45,565.376,571.302,577.2280000000001,583.154,589.0799999999999,595.006,600.932,606.858,612.784,618.71,624.636,630.562,636.488,642.414,648.34,654.266,660.192,666.118,672.044,677.97,683.896,689.822,695.748,701.674,707.6,713.526,719.452,725.378,731.304,737.23,743.156,749.082,755.008,760.934,766.86,772.786,778.712,784.638,790.564,796.49,802.416,808.342,814.268,820.194,826.12,832.046,837.972,843.898,849.824,855.75,861.676,867.602,873.528,879.454,885.38,891.306,897.232,903.158,909.084,915.01,920.936,926.862,932.788,938.714,944.64,950.566,956.492,962.418,968.344,974.27,980.196,986.122,992.048,997.974,1003.9,1009.826,1015.752,1021.678,1027.604,1033.53,1039.4560000000001,1045.382,1051.308,1057.234,1063.1599999999999,1069.086,1075.012,1080.938,1086.864,1092.79,1098.716,1104.642,1110.568,1116.4940000000001,1122.42,1128.346,1134.272,1140.198,1146.124,1152.05,1157.976,1163.902,1169.828,1175.754,1181.68,1187.606,1193.532,1199.458,1205.384,1211.31,1217.236,1223.162,1229.088,1235.014,1240.94,1246.866,1252.792,1258.718,1264.644,1270.57,1276.496,1282.422,1288.348,1294.274,1300.2,1306.126,1312.052,1317.978,1323.904,1329.83,1335.756,1341.682,1347.608,1353.534,1359.46,1365.386,1371.312,1377.238,1383.164,1389.09,1395.016,1400.942,1406.868,1412.794,1418.72,1424.646,1430.572,1436.498,1442.424,1448.35,1454.276,1460.202,1466.128,1472.054,1477.98,1483.906,1489.832,1495.758,1501.684,1507.61,1513.536,1519.462,1525.388,1531.314,1537.24,1543.166,1549.092,1555.018,1560.944,1566.87,1572.796,1578.722,1584.648,1590.574,1596.5,1602.426,1608.352,1614.278,1620.204,1626.13,1632.056,1637.982,1643.908,1649.834,1655.76,1661.686,1667.612,1673.538,1679.464,1685.39,1691.316,1697.242,1703.168,1709.094,1715.02,1720.946,1726.872,1732.798,1738.724,1744.65,1750.576,1756.502,1762.428,1768.354,1774.28,1780.206,1786.132,1792.058,1797.984,1803.91,1809.836,1815.762,1821.688,1827.614,1833.54,1839.466,1845.392,1851.318,1857.244,1863.17,1869.096,1875.022,1880.948,1886.874,1892.8,1898.726,1904.652,1910.578,1916.504,1922.43,1928.356,1934.282,1940.208,1946.134,1952.06,1957.986,1963.912,1969.838,1975.764,1981.69,1987.616,1993.542,1999.468,2005.394,2011.32,2017.246,2023.172,2029.098,2035.024,2040.95,2046.876,2052.8019999999997,2058.728,2064.654,2070.58,2076.5060000000003,2082.432,2088.358,2094.284,2100.21,2106.136,2112.062,2117.9880000000003,2123.9139999999998,2129.84,2135.766,2141.692,2147.618,2153.544,2159.4700000000003,2165.396,2171.322,2177.248,2183.174,2189.1,2195.026,2200.952,2206.878,2212.804,2218.73,2224.656,2230.582,2236.508,2242.434,2248.36,2254.286,2260.212,2266.138,2272.064,2277.99,2283.916,2289.842,2295.768,2301.694,2307.62,2313.546,2319.472,2325.398,2331.324,2337.25,2343.176,2349.102,2355.028,2360.954,2366.88,2372.806,2378.732,2384.658,2390.584,2396.51,2402.436,2408.362,2414.288,2420.214,2426.14,2432.066,2437.992,2443.918,2449.844,2455.77,2461.696,2467.622,2473.548,2479.474,2485.4,2491.326,2497.252,2503.178,2509.104,2515.03,2520.956,2526.882,2532.808,2538.734,2544.66,2550.586,2556.512,2562.438,2568.364,2574.29,2580.216,2586.142,2592.068,2597.994,2603.92,2609.846,2615.772,2621.698,2627.624,2633.55,2639.476,2645.402,2651.328,2657.254,2663.18,2669.106,2675.032,2680.958,2686.884,2692.81,2698.736,2704.662,2710.588,2716.514,2722.44,2728.366,2734.292,2740.218,2746.144,2752.07,2757.996,2763.922,2769.848,2775.774,2781.7,2787.626,2793.552,2799.478,2805.404,2811.33,2817.256,2823.182,2829.108,2835.034,2840.96,2846.886,2852.812,2858.738,2864.664,2870.59,2876.516,2882.442,2888.368,2894.294,2900.22,2906.146,2912.072,2917.998,2923.924,2929.85,2935.776,2941.702,2947.628,2953.554,2959.48,2965.406,2971.332,2977.258,2983.184,2989.11,2995.036,3000.962,3006.888,3012.814,3018.74,3024.666,3030.592,3036.518,3042.444,3048.37,3054.296,3060.222,3066.148,3072.074],\"xaxis\":\"x\",\"y\":[2.2671367605163042e-05,2.4652002587915512e-05,2.6792923903131054e-05,2.9105325144782727e-05,3.1600806162687545e-05,3.42913304581729e-05,3.718917551010217e-05,4.03068761987122e-05,4.365716161440244e-05,4.7252885658240364e-05,5.1106951957540325e-05,5.523223373033743e-05,5.9641489333776245e-05,6.434727432026508e-05,6.936185089882998e-05,7.469709575478497e-05,8.036440721643945e-05,8.63746127714114e-05,9.273787792617324e-05,9.946361737046307e-05,0.00010656040935366163,0.00011403591410456789,0.00012189679703146856,0.00013014865732910484,0.00013879596249696515,0.00014784198914388053,0.00015728877032216944,0.0001671370495060645,0.00017738624120926903,0.00018803439813067766,0.00019907818463046312,0.0002105128562752125,0.00022233224515398576,0.0002345287506593079,0.00024709333544920784,0.0002600155263578754,0.00027328342010148206,0.0002868836937285001,0.00030080161988568424,0.0003150210871053757,0.00032952462545976236,0.0003442934380651148,0.00035930743904529655,0.00037454529867065396,0.00038998449646746237,0.00040560138313727306,0.00042137125212851503,0.00043726842166000405,0.00045326632790477437,0.0004693376299021796,0.00048545432657781396,0.0005015878860181461,0.0005177093868755377,0.0005337896714770301,0.0005497995098863595,0.0005657097738335303,0.0005814916190913435,0.0005971166745554652,0.0006125572359854454,0.0006277864620998464,0.0006427785704991034,0.0006575090307237804,0.0006719547516498212,0.0006860942603811921,0.0006999078698261672,0.0007133778322363946,0.0007264884761458255,0.0007392263243649889,0.0007515801909590091,0.0007635412554572454,0.0007751031128996962,0.0007862617987105579,0.0007970157877925778,0.0008073659676469498,0.0008173155857330937,0.0008268701716815487,0.0008360374353539326,0.0008448271420994441,0.0008532509668824841,0.0008613223292464584,0.0008690562113318521,0.0008764689613802906,0.000883578085329829,0.0008904020292399386,0.000896959955377718,0.000903271514850811,0.0009093566196876779,0.0009152352172429855,0.0009209270697457574,0.0009264515417103034,0.0009318273977955401,0.0009370726135267353,0.0009422042010853161,0.0009472380521275805,0.0009521887993128565,0.0009570696979074679,0.000961892528485707,0.0009666675213765367,0.0009714033031103175,0.0009761068647103741,0.000980783551257401,0.0009854370717406748,0.0009900695278090021,0.0009946814596584132,0.0009992719069544006,0.001003838482396708,0.0010083774553057202,0.0010128838424520968,0.0010173515032747445,0.001021773236643139,0.0010261408764230815,0.0010304453833011472,0.001034676930610317,0.0010388249822719286,0.0010428783614177364,0.001046825308767573,0.0010506535303973533,0.0010543502351192723,0.0010579021622911943,0.001061295601451639,0.001064516405718703,0.0010675500013717018,0.0010703813964323427,0.001072995191357906,0.0010753755951357935,0.0010775064501137327,0.0010793712688051448,0.0010809532856705356,0.0010822355264958662,0.0010832008974747738,0.0010838322954663318,0.0010841127401614136,0.001084025528072119,0.001083554407385617,0.0010826837718271444,0.0010813988707873915,0.0010796860321209243,0.001077532893246076,0.0010749286355048963,0.0010718642162016062,0.0010683325923550504,0.00106432892999372,0.0010598507928057297,0.0010548983041380334,0.0010494742767203455,0.0010435843050637017,0.0010372368162387133,0.0010304430756548394,0.0010232171455145497,0.0010155757947743946,0.0010075383606746172,0.0009991265631621596,0.0009903642747901866,0.0009812772498904532,0.000971892817945124,0.0009622395470954363,0.0009523468845838986,0.0009422447816062609,0.0009319633105277334,0.0009215322826787479,0.0009109808749805507,0.0009003372734583413,0.0008896283412851212,0.0008788793183757758,0.0008681135587365942,0.0008573523107960143,0.000846614544826831,0.0008359168303524936,0.0008252732651463696,0.0008146954561210781,0.0008041925511029055,0.000793771319231554,0.0007834362765527079,0.0007731898523125924,0.000763032590547542,0.0007529633808110245,0.0007429797113134394,0.0007330779373782905,0.0007232535579483351,0.0007135014929069406,0.0007038163542075236,0.0006941927042161026,0.0006846252952526069,0.0006751092850445172,0.0006656404236575218,0.0006562152084144023,0.0006468310043262479,0.0006374861286084654,0.0006281798989073449,0.000618912645890934,0.0006096856918319909,0.0006005012977049188,0.0005913625821087256,0.0005822734159954431,0.000573238297711599,0.0005642622132384086,0.0005553504867378336,0.0005465086265743144,0.0005377421718891635,0.0005290565445632318,0.0005204569110255619,0.0005119480578662515,0.0005035342846097753,0.0004952193163215617,0.0004870062379790803,0.00047889745176366943,0.00047089465764565145,0.0004629988568678228,0.00045521037720458777,0.00044752891820793643,0.0004399536140663132,0.00043248311121475594,0.00042511565745740845,0.0004178491991055959,0.0004106814825012107,0.0004036101562868355,0.0003966328708975974,0.00038974737197767806,0.00038295158475581357,0.00037624368683465025,0.00036962216734140674,0.00036308587093302543,0.0003566340257272217,0.00035026625482059183,0.00034398257163519854,0.0003377833598856897,0.00033166933946160464,0.0003256415199576693,0.00031970114394532,0.00031384962235095684,0.00030808846448416086,0.00030241920533907485,0.00029684333277557774,0.000291362217077964,0.0002859770451956659,0.0002806887617039631,0.0002754980181958549,0.0002704051324445962,0.00026541005827608334,0.00026051236667815254,0.0002557112382664177,0.00025100546683909033,0.00024639347340029365,0.00024187332972447077,0.00023744279028293762,0.00023309933116376792,0.00022884019449132868,0.00022466243679227055,0.0002205629797578433,0.0002165386619127717,0.00021258628981095338,0.00020870268752845678,0.00020488474340405661,0.0002011294531754936,0.00019743395886439737,0.0001937955829635958,0.00019021185766760236,0.0001866805490522809,0.00018319967624687465,0.00017976752574666604,0.00017638266108582892,0.00017304392812813682,0.00016975045624082968,0.00016650165559875925,0.00016329721082819615,0.00016013707114962008,0.00015702143712445458,0.00015395074405999773,0.00015092564208741646,0.00014794697290626752,0.00014501574319095007,0.00014213309468342285,0.00013930027105414836,0.00013651858169914027,0.00013378936275268373,0.00013111393572824644,0.00012849356434794487,0.00012592941027587308,0.00012342248862370022,0.00012097362423869669,0.00011858340990508927,0.00011625216768019803,0.00011397991463882886,0.00011176633430608049,0.00010961075501494367,0.00010751213632798336,0.00010546906451143251,0.00010347975784720841,0.00010154208231812654,9.965357791085376e-05,9.781149545886362e-05,9.601284360473862e-05,9.425444510976205e-05,9.253300139205667e-05,9.084516384599514e-05,8.918761019855049e-05,8.755712390520141e-05,8.595067439018453e-05,8.436549580276651e-05,8.27991619000543e-05,8.124965468242467e-05,7.971542450195107e-05,7.819543953638882e-05,7.668922276764524e-05,7.519687491777192e-05,7.371908216839567e-05,7.225710790996705e-05,7.081276822226171e-05,6.938839126287244e-05,6.798676122079402e-05,6.661104796215561e-05,6.526472393944979e-05,6.39514703397867e-05,6.267507479855122e-05,6.143932329088994e-05,6.024788902527704e-05,5.9104221293987145e-05,5.8011437280223496e-05,5.6972219779181246e-05,5.598872366153355e-05,5.506249369641447e-05,5.419439606322291e-05,5.3384565526039114e-05,5.263236983174291e-05,5.1936392435294654e-05,5.129443416660895e-05,5.0703533947382604e-05,5.0160008157877335e-05,4.965950775769278e-05,4.919709179519162e-05,4.876731551071165e-05,4.836433086100154e-05,4.79819969767456e-05,4.7613997820005536e-05,4.725396414011578e-05,4.689559673894786e-05,4.653278805100451e-05,4.6159739119599884e-05,4.577106920414506e-05,4.536191547975654e-05,4.492802058147003e-05,4.4465806091907175e-05,4.3972430462453516e-05,4.344583028188698e-05,4.28847442501988e-05,4.2288719666007653e-05,4.1658101680453154e-05,4.0994005996233784e-05,4.029827608583255e-05,3.957342635747019e-05,3.88225730019937e-05,3.8049354501539886e-05,3.725784396620155e-05,3.645245558490822e-05,3.5637847530300564e-05,3.481882364561096e-05,3.400023616753087e-05,3.3186891607665164e-05,3.2383461732950165e-05,3.1594401360175566e-05,3.082387442034561e-05,3.0075689464534526e-05,2.935324548396111e-05,2.865948861298047e-05,2.7996879983974667e-05,2.736737471641713e-05,2.677241175644258e-05,2.6212914044660452e-05,2.5689298283941323e-05,2.5201493409289454e-05,2.4748966730992422e-05,2.433075663085026e-05,2.394551063885204e-05,2.359152770232775e-05,2.3266803478363094e-05,2.2969077529199382e-05,2.269588137480484e-05,2.2444586451666306e-05,2.2212451136729136e-05,2.1996666114892704e-05,2.1794397492327524e-05,2.160282718126403e-05,2.1419190200492034e-05,2.1240808645950467e-05,2.1065122184565883e-05,2.0889715009815755e-05,2.0712339268059197e-05,2.0530935020009364e-05,2.0343646842080612e-05,2.014883719865965e-05,1.9945096730126458e-05,1.9731251604634884e-05,1.9506368076526993e-05,1.926975438325537e-05,1.9020960098331073e-05,1.8759773042538932e-05,1.8486213841704634e-05,1.8200528208613457e-05,1.79031770208437e-05,1.759482426643358e-05,1.7276322936118055e-05,1.6948698954541276e-05,1.6613133263082337e-05,1.6270942192994684e-05,1.5923556298331066e-05,1.557249785215815e-05,1.5219357245170391e-05,1.4865768561148423e-05,1.4513384636881332e-05,1.4163851943323706e-05,1.3818785648168112e-05,1.347974523617166e-05,1.314821107126057e-05,1.2825562282776451e-05,1.2513056346726506e-05,1.2211810711473321e-05,1.192278678626515e-05,1.1646776571072294e-05,1.1384392158422146e-05,1.113605828367572e-05,1.0902008041069653e-05,1.0682281820628615e-05,1.0476729457597446e-05,1.0285015523221518e-05,1.010662762532535e-05,9.940887530871809e-06,9.786964871999988e-06,9.643893153159429e-06,9.510587740823289e-06,9.385865489502094e-06,9.268465638713632e-06,9.157071605207651e-06,9.050333292825626e-06,8.946889548372849e-06,8.845390405059874e-06,8.744518774532505e-06,8.643011273240481e-06,8.539677897817444e-06,8.433420296162496e-06,8.323248414961163e-06,8.208295339458222e-06,8.087830176490762e-06,7.961268866316925e-06,7.828182841976979e-06,7.68830548627636e-06,7.541536365599261e-06,7.387943246389782e-06,7.227761924133581e-06,7.06139391600038e-06,6.889402087012761e-06,6.712504295809517e-06,6.531565159944514e-06,6.34758605241836e-06,6.161693451023111e-06,5.975125770352099e-06,5.789218813260539e-06,5.605389984438676e-06,5.425121413855657e-06,5.249942142424121e-06,5.081409526585442e-06,4.92109002286655e-06,4.770539518031804e-06,4.631283375422669e-06,4.5047963735765354e-06,4.392482719308381e-06,4.295656324113992e-06,4.215521539910092e-06,4.153154557563374e-06,4.109485679065613e-06,4.0852826811652145e-06,4.081135494235955e-06,4.097442424523567e-06,4.134398149951096e-06,4.191983718619876e-06,4.269958774226044e-06,4.367856223049379e-06,4.484979542247444e-06,4.620402908293154e-06,4.7729742970715244e-06,4.941321673140986e-06,5.123862344944547e-06,5.3188155155766925e-06,5.524218005615916e-06,5.73794306637008e-06,5.957722139803288e-06,6.181169356853432e-06,6.405808500495611e-06,6.629102095645128e-06,6.848482226855755e-06,7.06138262885005e-06,7.26527154630423e-06,7.457684819985152e-06,7.63625862810001e-06,7.798761296100786e-06,7.943123586364426e-06,8.067466891920185e-06,8.17012878602251e-06,8.249685421685313e-06,8.304970331607208e-06,8.33508924803288e-06],\"yaxis\":\"y\",\"type\":\"scatter\"},{\"legendgroup\":\"wage\",\"marker\":{\"color\":\"rgb(31, 119, 180)\",\"symbol\":\"line-ns-open\"},\"mode\":\"markers\",\"name\":\"wage\",\"showlegend\":false,\"x\":[769,808,825,650,562,1400,600,1081,1154,1000,930,921,900,1318,1792,958,1360,850,830,471,1275,1615,873,2137,1053,1602,1188,800,1417,635,1000,1424,2668,666,1779,782,1572,1274,714,1081,692,1318,1239,1027,1748,981,770,1154,1155,808,1100,1154,1749,1000,462,769,875,1375,1452,800,1748,1151,840,978,963,619,442,600,1366,1643,1455,2310,1682,1235,855,1072,1040,1000,675,1100,996,732,1200,1694,686,754,857,832,579,672,2500,1076,750,1186,833,650,1250,1122,865,808,1299,903,900,625,1586,962,1539,1110,1282,770,1000,895,1205,750,654,601,600,433,1188,635,1225,1151,865,1031,1049,1000,1105,1924,1346,809,1495,1346,1200,500,1325,900,800,800,1034,980,884,480,923,513,1105,1193,2771,779,950,1394,1495,650,670,1126,450,1028,2404,1899,757,1250,1162,1025,1100,714,1318,1411,2162,1273,1140,578,942,1058,750,1000,951,635,1250,675,400,577,590,923,1250,1100,1130,652,618,962,529,817,962,840,866,2404,1126,1160,723,1778,1903,1010,971,525,525,670,500,1058,550,500,727,865,1081,1304,575,623,515,1273,990,600,1160,500,795,500,740,1250,1014,1250,913,1346,445,265,1250,1607,1452,1391,821,794,500,520,1730,1924,1155,2162,923,1115,449,1500,826,937,978,1031,1272,1136,800,1339,1063,935,808,375,537,1082,930,1155,548,622,841,769,587,1924,1058,417,1202,1154,1070,1202,711,1202,850,1000,490,1000,865,1375,1586,1602,3078,898,906,952,571,445,289,1444,962,1075,909,1250,620,1016,800,1050,1079,654,781,1038,1924,1202,666,905,890,817,812,577,756,1011,1155,1025,1350,1001,796,1230,754,714,1000,2067,912,600,951,711,1151,1000,841,400,1175,1202,1442,538,781,750,841,700,1346,800,1250,1105,475,762,962,721,800,658,1270,1313,824,1442,1400,1038,668,1100,1000,523,1111,962,729,690,1010,600,596,850,670,793,1442,670,876,841,975,1223,910,533,750,1206,745,900,1170,540,550,615,909,769,984,833,879,1027,1000,465,1100,641,1035,1212,950,938,1250,586,693,562,375,673,654,692,1111,1368,1282,1250,1346,1424,854,888,1161,583,1260,947,1850,1575,758,1442,489,1126,1000,500,1200,565,1920,684,774,233,975,1366,2137,700,1200,1161,729,750,1026,1111,625,1200,1541,1154,310,610,1749,1000,350,765,790,818,477,938,2099,350,940,1202,450,1058,1000,318,556,958,995,1600,606,511,1411,1346,1522,1075,1200,1377,874,625,1250,1082,693,727,615,913,884,698,800,812,1000,549,1300,923,1539,721,815,600,1100,1058,962,433,940,1417,1000,500,800,766,750,550,795,723,1039,200,400,575,850,508,1162,1199,1270,350,963,1463,802,642,751,488,1400,940,866,675,375,325,346,1442,560,550,950,684,1322,1634,417,472,666,1679,1039,1250,760,1154,1602,1442,865,705,1000,852,770,1000,1329,1682,577,685,577,1040,1250,600,480,1000,988,478,440,485,705,1550,960,1000,625,1346,961,479,1201,1346,1122,543,450,507,547,586,462,705,1566,1634,1282,556,1200,855,1053,1000,900,1602,508,1500,1682,750,843,409,1004,650,808,2137,761,769,345,495,987,2500,1098,1212,577,390,1500,583,460,945,1442,1333,1500,1333,700,973,2162,797,400,1015,1744,630,445,660,779,377,560,1122,453,1386,1539,1154,962,722,480,808,1442,1091,350,500,1026,577,1333,915,1105,910,1000,1160,1001,713,929,400,1241,1065,403,940,812,700,575,450,621,441,625,726,500,1000,393,600,962,962,865,1154,1386,732,865,700,975,1300,900,829,1000,827,500,1155,950,700,1710,533,2004,890,3078,1539,508,1354,1143,962,1250,990,905,926,1559,1312,923,879,800,1049,550,1190,583,1200,797,1371,360,1270,1832,909,1746,520,808,2137,692,931,812,866,1442,500,1384,528,881,1026,1212,1620,1843,1602,1000,737,1699,1699,1025,1107,625,720,855,1250,1130,900,1924,962,1874,1573,940,900,882,1710,1260,751,1097,1001,1154,1000,1250,857,1211,937,904,872,1200,1261,950,115,673,1084,1058,800,369,1924,855,864,1092,1025,850,673,800,1049,884,800,1200,664,1111,850,1000,875,1202,666,923,788,950,1442,866,625,680,693,875,2308,1196,700,721,1500,1050,801,640,1198,390,889,1076,1127,750,855,525,1104,553,800,1384,425,510,370,596,402,418,1133,681,950,600,661,925,550,606,425,340,692,575,571,817,987,616,1026,808,808,788,850,900,1418,260,662,562,562,357,1009,1442,651,750,754,700,503,937,624,750,900,540,642,400,900,513,894,1282,485,325,769,618,1040,751,380,300,753,1065,1070,1573,650,700,494,890,520,891,570,1444,481,500,1473,803,962,1000,600,450,629,492,1562,357,960,566,481,1442,645,788,644,477,664,520,1202,538,873,1000],\"xaxis\":\"x\",\"y\":[\"wage\",\"wage\",\"wage\",\"wage\",\"wage\",\"wage\",\"wage\",\"wage\",\"wage\",\"wage\",\"wage\",\"wage\",\"wage\",\"wage\",\"wage\",\"wage\",\"wage\",\"wage\",\"wage\",\"wage\",\"wage\",\"wage\",\"wage\",\"wage\",\"wage\",\"wage\",\"wage\",\"wage\",\"wage\",\"wage\",\"wage\",\"wage\",\"wage\",\"wage\",\"wage\",\"wage\",\"wage\",\"wage\",\"wage\",\"wage\",\"wage\",\"wage\",\"wage\",\"wage\",\"wage\",\"wage\",\"wage\",\"wage\",\"wage\",\"wage\",\"wage\",\"wage\",\"wage\",\"wage\",\"wage\",\"wage\",\"wage\",\"wage\",\"wage\",\"wage\",\"wage\",\"wage\",\"wage\",\"wage\",\"wage\",\"wage\",\"wage\",\"wage\",\"wage\",\"wage\",\"wage\",\"wage\",\"wage\",\"wage\",\"wage\",\"wage\",\"wage\",\"wage\",\"wage\",\"wage\",\"wage\",\"wage\",\"wage\",\"wage\",\"wage\",\"wage\",\"wage\",\"wage\",\"wage\",\"wage\",\"wage\",\"wage\",\"wage\",\"wage\",\"wage\",\"wage\",\"wage\",\"wage\",\"wage\",\"wage\",\"wage\",\"wage\",\"wage\",\"wage\",\"wage\",\"wage\",\"wage\",\"wage\",\"wage\",\"wage\",\"wage\",\"wage\",\"wage\",\"wage\",\"wage\",\"wage\",\"wage\",\"wage\",\"wage\",\"wage\",\"wage\",\"wage\",\"wage\",\"wage\",\"wage\",\"wage\",\"wage\",\"wage\",\"wage\",\"wage\",\"wage\",\"wage\",\"wage\",\"wage\",\"wage\",\"wage\",\"wage\",\"wage\",\"wage\",\"wage\",\"wage\",\"wage\",\"wage\",\"wage\",\"wage\",\"wage\",\"wage\",\"wage\",\"wage\",\"wage\",\"wage\",\"wage\",\"wage\",\"wage\",\"wage\",\"wage\",\"wage\",\"wage\",\"wage\",\"wage\",\"wage\",\"wage\",\"wage\",\"wage\",\"wage\",\"wage\",\"wage\",\"wage\",\"wage\",\"wage\",\"wage\",\"wage\",\"wage\",\"wage\",\"wage\",\"wage\",\"wage\",\"wage\",\"wage\",\"wage\",\"wage\",\"wage\",\"wage\",\"wage\",\"wage\",\"wage\",\"wage\",\"wage\",\"wage\",\"wage\",\"wage\",\"wage\",\"wage\",\"wage\",\"wage\",\"wage\",\"wage\",\"wage\",\"wage\",\"wage\",\"wage\",\"wage\",\"wage\",\"wage\",\"wage\",\"wage\",\"wage\",\"wage\",\"wage\",\"wage\",\"wage\",\"wage\",\"wage\",\"wage\",\"wage\",\"wage\",\"wage\",\"wage\",\"wage\",\"wage\",\"wage\",\"wage\",\"wage\",\"wage\",\"wage\",\"wage\",\"wage\",\"wage\",\"wage\",\"wage\",\"wage\",\"wage\",\"wage\",\"wage\",\"wage\",\"wage\",\"wage\",\"wage\",\"wage\",\"wage\",\"wage\",\"wage\",\"wage\",\"wage\",\"wage\",\"wage\",\"wage\",\"wage\",\"wage\",\"wage\",\"wage\",\"wage\",\"wage\",\"wage\",\"wage\",\"wage\",\"wage\",\"wage\",\"wage\",\"wage\",\"wage\",\"wage\",\"wage\",\"wage\",\"wage\",\"wage\",\"wage\",\"wage\",\"wage\",\"wage\",\"wage\",\"wage\",\"wage\",\"wage\",\"wage\",\"wage\",\"wage\",\"wage\",\"wage\",\"wage\",\"wage\",\"wage\",\"wage\",\"wage\",\"wage\",\"wage\",\"wage\",\"wage\",\"wage\",\"wage\",\"wage\",\"wage\",\"wage\",\"wage\",\"wage\",\"wage\",\"wage\",\"wage\",\"wage\",\"wage\",\"wage\",\"wage\",\"wage\",\"wage\",\"wage\",\"wage\",\"wage\",\"wage\",\"wage\",\"wage\",\"wage\",\"wage\",\"wage\",\"wage\",\"wage\",\"wage\",\"wage\",\"wage\",\"wage\",\"wage\",\"wage\",\"wage\",\"wage\",\"wage\",\"wage\",\"wage\",\"wage\",\"wage\",\"wage\",\"wage\",\"wage\",\"wage\",\"wage\",\"wage\",\"wage\",\"wage\",\"wage\",\"wage\",\"wage\",\"wage\",\"wage\",\"wage\",\"wage\",\"wage\",\"wage\",\"wage\",\"wage\",\"wage\",\"wage\",\"wage\",\"wage\",\"wage\",\"wage\",\"wage\",\"wage\",\"wage\",\"wage\",\"wage\",\"wage\",\"wage\",\"wage\",\"wage\",\"wage\",\"wage\",\"wage\",\"wage\",\"wage\",\"wage\",\"wage\",\"wage\",\"wage\",\"wage\",\"wage\",\"wage\",\"wage\",\"wage\",\"wage\",\"wage\",\"wage\",\"wage\",\"wage\",\"wage\",\"wage\",\"wage\",\"wage\",\"wage\",\"wage\",\"wage\",\"wage\",\"wage\",\"wage\",\"wage\",\"wage\",\"wage\",\"wage\",\"wage\",\"wage\",\"wage\",\"wage\",\"wage\",\"wage\",\"wage\",\"wage\",\"wage\",\"wage\",\"wage\",\"wage\",\"wage\",\"wage\",\"wage\",\"wage\",\"wage\",\"wage\",\"wage\",\"wage\",\"wage\",\"wage\",\"wage\",\"wage\",\"wage\",\"wage\",\"wage\",\"wage\",\"wage\",\"wage\",\"wage\",\"wage\",\"wage\",\"wage\",\"wage\",\"wage\",\"wage\",\"wage\",\"wage\",\"wage\",\"wage\",\"wage\",\"wage\",\"wage\",\"wage\",\"wage\",\"wage\",\"wage\",\"wage\",\"wage\",\"wage\",\"wage\",\"wage\",\"wage\",\"wage\",\"wage\",\"wage\",\"wage\",\"wage\",\"wage\",\"wage\",\"wage\",\"wage\",\"wage\",\"wage\",\"wage\",\"wage\",\"wage\",\"wage\",\"wage\",\"wage\",\"wage\",\"wage\",\"wage\",\"wage\",\"wage\",\"wage\",\"wage\",\"wage\",\"wage\",\"wage\",\"wage\",\"wage\",\"wage\",\"wage\",\"wage\",\"wage\",\"wage\",\"wage\",\"wage\",\"wage\",\"wage\",\"wage\",\"wage\",\"wage\",\"wage\",\"wage\",\"wage\",\"wage\",\"wage\",\"wage\",\"wage\",\"wage\",\"wage\",\"wage\",\"wage\",\"wage\",\"wage\",\"wage\",\"wage\",\"wage\",\"wage\",\"wage\",\"wage\",\"wage\",\"wage\",\"wage\",\"wage\",\"wage\",\"wage\",\"wage\",\"wage\",\"wage\",\"wage\",\"wage\",\"wage\",\"wage\",\"wage\",\"wage\",\"wage\",\"wage\",\"wage\",\"wage\",\"wage\",\"wage\",\"wage\",\"wage\",\"wage\",\"wage\",\"wage\",\"wage\",\"wage\",\"wage\",\"wage\",\"wage\",\"wage\",\"wage\",\"wage\",\"wage\",\"wage\",\"wage\",\"wage\",\"wage\",\"wage\",\"wage\",\"wage\",\"wage\",\"wage\",\"wage\",\"wage\",\"wage\",\"wage\",\"wage\",\"wage\",\"wage\",\"wage\",\"wage\",\"wage\",\"wage\",\"wage\",\"wage\",\"wage\",\"wage\",\"wage\",\"wage\",\"wage\",\"wage\",\"wage\",\"wage\",\"wage\",\"wage\",\"wage\",\"wage\",\"wage\",\"wage\",\"wage\",\"wage\",\"wage\",\"wage\",\"wage\",\"wage\",\"wage\",\"wage\",\"wage\",\"wage\",\"wage\",\"wage\",\"wage\",\"wage\",\"wage\",\"wage\",\"wage\",\"wage\",\"wage\",\"wage\",\"wage\",\"wage\",\"wage\",\"wage\",\"wage\",\"wage\",\"wage\",\"wage\",\"wage\",\"wage\",\"wage\",\"wage\",\"wage\",\"wage\",\"wage\",\"wage\",\"wage\",\"wage\",\"wage\",\"wage\",\"wage\",\"wage\",\"wage\",\"wage\",\"wage\",\"wage\",\"wage\",\"wage\",\"wage\",\"wage\",\"wage\",\"wage\",\"wage\",\"wage\",\"wage\",\"wage\",\"wage\",\"wage\",\"wage\",\"wage\",\"wage\",\"wage\",\"wage\",\"wage\",\"wage\",\"wage\",\"wage\",\"wage\",\"wage\",\"wage\",\"wage\",\"wage\",\"wage\",\"wage\",\"wage\",\"wage\",\"wage\",\"wage\",\"wage\",\"wage\",\"wage\",\"wage\",\"wage\",\"wage\",\"wage\",\"wage\",\"wage\",\"wage\",\"wage\",\"wage\",\"wage\",\"wage\",\"wage\",\"wage\",\"wage\",\"wage\",\"wage\",\"wage\",\"wage\",\"wage\",\"wage\",\"wage\",\"wage\",\"wage\",\"wage\",\"wage\",\"wage\",\"wage\",\"wage\",\"wage\",\"wage\",\"wage\",\"wage\",\"wage\",\"wage\",\"wage\",\"wage\",\"wage\",\"wage\",\"wage\",\"wage\",\"wage\",\"wage\",\"wage\",\"wage\",\"wage\",\"wage\",\"wage\",\"wage\",\"wage\",\"wage\",\"wage\",\"wage\",\"wage\",\"wage\",\"wage\",\"wage\",\"wage\",\"wage\",\"wage\",\"wage\",\"wage\",\"wage\",\"wage\",\"wage\",\"wage\",\"wage\",\"wage\",\"wage\",\"wage\",\"wage\",\"wage\",\"wage\",\"wage\",\"wage\",\"wage\",\"wage\",\"wage\",\"wage\",\"wage\",\"wage\",\"wage\",\"wage\",\"wage\",\"wage\",\"wage\",\"wage\",\"wage\",\"wage\",\"wage\",\"wage\",\"wage\",\"wage\",\"wage\",\"wage\",\"wage\",\"wage\",\"wage\",\"wage\",\"wage\",\"wage\",\"wage\",\"wage\",\"wage\",\"wage\",\"wage\",\"wage\",\"wage\",\"wage\",\"wage\",\"wage\",\"wage\",\"wage\",\"wage\",\"wage\",\"wage\",\"wage\",\"wage\",\"wage\",\"wage\",\"wage\",\"wage\",\"wage\",\"wage\",\"wage\",\"wage\",\"wage\",\"wage\",\"wage\",\"wage\",\"wage\",\"wage\",\"wage\",\"wage\",\"wage\",\"wage\",\"wage\",\"wage\",\"wage\",\"wage\",\"wage\",\"wage\",\"wage\",\"wage\",\"wage\",\"wage\",\"wage\",\"wage\",\"wage\",\"wage\",\"wage\",\"wage\",\"wage\",\"wage\",\"wage\",\"wage\",\"wage\",\"wage\",\"wage\",\"wage\",\"wage\",\"wage\",\"wage\",\"wage\",\"wage\",\"wage\",\"wage\",\"wage\",\"wage\",\"wage\",\"wage\",\"wage\",\"wage\",\"wage\",\"wage\",\"wage\",\"wage\",\"wage\",\"wage\",\"wage\",\"wage\",\"wage\",\"wage\",\"wage\",\"wage\",\"wage\",\"wage\",\"wage\",\"wage\",\"wage\",\"wage\",\"wage\",\"wage\",\"wage\",\"wage\",\"wage\",\"wage\",\"wage\",\"wage\",\"wage\",\"wage\",\"wage\",\"wage\",\"wage\",\"wage\",\"wage\",\"wage\",\"wage\",\"wage\",\"wage\",\"wage\",\"wage\",\"wage\",\"wage\",\"wage\",\"wage\",\"wage\",\"wage\",\"wage\",\"wage\",\"wage\",\"wage\",\"wage\",\"wage\",\"wage\",\"wage\",\"wage\",\"wage\",\"wage\",\"wage\",\"wage\",\"wage\",\"wage\",\"wage\",\"wage\",\"wage\",\"wage\",\"wage\",\"wage\",\"wage\",\"wage\",\"wage\",\"wage\",\"wage\",\"wage\",\"wage\",\"wage\",\"wage\",\"wage\",\"wage\",\"wage\",\"wage\",\"wage\",\"wage\",\"wage\",\"wage\",\"wage\",\"wage\",\"wage\",\"wage\",\"wage\",\"wage\",\"wage\",\"wage\",\"wage\",\"wage\",\"wage\",\"wage\",\"wage\",\"wage\",\"wage\",\"wage\",\"wage\",\"wage\",\"wage\"],\"yaxis\":\"y2\",\"type\":\"scatter\"}],                        {\"barmode\":\"overlay\",\"hovermode\":\"closest\",\"legend\":{\"traceorder\":\"reversed\"},\"xaxis\":{\"anchor\":\"y2\",\"domain\":[0.0,1.0],\"zeroline\":false},\"yaxis\":{\"anchor\":\"free\",\"domain\":[0.35,1],\"position\":0.0},\"yaxis2\":{\"anchor\":\"x\",\"domain\":[0,0.25],\"dtick\":1,\"showticklabels\":false},\"template\":{\"data\":{\"histogram2dcontour\":[{\"type\":\"histogram2dcontour\",\"colorbar\":{\"outlinewidth\":0,\"ticks\":\"\"},\"colorscale\":[[0.0,\"#0d0887\"],[0.1111111111111111,\"#46039f\"],[0.2222222222222222,\"#7201a8\"],[0.3333333333333333,\"#9c179e\"],[0.4444444444444444,\"#bd3786\"],[0.5555555555555556,\"#d8576b\"],[0.6666666666666666,\"#ed7953\"],[0.7777777777777778,\"#fb9f3a\"],[0.8888888888888888,\"#fdca26\"],[1.0,\"#f0f921\"]]}],\"choropleth\":[{\"type\":\"choropleth\",\"colorbar\":{\"outlinewidth\":0,\"ticks\":\"\"}}],\"histogram2d\":[{\"type\":\"histogram2d\",\"colorbar\":{\"outlinewidth\":0,\"ticks\":\"\"},\"colorscale\":[[0.0,\"#0d0887\"],[0.1111111111111111,\"#46039f\"],[0.2222222222222222,\"#7201a8\"],[0.3333333333333333,\"#9c179e\"],[0.4444444444444444,\"#bd3786\"],[0.5555555555555556,\"#d8576b\"],[0.6666666666666666,\"#ed7953\"],[0.7777777777777778,\"#fb9f3a\"],[0.8888888888888888,\"#fdca26\"],[1.0,\"#f0f921\"]]}],\"heatmap\":[{\"type\":\"heatmap\",\"colorbar\":{\"outlinewidth\":0,\"ticks\":\"\"},\"colorscale\":[[0.0,\"#0d0887\"],[0.1111111111111111,\"#46039f\"],[0.2222222222222222,\"#7201a8\"],[0.3333333333333333,\"#9c179e\"],[0.4444444444444444,\"#bd3786\"],[0.5555555555555556,\"#d8576b\"],[0.6666666666666666,\"#ed7953\"],[0.7777777777777778,\"#fb9f3a\"],[0.8888888888888888,\"#fdca26\"],[1.0,\"#f0f921\"]]}],\"heatmapgl\":[{\"type\":\"heatmapgl\",\"colorbar\":{\"outlinewidth\":0,\"ticks\":\"\"},\"colorscale\":[[0.0,\"#0d0887\"],[0.1111111111111111,\"#46039f\"],[0.2222222222222222,\"#7201a8\"],[0.3333333333333333,\"#9c179e\"],[0.4444444444444444,\"#bd3786\"],[0.5555555555555556,\"#d8576b\"],[0.6666666666666666,\"#ed7953\"],[0.7777777777777778,\"#fb9f3a\"],[0.8888888888888888,\"#fdca26\"],[1.0,\"#f0f921\"]]}],\"contourcarpet\":[{\"type\":\"contourcarpet\",\"colorbar\":{\"outlinewidth\":0,\"ticks\":\"\"}}],\"contour\":[{\"type\":\"contour\",\"colorbar\":{\"outlinewidth\":0,\"ticks\":\"\"},\"colorscale\":[[0.0,\"#0d0887\"],[0.1111111111111111,\"#46039f\"],[0.2222222222222222,\"#7201a8\"],[0.3333333333333333,\"#9c179e\"],[0.4444444444444444,\"#bd3786\"],[0.5555555555555556,\"#d8576b\"],[0.6666666666666666,\"#ed7953\"],[0.7777777777777778,\"#fb9f3a\"],[0.8888888888888888,\"#fdca26\"],[1.0,\"#f0f921\"]]}],\"surface\":[{\"type\":\"surface\",\"colorbar\":{\"outlinewidth\":0,\"ticks\":\"\"},\"colorscale\":[[0.0,\"#0d0887\"],[0.1111111111111111,\"#46039f\"],[0.2222222222222222,\"#7201a8\"],[0.3333333333333333,\"#9c179e\"],[0.4444444444444444,\"#bd3786\"],[0.5555555555555556,\"#d8576b\"],[0.6666666666666666,\"#ed7953\"],[0.7777777777777778,\"#fb9f3a\"],[0.8888888888888888,\"#fdca26\"],[1.0,\"#f0f921\"]]}],\"mesh3d\":[{\"type\":\"mesh3d\",\"colorbar\":{\"outlinewidth\":0,\"ticks\":\"\"}}],\"scatter\":[{\"fillpattern\":{\"fillmode\":\"overlay\",\"size\":10,\"solidity\":0.2},\"type\":\"scatter\"}],\"parcoords\":[{\"type\":\"parcoords\",\"line\":{\"colorbar\":{\"outlinewidth\":0,\"ticks\":\"\"}}}],\"scatterpolargl\":[{\"type\":\"scatterpolargl\",\"marker\":{\"colorbar\":{\"outlinewidth\":0,\"ticks\":\"\"}}}],\"bar\":[{\"error_x\":{\"color\":\"#2a3f5f\"},\"error_y\":{\"color\":\"#2a3f5f\"},\"marker\":{\"line\":{\"color\":\"#E5ECF6\",\"width\":0.5},\"pattern\":{\"fillmode\":\"overlay\",\"size\":10,\"solidity\":0.2}},\"type\":\"bar\"}],\"scattergeo\":[{\"type\":\"scattergeo\",\"marker\":{\"colorbar\":{\"outlinewidth\":0,\"ticks\":\"\"}}}],\"scatterpolar\":[{\"type\":\"scatterpolar\",\"marker\":{\"colorbar\":{\"outlinewidth\":0,\"ticks\":\"\"}}}],\"histogram\":[{\"marker\":{\"pattern\":{\"fillmode\":\"overlay\",\"size\":10,\"solidity\":0.2}},\"type\":\"histogram\"}],\"scattergl\":[{\"type\":\"scattergl\",\"marker\":{\"colorbar\":{\"outlinewidth\":0,\"ticks\":\"\"}}}],\"scatter3d\":[{\"type\":\"scatter3d\",\"line\":{\"colorbar\":{\"outlinewidth\":0,\"ticks\":\"\"}},\"marker\":{\"colorbar\":{\"outlinewidth\":0,\"ticks\":\"\"}}}],\"scattermapbox\":[{\"type\":\"scattermapbox\",\"marker\":{\"colorbar\":{\"outlinewidth\":0,\"ticks\":\"\"}}}],\"scatterternary\":[{\"type\":\"scatterternary\",\"marker\":{\"colorbar\":{\"outlinewidth\":0,\"ticks\":\"\"}}}],\"scattercarpet\":[{\"type\":\"scattercarpet\",\"marker\":{\"colorbar\":{\"outlinewidth\":0,\"ticks\":\"\"}}}],\"carpet\":[{\"aaxis\":{\"endlinecolor\":\"#2a3f5f\",\"gridcolor\":\"white\",\"linecolor\":\"white\",\"minorgridcolor\":\"white\",\"startlinecolor\":\"#2a3f5f\"},\"baxis\":{\"endlinecolor\":\"#2a3f5f\",\"gridcolor\":\"white\",\"linecolor\":\"white\",\"minorgridcolor\":\"white\",\"startlinecolor\":\"#2a3f5f\"},\"type\":\"carpet\"}],\"table\":[{\"cells\":{\"fill\":{\"color\":\"#EBF0F8\"},\"line\":{\"color\":\"white\"}},\"header\":{\"fill\":{\"color\":\"#C8D4E3\"},\"line\":{\"color\":\"white\"}},\"type\":\"table\"}],\"barpolar\":[{\"marker\":{\"line\":{\"color\":\"#E5ECF6\",\"width\":0.5},\"pattern\":{\"fillmode\":\"overlay\",\"size\":10,\"solidity\":0.2}},\"type\":\"barpolar\"}],\"pie\":[{\"automargin\":true,\"type\":\"pie\"}]},\"layout\":{\"autotypenumbers\":\"strict\",\"colorway\":[\"#636efa\",\"#EF553B\",\"#00cc96\",\"#ab63fa\",\"#FFA15A\",\"#19d3f3\",\"#FF6692\",\"#B6E880\",\"#FF97FF\",\"#FECB52\"],\"font\":{\"color\":\"#2a3f5f\"},\"hovermode\":\"closest\",\"hoverlabel\":{\"align\":\"left\"},\"paper_bgcolor\":\"white\",\"plot_bgcolor\":\"#E5ECF6\",\"polar\":{\"bgcolor\":\"#E5ECF6\",\"angularaxis\":{\"gridcolor\":\"white\",\"linecolor\":\"white\",\"ticks\":\"\"},\"radialaxis\":{\"gridcolor\":\"white\",\"linecolor\":\"white\",\"ticks\":\"\"}},\"ternary\":{\"bgcolor\":\"#E5ECF6\",\"aaxis\":{\"gridcolor\":\"white\",\"linecolor\":\"white\",\"ticks\":\"\"},\"baxis\":{\"gridcolor\":\"white\",\"linecolor\":\"white\",\"ticks\":\"\"},\"caxis\":{\"gridcolor\":\"white\",\"linecolor\":\"white\",\"ticks\":\"\"}},\"coloraxis\":{\"colorbar\":{\"outlinewidth\":0,\"ticks\":\"\"}},\"colorscale\":{\"sequential\":[[0.0,\"#0d0887\"],[0.1111111111111111,\"#46039f\"],[0.2222222222222222,\"#7201a8\"],[0.3333333333333333,\"#9c179e\"],[0.4444444444444444,\"#bd3786\"],[0.5555555555555556,\"#d8576b\"],[0.6666666666666666,\"#ed7953\"],[0.7777777777777778,\"#fb9f3a\"],[0.8888888888888888,\"#fdca26\"],[1.0,\"#f0f921\"]],\"sequentialminus\":[[0.0,\"#0d0887\"],[0.1111111111111111,\"#46039f\"],[0.2222222222222222,\"#7201a8\"],[0.3333333333333333,\"#9c179e\"],[0.4444444444444444,\"#bd3786\"],[0.5555555555555556,\"#d8576b\"],[0.6666666666666666,\"#ed7953\"],[0.7777777777777778,\"#fb9f3a\"],[0.8888888888888888,\"#fdca26\"],[1.0,\"#f0f921\"]],\"diverging\":[[0,\"#8e0152\"],[0.1,\"#c51b7d\"],[0.2,\"#de77ae\"],[0.3,\"#f1b6da\"],[0.4,\"#fde0ef\"],[0.5,\"#f7f7f7\"],[0.6,\"#e6f5d0\"],[0.7,\"#b8e186\"],[0.8,\"#7fbc41\"],[0.9,\"#4d9221\"],[1,\"#276419\"]]},\"xaxis\":{\"gridcolor\":\"white\",\"linecolor\":\"white\",\"ticks\":\"\",\"title\":{\"standoff\":15},\"zerolinecolor\":\"white\",\"automargin\":true,\"zerolinewidth\":2},\"yaxis\":{\"gridcolor\":\"white\",\"linecolor\":\"white\",\"ticks\":\"\",\"title\":{\"standoff\":15},\"zerolinecolor\":\"white\",\"automargin\":true,\"zerolinewidth\":2},\"scene\":{\"xaxis\":{\"backgroundcolor\":\"#E5ECF6\",\"gridcolor\":\"white\",\"linecolor\":\"white\",\"showbackground\":true,\"ticks\":\"\",\"zerolinecolor\":\"white\",\"gridwidth\":2},\"yaxis\":{\"backgroundcolor\":\"#E5ECF6\",\"gridcolor\":\"white\",\"linecolor\":\"white\",\"showbackground\":true,\"ticks\":\"\",\"zerolinecolor\":\"white\",\"gridwidth\":2},\"zaxis\":{\"backgroundcolor\":\"#E5ECF6\",\"gridcolor\":\"white\",\"linecolor\":\"white\",\"showbackground\":true,\"ticks\":\"\",\"zerolinecolor\":\"white\",\"gridwidth\":2}},\"shapedefaults\":{\"line\":{\"color\":\"#2a3f5f\"}},\"annotationdefaults\":{\"arrowcolor\":\"#2a3f5f\",\"arrowhead\":0,\"arrowwidth\":1},\"geo\":{\"bgcolor\":\"white\",\"landcolor\":\"#E5ECF6\",\"subunitcolor\":\"white\",\"showland\":true,\"showlakes\":true,\"lakecolor\":\"white\"},\"title\":{\"x\":0.05},\"mapbox\":{\"style\":\"light\"}}},\"title\":{\"text\":\"Distribuci\\u00f3n de Ingresos con Curva de Kernel\"}},                        {\"responsive\": true}                    ).then(function(){\n",
              "                            \n",
              "var gd = document.getElementById('38fdf1d6-a82d-49f8-b558-37ead5f137f1');\n",
              "var x = new MutationObserver(function (mutations, observer) {{\n",
              "        var display = window.getComputedStyle(gd).display;\n",
              "        if (!display || display === 'none') {{\n",
              "            console.log([gd, 'removed!']);\n",
              "            Plotly.purge(gd);\n",
              "            observer.disconnect();\n",
              "        }}\n",
              "}});\n",
              "\n",
              "// Listen for the removal of the full notebook cells\n",
              "var notebookContainer = gd.closest('#notebook-container');\n",
              "if (notebookContainer) {{\n",
              "    x.observe(notebookContainer, {childList: true});\n",
              "}}\n",
              "\n",
              "// Listen for the clearing of the current output cell\n",
              "var outputEl = gd.closest('.output');\n",
              "if (outputEl) {{\n",
              "    x.observe(outputEl, {childList: true});\n",
              "}}\n",
              "\n",
              "                        })                };                            </script>        </div>\n",
              "</body>\n",
              "</html>"
            ]
          },
          "metadata": {}
        }
      ]
    },
    {
      "cell_type": "markdown",
      "source": [
        "Si quiero saber adicionalmente cuantas personas o grupos de edad tengo. Puedo hacer lo siguiente:"
      ],
      "metadata": {
        "id": "YLdXY3Yp-lq4"
      },
      "id": "YLdXY3Yp-lq4"
    },
    {
      "cell_type": "code",
      "source": [
        "# Calcular el conteo de edades\n",
        "conteo_edades = df['age'].value_counts().sort_index()\n",
        "print(conteo_edades)"
      ],
      "metadata": {
        "colab": {
          "base_uri": "https://localhost:8080/"
        },
        "id": "c3r7RhIn-aug",
        "outputId": "f6259d8a-6928-440c-86d7-d4be0f5880d6"
      },
      "id": "c3r7RhIn-aug",
      "execution_count": 56,
      "outputs": [
        {
          "output_type": "stream",
          "name": "stdout",
          "text": [
            "age\n",
            "28     45\n",
            "29     86\n",
            "30    120\n",
            "31     98\n",
            "32     99\n",
            "33     81\n",
            "34     69\n",
            "35     61\n",
            "36     95\n",
            "37     82\n",
            "38     99\n",
            "Name: count, dtype: int64\n"
          ]
        }
      ]
    },
    {
      "cell_type": "code",
      "source": [
        "import pandas as pd\n",
        "import statsmodels.formula.api as smf\n",
        "\n",
        "# Regresión:\n",
        "reg = smf.ols(formula='wage ~ hours + educ+ tenure + married', data=df)\n",
        "results = reg.fit()\n",
        "\n",
        "# Resumen de la salida\n",
        "print(f'results.summary(): \\n{results.summary()}\\n')\n",
        "\n",
        "# print regression table:\n",
        "tabla = pd.DataFrame({'b': round(results.params, 4),\n",
        "                      'se': round(results.bse, 4),\n",
        "                      't': round(results.tvalues, 4),\n",
        "                      'pval': round(results.pvalues, 4)})\n",
        "print(f'tabla del modelo: \\n{tabla}\\n')"
      ],
      "metadata": {
        "colab": {
          "base_uri": "https://localhost:8080/"
        },
        "id": "4s21VlnuV-ST",
        "outputId": "e1718734-f2de-484c-fe55-bea83701bacd"
      },
      "id": "4s21VlnuV-ST",
      "execution_count": 57,
      "outputs": [
        {
          "output_type": "stream",
          "name": "stdout",
          "text": [
            "results.summary(): \n",
            "                            OLS Regression Results                            \n",
            "==============================================================================\n",
            "Dep. Variable:                   wage   R-squared:                       0.150\n",
            "Model:                            OLS   Adj. R-squared:                  0.146\n",
            "Method:                 Least Squares   F-statistic:                     40.89\n",
            "Date:                Tue, 18 Jun 2024   Prob (F-statistic):           1.35e-31\n",
            "Time:                        15:26:10   Log-Likelihood:                -6862.6\n",
            "No. Observations:                 935   AIC:                         1.374e+04\n",
            "Df Residuals:                     930   BIC:                         1.376e+04\n",
            "Df Model:                           4                                         \n",
            "Covariance Type:            nonrobust                                         \n",
            "==============================================================================\n",
            "                 coef    std err          t      P>|t|      [0.025      0.975]\n",
            "------------------------------------------------------------------------------\n",
            "Intercept    -47.3019    110.448     -0.428      0.669    -264.058     169.454\n",
            "hours         -2.1580      1.703     -1.267      0.206      -5.501       1.185\n",
            "educ          63.3140      5.602     11.301      0.000      52.319      74.309\n",
            "tenure        10.1798      2.421      4.205      0.000       5.429      14.930\n",
            "married      194.4603     39.746      4.893      0.000     116.457     272.463\n",
            "==============================================================================\n",
            "Omnibus:                      239.378   Durbin-Watson:                   1.771\n",
            "Prob(Omnibus):                  0.000   Jarque-Bera (JB):              744.998\n",
            "Skew:                           1.247   Prob(JB):                    1.68e-162\n",
            "Kurtosis:                       6.593   Cond. No.                         429.\n",
            "==============================================================================\n",
            "\n",
            "Notes:\n",
            "[1] Standard Errors assume that the covariance matrix of the errors is correctly specified.\n",
            "\n",
            "tabla del modelo: \n",
            "                  b        se        t    pval\n",
            "Intercept  -47.3019  110.4480  -0.4283  0.6686\n",
            "hours       -2.1580    1.7035  -1.2668  0.2055\n",
            "educ        63.3140    5.6024  11.3011  0.0000\n",
            "tenure      10.1798    2.4206   4.2054  0.0000\n",
            "married    194.4603   39.7464   4.8925  0.0000\n",
            "\n"
          ]
        }
      ]
    },
    {
      "cell_type": "markdown",
      "source": [
        "### Pronostico\n",
        "Llegó la hora de la verdad!! queremos mirar que puede brindarnos un pronostico de acuerdo a ciertas carácteristicas que estamos controlando (observando) dentro de nuestro modelo y lograr sacar un resultado."
      ],
      "metadata": {
        "id": "dVgOhUgq-hm5"
      },
      "id": "dVgOhUgq-hm5"
    },
    {
      "cell_type": "code",
      "source": [
        "# Preparar los datos para la predicción:\n",
        "# Ejemplo de un nuevo conjunto de datos para hacer la predicción\n",
        "nuevos_datos = pd.DataFrame({\n",
        "    'hours': [40],    # Suponiendo que la persona trabaja 40 horas\n",
        "    'educ': [12],     # Suponiendo 12 años de educación\n",
        "    'tenure': [5],    # Suponiendo 5 años de antigüedad\n",
        "    'married': [1]    # Suponiendo que la persona está casada (1 para sí, 0 para no)\n",
        "})\n",
        "\n",
        "# Hacer la predicción\n",
        "prediccion = results.predict(nuevos_datos)\n",
        "\n",
        "print(f'Predicción del salario: Us${prediccion[0]}')"
      ],
      "metadata": {
        "colab": {
          "base_uri": "https://localhost:8080/"
        },
        "id": "4V0vXdfE-P9j",
        "outputId": "7c285d9f-ccd7-4387-b5b8-9b758906f69b"
      },
      "id": "4V0vXdfE-P9j",
      "execution_count": 60,
      "outputs": [
        {
          "output_type": "stream",
          "name": "stdout",
          "text": [
            "Predicción del salario: Us$871.5056989099936\n"
          ]
        }
      ]
    },
    {
      "cell_type": "markdown",
      "metadata": {
        "id": "d821e3a7"
      },
      "source": [
        "# Agradecimientos\n",
        "\n",
        "Al equipo de **K-ribe en Datos** de la Universidad del Norte y del departamento de economía, ademas a **Correlation one** y al Ministerio de la información y telecomunicaciones del Gobierno Nacional."
      ],
      "id": "d821e3a7"
    }
  ]
}